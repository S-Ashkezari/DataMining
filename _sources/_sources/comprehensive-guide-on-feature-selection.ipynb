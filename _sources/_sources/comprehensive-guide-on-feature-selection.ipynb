{
 "cells": [
  {
   "cell_type": "markdown",
   "metadata": {},
   "source": [
    "<a class=\"anchor\" id=\"0\"></a>\n",
    "# **Comprehensive Guide on Feature Selection**\n",
    "\n",
    "ref: https://www.kaggle.com/code/prashant111/comprehensive-guide-on-feature-selection\n",
    "\n",
    "\n",
    "**Feature Selection** is the process of selecting optimal number of features from a larger set of features. There are several advantages of this feature selection process and also there are various techniques available for this feature selection process. In this kernel, we will look at these advantages and various techniques for feature selection.\n",
    "\n",
    "\n",
    "So, let's get started."
   ]
  },
  {
   "cell_type": "markdown",
   "metadata": {},
   "source": [
    "This kernel is based on Soledad Galli's course - [Feature Selection for Machine Learning](https://www.udemy.com/course/feature-selection-for-machine-learning/)\n",
    "\n",
    "She had done a fabulous job in her above course wherein she had put all the major feature selection techniques together at one place. I have adapted code and instructions from her course in this kernel. I like to congratulate her for her excellent work."
   ]
  },
  {
   "cell_type": "markdown",
   "metadata": {},
   "source": [
    "<a class=\"anchor\" id=\"0.1\"></a>\n",
    "# **Table of Contents**\n",
    "\n",
    "\n",
    "1.\t[Introduction to Feature Selection](#1)\n",
    "2.\t[Filter Methods](#2)\n",
    "   - 2.1. [Basic Methods](#2.1)\n",
    "        - 2.1.1 [Remove Constant Features](#2.1.1)\n",
    "        - 2.1.2 [Remove Quasi-Constant Features](#2.1.2)\n",
    "   - 2.2 [Univariate Selection Methods](#2.2)\n",
    "        - 2.2.1 [SelectKBest](#2.2.1)\n",
    "        - 2.2.2 [SelectPercentile](#2.2.2)\n",
    "   - 2.3 [Information Gain](#2.3)\n",
    "   - 2.4 [Fisher Score (chi-square implementation)](#2.4)\n",
    "   - 2.5 [ANOVA F-Value for Feature Selection](#2.5)\n",
    "   - 2.6 [Correlation-Matrix with Heatmap](#2.6)\n",
    "   - 2.7 [Relief-based feature selection](#2.7)\n",
    "3.\t[Wrapper Methods](#3)\n",
    "   - 3.1 [Forward Selection](#3.1)\n",
    "   - 3.2 [Backward Elimination](#3.2)\n",
    "   - 3.3 [Exhaustive Feature Selection](#3.3)\n",
    "   - 3.4 [Recursive Feature Elimination](#3.4)\n",
    "   - 3.5 [Recursive Feature Elimination with Cross-Validation](#3.5)\n",
    "4. [Embedded Methods](#4)\n",
    "   - 4.1 [LASSO Regression](#4.1)\n",
    "   - 4.2 [Random Forest Importance](#4.2)\n",
    "5. [How to choose the right feature selection method](#5)\n",
    "6. [Tips and tricks for feature selection](#6)   \n",
    "7. [References](#7)"
   ]
  },
  {
   "cell_type": "markdown",
   "metadata": {},
   "source": [
    "# **1. Introduction to Feature Selection** <a class=\"anchor\" id=\"1\"></a>\n",
    "\n",
    "[Table of Contents](#0.1)\n",
    "\n",
    "\n",
    "## **Feature selection**\n",
    "\n",
    "- **Feature selection** or **variable selection** is the process of selecting a subset of relevant features or variables from the total features of a level in a data set to build machine learning algorithms. \n",
    "\n",
    "\n",
    "## **Advantages of selecting features**\n",
    "\n",
    "- There are various advantages of feature selection process. These are as follows:-\n",
    "\n",
    "  1.\tImproved accuracy\n",
    "  2.    Simple models are easier to interpret.\n",
    "  3.\tShorter training times\n",
    "  4.\tEnhanced generalization by reducing Overfitting\n",
    "  5.\tEasier to implement by software developers\n",
    "  6.\tReduced risk of data errors by model use\n",
    "  7.\tVariable redundancy\n",
    "  8.\tBad learning behaviour in high dimensional spaces\n",
    "  \n",
    "\n",
    "\n",
    "## **Feature Selection – Techniques**\n",
    "\n",
    "\n",
    "- Feature selection techniques are categorized into 3 typers. These are as follows:-\n",
    "\n",
    "  1.    Filter methods\n",
    "  2.\tWrapper methods\n",
    "  3.\tEmbedded methods\n",
    "  \n",
    "  \n",
    "  ![Feature Selection Methods](https://miro.medium.com/v2/resize:fit:1400/1*9h2qPmOJonbCdthfeVkuyg.jpeg)\n",
    "\n",
    "\n",
    "### Image source : miro.medium.com\n",
    "\n",
    "  \n",
    "  \n",
    "  \n",
    "  \n",
    "  \n",
    "## **Filter Methods**\n",
    "\n",
    "- Filter methods consists of various techniques as given below:-\n",
    "\n",
    "  1.    Basic methods\n",
    "  2.    Univariate methods\n",
    "  3.    Information gain\n",
    "  4.    Fischer score\n",
    "  5.    Correlation Matrix with Heatmap\n",
    "  \n",
    "  \n",
    "## **Wrapper Methods**\n",
    "\n",
    "- Wrapper methods consists of the following techniques:-\n",
    "\n",
    "  1.    Forward Selection\n",
    "  2.    Backward Elimination\n",
    "  3.    Exhaustive Feature Selection\n",
    "  4.    Recursive Feature Elimination\n",
    "  5.    Recursive Feature Elimination with Cross-Validation\n",
    "  \n",
    "  \n",
    "  \n",
    "## **Embedded Methods**\n",
    "\n",
    "- Embedded methods consists of the following techniques:-\n",
    "\n",
    "  1.   LASSO\n",
    "  2.   RIDGE\n",
    "  3.   Tree Importance\n",
    "  \n",
    "  \n",
    "- Now, we will discuss these methods in detail.\n"
   ]
  },
  {
   "cell_type": "markdown",
   "metadata": {},
   "source": [
    "# **2. Filter Methods** <a class=\"anchor\" id=\"2\"></a>\n",
    "\n",
    "[Table of Contents](#0.1)\n",
    "\n",
    "\n",
    "- Filter methods are generally used as a preprocessing step. The selection of features is independent of any machine learning algorithms. Instead, features are selected on the basis of their scores in various statistical tests for their correlation with the outcome variable. The characteristics of these methods are as follows:-\n",
    "\n",
    "  - These methods rely on the characteristics of the data (feature characteristics)\n",
    "  - They do not use machine learning algorithms.\n",
    "  - These are model agnostic.\n",
    "  - They tend to be less computationally expensive.\n",
    "  - They usually give lower prediction performance than wrapper methods.\n",
    "  - They are very well suited for a quick screen and removal of irrelevant features.\n",
    "  \n",
    "  \n",
    " - Filter methods consists of various techniques as given below:-\n",
    "\n",
    "   -  2.1.    Basic methods\n",
    "   -  2.2.    Univariate feature selection\n",
    "   -  2.3.    Information gain\n",
    "   -  2.4.    Fischer score\n",
    "   -  2.5.     ANOVA F-Value for Feature Selection\n",
    "   -  2.6.    Correlation Matrix with Heatmap  \n",
    "  \n",
    "- Filter methods can be explained with the help of following graphic:"
   ]
  },
  {
   "cell_type": "markdown",
   "metadata": {},
   "source": [
    "<center>\n",
    "<img src = \"https://res.cloudinary.com/dyd911kmh/image/upload/f_auto,q_auto:best/v1537552825/Image3_fqsh79.png\"  width = \"700\"/>\n",
    "\n",
    "</center>\n",
    "### Image source : AnalyticsVidhya"
   ]
  },
  {
   "cell_type": "markdown",
   "metadata": {},
   "source": [
    "## **2.1 Basic methods** <a class=\"anchor\" id=\"2.1\"></a>\n",
    "\n",
    "[Table of Contents](#0.1)\n",
    "\n",
    "\n",
    "- Under basic methods, we remove constant and quasi-constant features."
   ]
  },
  {
   "cell_type": "markdown",
   "metadata": {},
   "source": [
    "## **2.1.1 Remove constant features** <a class=\"anchor\" id=\"2.1.1\"></a>\n",
    "\n",
    "[Table of Contents](#0.1)\n",
    "\n",
    "- Constant features are those that show the same value, just one value, for all the observations of the dataset. This is, the same value for all the rows of the dataset. These features provide no information that allows a machine learning model to discriminate or predict a target.\n",
    "\n",
    "- Identifying and removing constant features, is an easy first step towards feature selection and more easily interpretable machine learning models. To identify constant features, we can use the VarianceThreshold function from sklearn.\n",
    "\n",
    "- I will demonstrate how to identify constant features using the Santander Customer Satisfaction dataset from Kaggle.\n",
    "\n",
    "- Source :\n",
    "\n",
    "- https://scikit-learn.org/stable/modules/generated/sklearn.feature_selection.VarianceThreshold.html\n",
    "\n",
    "- https://scikit-learn.org/stable/modules/feature_selection.html"
   ]
  },
  {
   "cell_type": "code",
   "execution_count": 1,
   "metadata": {
    "execution": {
     "iopub.execute_input": "2024-04-05T18:55:23.076964Z",
     "iopub.status.busy": "2024-04-05T18:55:23.076517Z",
     "iopub.status.idle": "2024-04-05T18:55:25.069642Z",
     "shell.execute_reply": "2024-04-05T18:55:25.067761Z",
     "shell.execute_reply.started": "2024-04-05T18:55:23.076900Z"
    }
   },
   "outputs": [
    {
     "name": "stdout",
     "output_type": "stream",
     "text": [
      "/kaggle/input/house-prices-advanced-regression-techniques/sample_submission.csv\n",
      "/kaggle/input/house-prices-advanced-regression-techniques/data_description.txt\n",
      "/kaggle/input/house-prices-advanced-regression-techniques/train.csv\n",
      "/kaggle/input/house-prices-advanced-regression-techniques/test.csv\n",
      "/kaggle/input/santander-customer-satisfaction/sample_submission.csv\n",
      "/kaggle/input/santander-customer-satisfaction/train.csv\n",
      "/kaggle/input/santander-customer-satisfaction/test.csv\n",
      "/kaggle/input/mushroom-classification/mushrooms.csv\n"
     ]
    }
   ],
   "source": [
    "# This Python 3 environment comes with many helpful analytics libraries installed\n",
    "# It is defined by the kaggle/python docker image: https://github.com/kaggle/docker-python\n",
    "# For example, here's several helpful packages to load in \n",
    "\n",
    "import numpy as np # linear algebra\n",
    "import pandas as pd # data processing, CSV file I/O (e.g. pd.read_csv)\n",
    "import matplotlib.pyplot as plt\n",
    "import seaborn as sns\n",
    "\n",
    "# Input data files are available in the \"../input/\" directory.\n",
    "# For example, running this (by clicking run or pressing Shift+Enter) will list all files under the input directory\n",
    "\n",
    "import os\n",
    "for dirname, _, filenames in os.walk('/kaggle/input'):\n",
    "    for filename in filenames:\n",
    "        print(os.path.join(dirname, filename))\n",
    "\n",
    "# Any results you write to the current directory are saved as output.\n"
   ]
  },
  {
   "cell_type": "code",
   "execution_count": 2,
   "metadata": {
    "execution": {
     "iopub.execute_input": "2024-04-05T18:55:33.824509Z",
     "iopub.status.busy": "2024-04-05T18:55:33.824052Z",
     "iopub.status.idle": "2024-04-05T18:55:33.831611Z",
     "shell.execute_reply": "2024-04-05T18:55:33.829685Z",
     "shell.execute_reply.started": "2024-04-05T18:55:33.824440Z"
    }
   },
   "outputs": [],
   "source": [
    "# ignore warnings\n",
    "\n",
    "import warnings\n",
    "warnings.filterwarnings('ignore')"
   ]
  },
  {
   "cell_type": "code",
   "execution_count": 3,
   "metadata": {
    "execution": {
     "iopub.execute_input": "2024-04-05T18:55:38.111816Z",
     "iopub.status.busy": "2024-04-05T18:55:38.111360Z",
     "iopub.status.idle": "2024-04-05T18:55:40.588728Z",
     "shell.execute_reply": "2024-04-05T18:55:40.587579Z",
     "shell.execute_reply.started": "2024-04-05T18:55:38.111743Z"
    }
   },
   "outputs": [],
   "source": [
    "# import the Santander customer satisfaction dataset from Kaggle\n",
    "\n",
    "X_train = pd.read_csv('/kaggle/input/santander-customer-satisfaction/train.csv', nrows=35000)\n",
    "\n",
    "X_test = pd.read_csv('/kaggle/input/santander-customer-satisfaction/test.csv', nrows=15000)"
   ]
  },
  {
   "cell_type": "code",
   "execution_count": 4,
   "metadata": {
    "execution": {
     "iopub.execute_input": "2024-04-05T18:55:44.535739Z",
     "iopub.status.busy": "2024-04-05T18:55:44.535323Z",
     "iopub.status.idle": "2024-04-05T18:55:44.616898Z",
     "shell.execute_reply": "2024-04-05T18:55:44.615553Z",
     "shell.execute_reply.started": "2024-04-05T18:55:44.535679Z"
    }
   },
   "outputs": [
    {
     "data": {
      "text/html": [
       "<div>\n",
       "<style scoped>\n",
       "    .dataframe tbody tr th:only-of-type {\n",
       "        vertical-align: middle;\n",
       "    }\n",
       "\n",
       "    .dataframe tbody tr th {\n",
       "        vertical-align: top;\n",
       "    }\n",
       "\n",
       "    .dataframe thead th {\n",
       "        text-align: right;\n",
       "    }\n",
       "</style>\n",
       "<table border=\"1\" class=\"dataframe\">\n",
       "  <thead>\n",
       "    <tr style=\"text-align: right;\">\n",
       "      <th></th>\n",
       "      <th>ID</th>\n",
       "      <th>var3</th>\n",
       "      <th>var15</th>\n",
       "      <th>imp_ent_var16_ult1</th>\n",
       "      <th>imp_op_var39_comer_ult1</th>\n",
       "      <th>imp_op_var39_comer_ult3</th>\n",
       "      <th>imp_op_var40_comer_ult1</th>\n",
       "      <th>imp_op_var40_comer_ult3</th>\n",
       "      <th>imp_op_var40_efect_ult1</th>\n",
       "      <th>imp_op_var40_efect_ult3</th>\n",
       "      <th>...</th>\n",
       "      <th>saldo_medio_var33_hace2</th>\n",
       "      <th>saldo_medio_var33_hace3</th>\n",
       "      <th>saldo_medio_var33_ult1</th>\n",
       "      <th>saldo_medio_var33_ult3</th>\n",
       "      <th>saldo_medio_var44_hace2</th>\n",
       "      <th>saldo_medio_var44_hace3</th>\n",
       "      <th>saldo_medio_var44_ult1</th>\n",
       "      <th>saldo_medio_var44_ult3</th>\n",
       "      <th>var38</th>\n",
       "      <th>TARGET</th>\n",
       "    </tr>\n",
       "  </thead>\n",
       "  <tbody>\n",
       "    <tr>\n",
       "      <th>0</th>\n",
       "      <td>1</td>\n",
       "      <td>2</td>\n",
       "      <td>23</td>\n",
       "      <td>0.0</td>\n",
       "      <td>0.00</td>\n",
       "      <td>0.00</td>\n",
       "      <td>0.0</td>\n",
       "      <td>0.0</td>\n",
       "      <td>0.0</td>\n",
       "      <td>0.0</td>\n",
       "      <td>...</td>\n",
       "      <td>0.0</td>\n",
       "      <td>0.0</td>\n",
       "      <td>0.0</td>\n",
       "      <td>0.0</td>\n",
       "      <td>0.0</td>\n",
       "      <td>0.0</td>\n",
       "      <td>0.0</td>\n",
       "      <td>0.0</td>\n",
       "      <td>39205.170000</td>\n",
       "      <td>0</td>\n",
       "    </tr>\n",
       "    <tr>\n",
       "      <th>1</th>\n",
       "      <td>3</td>\n",
       "      <td>2</td>\n",
       "      <td>34</td>\n",
       "      <td>0.0</td>\n",
       "      <td>0.00</td>\n",
       "      <td>0.00</td>\n",
       "      <td>0.0</td>\n",
       "      <td>0.0</td>\n",
       "      <td>0.0</td>\n",
       "      <td>0.0</td>\n",
       "      <td>...</td>\n",
       "      <td>0.0</td>\n",
       "      <td>0.0</td>\n",
       "      <td>0.0</td>\n",
       "      <td>0.0</td>\n",
       "      <td>0.0</td>\n",
       "      <td>0.0</td>\n",
       "      <td>0.0</td>\n",
       "      <td>0.0</td>\n",
       "      <td>49278.030000</td>\n",
       "      <td>0</td>\n",
       "    </tr>\n",
       "    <tr>\n",
       "      <th>2</th>\n",
       "      <td>4</td>\n",
       "      <td>2</td>\n",
       "      <td>23</td>\n",
       "      <td>0.0</td>\n",
       "      <td>0.00</td>\n",
       "      <td>0.00</td>\n",
       "      <td>0.0</td>\n",
       "      <td>0.0</td>\n",
       "      <td>0.0</td>\n",
       "      <td>0.0</td>\n",
       "      <td>...</td>\n",
       "      <td>0.0</td>\n",
       "      <td>0.0</td>\n",
       "      <td>0.0</td>\n",
       "      <td>0.0</td>\n",
       "      <td>0.0</td>\n",
       "      <td>0.0</td>\n",
       "      <td>0.0</td>\n",
       "      <td>0.0</td>\n",
       "      <td>67333.770000</td>\n",
       "      <td>0</td>\n",
       "    </tr>\n",
       "    <tr>\n",
       "      <th>3</th>\n",
       "      <td>8</td>\n",
       "      <td>2</td>\n",
       "      <td>37</td>\n",
       "      <td>0.0</td>\n",
       "      <td>195.00</td>\n",
       "      <td>195.00</td>\n",
       "      <td>0.0</td>\n",
       "      <td>0.0</td>\n",
       "      <td>0.0</td>\n",
       "      <td>0.0</td>\n",
       "      <td>...</td>\n",
       "      <td>0.0</td>\n",
       "      <td>0.0</td>\n",
       "      <td>0.0</td>\n",
       "      <td>0.0</td>\n",
       "      <td>0.0</td>\n",
       "      <td>0.0</td>\n",
       "      <td>0.0</td>\n",
       "      <td>0.0</td>\n",
       "      <td>64007.970000</td>\n",
       "      <td>0</td>\n",
       "    </tr>\n",
       "    <tr>\n",
       "      <th>4</th>\n",
       "      <td>10</td>\n",
       "      <td>2</td>\n",
       "      <td>39</td>\n",
       "      <td>0.0</td>\n",
       "      <td>0.00</td>\n",
       "      <td>0.00</td>\n",
       "      <td>0.0</td>\n",
       "      <td>0.0</td>\n",
       "      <td>0.0</td>\n",
       "      <td>0.0</td>\n",
       "      <td>...</td>\n",
       "      <td>0.0</td>\n",
       "      <td>0.0</td>\n",
       "      <td>0.0</td>\n",
       "      <td>0.0</td>\n",
       "      <td>0.0</td>\n",
       "      <td>0.0</td>\n",
       "      <td>0.0</td>\n",
       "      <td>0.0</td>\n",
       "      <td>117310.979016</td>\n",
       "      <td>0</td>\n",
       "    </tr>\n",
       "    <tr>\n",
       "      <th>...</th>\n",
       "      <td>...</td>\n",
       "      <td>...</td>\n",
       "      <td>...</td>\n",
       "      <td>...</td>\n",
       "      <td>...</td>\n",
       "      <td>...</td>\n",
       "      <td>...</td>\n",
       "      <td>...</td>\n",
       "      <td>...</td>\n",
       "      <td>...</td>\n",
       "      <td>...</td>\n",
       "      <td>...</td>\n",
       "      <td>...</td>\n",
       "      <td>...</td>\n",
       "      <td>...</td>\n",
       "      <td>...</td>\n",
       "      <td>...</td>\n",
       "      <td>...</td>\n",
       "      <td>...</td>\n",
       "      <td>...</td>\n",
       "      <td>...</td>\n",
       "    </tr>\n",
       "    <tr>\n",
       "      <th>34995</th>\n",
       "      <td>69974</td>\n",
       "      <td>2</td>\n",
       "      <td>48</td>\n",
       "      <td>0.0</td>\n",
       "      <td>0.00</td>\n",
       "      <td>0.00</td>\n",
       "      <td>0.0</td>\n",
       "      <td>0.0</td>\n",
       "      <td>0.0</td>\n",
       "      <td>0.0</td>\n",
       "      <td>...</td>\n",
       "      <td>0.0</td>\n",
       "      <td>0.0</td>\n",
       "      <td>0.0</td>\n",
       "      <td>0.0</td>\n",
       "      <td>0.0</td>\n",
       "      <td>0.0</td>\n",
       "      <td>0.0</td>\n",
       "      <td>0.0</td>\n",
       "      <td>98642.430000</td>\n",
       "      <td>1</td>\n",
       "    </tr>\n",
       "    <tr>\n",
       "      <th>34996</th>\n",
       "      <td>69976</td>\n",
       "      <td>2</td>\n",
       "      <td>65</td>\n",
       "      <td>0.0</td>\n",
       "      <td>0.00</td>\n",
       "      <td>0.00</td>\n",
       "      <td>0.0</td>\n",
       "      <td>0.0</td>\n",
       "      <td>0.0</td>\n",
       "      <td>0.0</td>\n",
       "      <td>...</td>\n",
       "      <td>0.0</td>\n",
       "      <td>0.0</td>\n",
       "      <td>0.0</td>\n",
       "      <td>0.0</td>\n",
       "      <td>0.0</td>\n",
       "      <td>0.0</td>\n",
       "      <td>0.0</td>\n",
       "      <td>0.0</td>\n",
       "      <td>128930.100000</td>\n",
       "      <td>0</td>\n",
       "    </tr>\n",
       "    <tr>\n",
       "      <th>34997</th>\n",
       "      <td>69977</td>\n",
       "      <td>2</td>\n",
       "      <td>23</td>\n",
       "      <td>0.0</td>\n",
       "      <td>0.00</td>\n",
       "      <td>0.00</td>\n",
       "      <td>0.0</td>\n",
       "      <td>0.0</td>\n",
       "      <td>0.0</td>\n",
       "      <td>0.0</td>\n",
       "      <td>...</td>\n",
       "      <td>0.0</td>\n",
       "      <td>0.0</td>\n",
       "      <td>0.0</td>\n",
       "      <td>0.0</td>\n",
       "      <td>0.0</td>\n",
       "      <td>0.0</td>\n",
       "      <td>0.0</td>\n",
       "      <td>0.0</td>\n",
       "      <td>117310.979016</td>\n",
       "      <td>0</td>\n",
       "    </tr>\n",
       "    <tr>\n",
       "      <th>34998</th>\n",
       "      <td>69981</td>\n",
       "      <td>2</td>\n",
       "      <td>28</td>\n",
       "      <td>0.0</td>\n",
       "      <td>0.00</td>\n",
       "      <td>0.00</td>\n",
       "      <td>0.0</td>\n",
       "      <td>0.0</td>\n",
       "      <td>0.0</td>\n",
       "      <td>0.0</td>\n",
       "      <td>...</td>\n",
       "      <td>0.0</td>\n",
       "      <td>0.0</td>\n",
       "      <td>0.0</td>\n",
       "      <td>0.0</td>\n",
       "      <td>0.0</td>\n",
       "      <td>0.0</td>\n",
       "      <td>0.0</td>\n",
       "      <td>0.0</td>\n",
       "      <td>114747.060000</td>\n",
       "      <td>0</td>\n",
       "    </tr>\n",
       "    <tr>\n",
       "      <th>34999</th>\n",
       "      <td>69982</td>\n",
       "      <td>2</td>\n",
       "      <td>23</td>\n",
       "      <td>45.0</td>\n",
       "      <td>25.71</td>\n",
       "      <td>42.27</td>\n",
       "      <td>0.0</td>\n",
       "      <td>0.0</td>\n",
       "      <td>0.0</td>\n",
       "      <td>0.0</td>\n",
       "      <td>...</td>\n",
       "      <td>0.0</td>\n",
       "      <td>0.0</td>\n",
       "      <td>0.0</td>\n",
       "      <td>0.0</td>\n",
       "      <td>0.0</td>\n",
       "      <td>0.0</td>\n",
       "      <td>0.0</td>\n",
       "      <td>0.0</td>\n",
       "      <td>117310.979016</td>\n",
       "      <td>0</td>\n",
       "    </tr>\n",
       "  </tbody>\n",
       "</table>\n",
       "<p>35000 rows × 371 columns</p>\n",
       "</div>"
      ],
      "text/plain": [
       "          ID  var3  var15  imp_ent_var16_ult1  imp_op_var39_comer_ult1  \\\n",
       "0          1     2     23                 0.0                     0.00   \n",
       "1          3     2     34                 0.0                     0.00   \n",
       "2          4     2     23                 0.0                     0.00   \n",
       "3          8     2     37                 0.0                   195.00   \n",
       "4         10     2     39                 0.0                     0.00   \n",
       "...      ...   ...    ...                 ...                      ...   \n",
       "34995  69974     2     48                 0.0                     0.00   \n",
       "34996  69976     2     65                 0.0                     0.00   \n",
       "34997  69977     2     23                 0.0                     0.00   \n",
       "34998  69981     2     28                 0.0                     0.00   \n",
       "34999  69982     2     23                45.0                    25.71   \n",
       "\n",
       "       imp_op_var39_comer_ult3  imp_op_var40_comer_ult1  \\\n",
       "0                         0.00                      0.0   \n",
       "1                         0.00                      0.0   \n",
       "2                         0.00                      0.0   \n",
       "3                       195.00                      0.0   \n",
       "4                         0.00                      0.0   \n",
       "...                        ...                      ...   \n",
       "34995                     0.00                      0.0   \n",
       "34996                     0.00                      0.0   \n",
       "34997                     0.00                      0.0   \n",
       "34998                     0.00                      0.0   \n",
       "34999                    42.27                      0.0   \n",
       "\n",
       "       imp_op_var40_comer_ult3  imp_op_var40_efect_ult1  \\\n",
       "0                          0.0                      0.0   \n",
       "1                          0.0                      0.0   \n",
       "2                          0.0                      0.0   \n",
       "3                          0.0                      0.0   \n",
       "4                          0.0                      0.0   \n",
       "...                        ...                      ...   \n",
       "34995                      0.0                      0.0   \n",
       "34996                      0.0                      0.0   \n",
       "34997                      0.0                      0.0   \n",
       "34998                      0.0                      0.0   \n",
       "34999                      0.0                      0.0   \n",
       "\n",
       "       imp_op_var40_efect_ult3  ...  saldo_medio_var33_hace2  \\\n",
       "0                          0.0  ...                      0.0   \n",
       "1                          0.0  ...                      0.0   \n",
       "2                          0.0  ...                      0.0   \n",
       "3                          0.0  ...                      0.0   \n",
       "4                          0.0  ...                      0.0   \n",
       "...                        ...  ...                      ...   \n",
       "34995                      0.0  ...                      0.0   \n",
       "34996                      0.0  ...                      0.0   \n",
       "34997                      0.0  ...                      0.0   \n",
       "34998                      0.0  ...                      0.0   \n",
       "34999                      0.0  ...                      0.0   \n",
       "\n",
       "       saldo_medio_var33_hace3  saldo_medio_var33_ult1  \\\n",
       "0                          0.0                     0.0   \n",
       "1                          0.0                     0.0   \n",
       "2                          0.0                     0.0   \n",
       "3                          0.0                     0.0   \n",
       "4                          0.0                     0.0   \n",
       "...                        ...                     ...   \n",
       "34995                      0.0                     0.0   \n",
       "34996                      0.0                     0.0   \n",
       "34997                      0.0                     0.0   \n",
       "34998                      0.0                     0.0   \n",
       "34999                      0.0                     0.0   \n",
       "\n",
       "       saldo_medio_var33_ult3  saldo_medio_var44_hace2  \\\n",
       "0                         0.0                      0.0   \n",
       "1                         0.0                      0.0   \n",
       "2                         0.0                      0.0   \n",
       "3                         0.0                      0.0   \n",
       "4                         0.0                      0.0   \n",
       "...                       ...                      ...   \n",
       "34995                     0.0                      0.0   \n",
       "34996                     0.0                      0.0   \n",
       "34997                     0.0                      0.0   \n",
       "34998                     0.0                      0.0   \n",
       "34999                     0.0                      0.0   \n",
       "\n",
       "       saldo_medio_var44_hace3  saldo_medio_var44_ult1  \\\n",
       "0                          0.0                     0.0   \n",
       "1                          0.0                     0.0   \n",
       "2                          0.0                     0.0   \n",
       "3                          0.0                     0.0   \n",
       "4                          0.0                     0.0   \n",
       "...                        ...                     ...   \n",
       "34995                      0.0                     0.0   \n",
       "34996                      0.0                     0.0   \n",
       "34997                      0.0                     0.0   \n",
       "34998                      0.0                     0.0   \n",
       "34999                      0.0                     0.0   \n",
       "\n",
       "       saldo_medio_var44_ult3          var38  TARGET  \n",
       "0                         0.0   39205.170000       0  \n",
       "1                         0.0   49278.030000       0  \n",
       "2                         0.0   67333.770000       0  \n",
       "3                         0.0   64007.970000       0  \n",
       "4                         0.0  117310.979016       0  \n",
       "...                       ...            ...     ...  \n",
       "34995                     0.0   98642.430000       1  \n",
       "34996                     0.0  128930.100000       0  \n",
       "34997                     0.0  117310.979016       0  \n",
       "34998                     0.0  114747.060000       0  \n",
       "34999                     0.0  117310.979016       0  \n",
       "\n",
       "[35000 rows x 371 columns]"
      ]
     },
     "execution_count": 4,
     "metadata": {},
     "output_type": "execute_result"
    }
   ],
   "source": [
    "X_train"
   ]
  },
  {
   "cell_type": "code",
   "execution_count": 5,
   "metadata": {
    "_kg_hide-input": false,
    "execution": {
     "iopub.execute_input": "2024-04-05T18:55:53.136171Z",
     "iopub.status.busy": "2024-04-05T18:55:53.135716Z",
     "iopub.status.idle": "2024-04-05T18:55:53.233403Z",
     "shell.execute_reply": "2024-04-05T18:55:53.231470Z",
     "shell.execute_reply.started": "2024-04-05T18:55:53.136093Z"
    }
   },
   "outputs": [],
   "source": [
    "# drop TARGET label from X_train\n",
    "\n",
    "X_train.drop(labels=['TARGET'], axis=1, inplace = True)"
   ]
  },
  {
   "cell_type": "code",
   "execution_count": 6,
   "metadata": {
    "execution": {
     "iopub.execute_input": "2024-04-05T18:55:56.670169Z",
     "iopub.status.busy": "2024-04-05T18:55:56.669728Z",
     "iopub.status.idle": "2024-04-05T18:55:56.678481Z",
     "shell.execute_reply": "2024-04-05T18:55:56.677222Z",
     "shell.execute_reply.started": "2024-04-05T18:55:56.670105Z"
    }
   },
   "outputs": [
    {
     "data": {
      "text/plain": [
       "((35000, 370), (15000, 370))"
      ]
     },
     "execution_count": 6,
     "metadata": {},
     "output_type": "execute_result"
    }
   ],
   "source": [
    "# check shape of training and test sets\n",
    "\n",
    "X_train.shape, X_test.shape"
   ]
  },
  {
   "cell_type": "markdown",
   "metadata": {},
   "source": [
    "### **Important**\n",
    "\n",
    "- In all feature selection procedures, it is good practice to select the features by examining only the training set. This is done to avoid overfitting."
   ]
  },
  {
   "cell_type": "markdown",
   "metadata": {},
   "source": [
    "### **Using variance threshold from sklearn**\n",
    "\n",
    "- Variance threshold from sklearn is a simple baseline approach to feature selection. It removes all features which variance doesn’t meet some threshold. By default, it removes all zero-variance features, i.e., features that have the same value in all samples."
   ]
  },
  {
   "cell_type": "markdown",
   "metadata": {},
   "source": [
    "As remember, variance ralation is\n",
    "<font size = \"4\">\n",
    "        $$\\sigma^2 = \\frac{1}{n} \\sum_{i=1}^n (x_i - \\bar{x})^2$$\n",
    "</font>"
   ]
  },
  {
   "cell_type": "markdown",
   "metadata": {},
   "source": [
    "As a simple example, suppose that we have a dataset with boolean features, and we want to remove all features that are either one or zero (on or off) in more than 80% of the samples. Boolean features are Bernoulli random variables, and the variance of such variables is given by\n",
    "\n",
    "        var(x)=p(1-p)\n",
    "        \n",
    "so we can select using the threshold .8 * (1 - .8):"
   ]
  },
  {
   "cell_type": "code",
   "execution_count": 7,
   "metadata": {
    "execution": {
     "iopub.execute_input": "2024-04-05T18:57:10.373709Z",
     "iopub.status.busy": "2024-04-05T18:57:10.373310Z",
     "iopub.status.idle": "2024-04-05T18:57:12.386920Z",
     "shell.execute_reply": "2024-04-05T18:57:12.385255Z",
     "shell.execute_reply.started": "2024-04-05T18:57:10.373646Z"
    }
   },
   "outputs": [
    {
     "data": {
      "text/plain": [
       "array([[0, 1],\n",
       "       [1, 0],\n",
       "       [0, 0],\n",
       "       [1, 1],\n",
       "       [1, 0],\n",
       "       [1, 1]])"
      ]
     },
     "execution_count": 7,
     "metadata": {},
     "output_type": "execute_result"
    }
   ],
   "source": [
    "from sklearn.feature_selection import VarianceThreshold\n",
    "X = [[0, 0, 1], [0, 1, 0], [1, 0, 0], [0, 1, 1], [0, 1, 0], [0, 1, 1]]\n",
    "sel = VarianceThreshold(threshold=(.8 * (1 - .8)))\n",
    "sel.fit_transform(X)"
   ]
  },
  {
   "cell_type": "code",
   "execution_count": 8,
   "metadata": {
    "execution": {
     "iopub.execute_input": "2024-04-05T18:57:19.470741Z",
     "iopub.status.busy": "2024-04-05T18:57:19.470318Z",
     "iopub.status.idle": "2024-04-05T18:57:19.623317Z",
     "shell.execute_reply": "2024-04-05T18:57:19.621925Z",
     "shell.execute_reply.started": "2024-04-05T18:57:19.470679Z"
    }
   },
   "outputs": [
    {
     "data": {
      "text/plain": [
       "VarianceThreshold(threshold=0)"
      ]
     },
     "execution_count": 8,
     "metadata": {},
     "output_type": "execute_result"
    }
   ],
   "source": [
    "# using sklearn variancethreshold to find constant features\n",
    "\n",
    "from sklearn.feature_selection import VarianceThreshold\n",
    "sel = VarianceThreshold(threshold=0)\n",
    "sel.fit(X_train)  # fit finds the features with zero variance"
   ]
  },
  {
   "cell_type": "code",
   "execution_count": 13,
   "metadata": {
    "execution": {
     "iopub.execute_input": "2024-03-21T13:07:50.198189Z",
     "iopub.status.busy": "2024-03-21T13:07:50.197850Z",
     "iopub.status.idle": "2024-03-21T13:07:50.205867Z",
     "shell.execute_reply": "2024-03-21T13:07:50.204905Z",
     "shell.execute_reply.started": "2024-03-21T13:07:50.198128Z"
    }
   },
   "outputs": [
    {
     "data": {
      "text/plain": [
       "319"
      ]
     },
     "execution_count": 13,
     "metadata": {},
     "output_type": "execute_result"
    }
   ],
   "source": [
    "# get_support is a boolean vector that indicates which features are retained\n",
    "# if we sum over get_support, we get the number of features that are not constant\n",
    "sum(sel.get_support())"
   ]
  },
  {
   "cell_type": "code",
   "execution_count": 14,
   "metadata": {
    "execution": {
     "iopub.execute_input": "2024-03-21T13:08:09.961220Z",
     "iopub.status.busy": "2024-03-21T13:08:09.960778Z",
     "iopub.status.idle": "2024-03-21T13:08:09.968690Z",
     "shell.execute_reply": "2024-03-21T13:08:09.967290Z",
     "shell.execute_reply.started": "2024-03-21T13:08:09.961138Z"
    }
   },
   "outputs": [
    {
     "data": {
      "text/plain": [
       "319"
      ]
     },
     "execution_count": 14,
     "metadata": {},
     "output_type": "execute_result"
    }
   ],
   "source": [
    "# alternate way of finding non-constant features\n",
    "len(X_train.columns[sel.get_support()])"
   ]
  },
  {
   "cell_type": "code",
   "execution_count": 15,
   "metadata": {
    "execution": {
     "iopub.execute_input": "2024-03-21T13:08:19.273276Z",
     "iopub.status.busy": "2024-03-21T13:08:19.272952Z",
     "iopub.status.idle": "2024-03-21T13:08:19.335475Z",
     "shell.execute_reply": "2024-03-21T13:08:19.334604Z",
     "shell.execute_reply.started": "2024-03-21T13:08:19.273226Z"
    }
   },
   "outputs": [
    {
     "name": "stdout",
     "output_type": "stream",
     "text": [
      "51\n"
     ]
    },
    {
     "data": {
      "text/plain": [
       "['ind_var2_0',\n",
       " 'ind_var2',\n",
       " 'ind_var18_0',\n",
       " 'ind_var18',\n",
       " 'ind_var27_0',\n",
       " 'ind_var28_0',\n",
       " 'ind_var28',\n",
       " 'ind_var27',\n",
       " 'ind_var34_0',\n",
       " 'ind_var34',\n",
       " 'ind_var41',\n",
       " 'ind_var46_0',\n",
       " 'ind_var46',\n",
       " 'num_var18_0',\n",
       " 'num_var18',\n",
       " 'num_var27_0',\n",
       " 'num_var28_0',\n",
       " 'num_var28',\n",
       " 'num_var27',\n",
       " 'num_var34_0',\n",
       " 'num_var34',\n",
       " 'num_var41',\n",
       " 'num_var46_0',\n",
       " 'num_var46',\n",
       " 'saldo_var18',\n",
       " 'saldo_var28',\n",
       " 'saldo_var27',\n",
       " 'saldo_var34',\n",
       " 'saldo_var41',\n",
       " 'saldo_var46',\n",
       " 'delta_imp_amort_var18_1y3',\n",
       " 'delta_imp_amort_var34_1y3',\n",
       " 'imp_amort_var18_hace3',\n",
       " 'imp_amort_var18_ult1',\n",
       " 'imp_amort_var34_hace3',\n",
       " 'imp_amort_var34_ult1',\n",
       " 'imp_reemb_var13_hace3',\n",
       " 'imp_reemb_var17_hace3',\n",
       " 'imp_reemb_var33_hace3',\n",
       " 'imp_trasp_var17_out_hace3',\n",
       " 'imp_trasp_var33_out_hace3',\n",
       " 'num_var2_0_ult1',\n",
       " 'num_var2_ult1',\n",
       " 'num_reemb_var13_hace3',\n",
       " 'num_reemb_var17_hace3',\n",
       " 'num_reemb_var33_hace3',\n",
       " 'num_trasp_var17_out_hace3',\n",
       " 'num_trasp_var33_out_hace3',\n",
       " 'saldo_var2_ult1',\n",
       " 'saldo_medio_var13_medio_hace3',\n",
       " 'saldo_medio_var29_hace3']"
      ]
     },
     "execution_count": 15,
     "metadata": {},
     "output_type": "execute_result"
    }
   ],
   "source": [
    "# print the constant features\n",
    "print(\n",
    "    len([\n",
    "        x for x in X_train.columns\n",
    "        if x not in X_train.columns[sel.get_support()]\n",
    "    ]))\n",
    "\n",
    "[x for x in X_train.columns if x not in X_train.columns[sel.get_support()]]"
   ]
  },
  {
   "cell_type": "markdown",
   "metadata": {},
   "source": [
    "- We can see that there are 51 columns / variables that are constant. This means that 51 variables show the same value, just one value, for all the observations of the training set."
   ]
  },
  {
   "cell_type": "markdown",
   "metadata": {},
   "source": [
    "- We then use the transform function to reduce the training and testing sets."
   ]
  },
  {
   "cell_type": "code",
   "execution_count": 16,
   "metadata": {
    "execution": {
     "iopub.execute_input": "2024-03-21T13:09:28.112939Z",
     "iopub.status.busy": "2024-03-21T13:09:28.112545Z",
     "iopub.status.idle": "2024-03-21T13:09:28.222571Z",
     "shell.execute_reply": "2024-03-21T13:09:28.221533Z",
     "shell.execute_reply.started": "2024-03-21T13:09:28.112878Z"
    }
   },
   "outputs": [],
   "source": [
    "# we can then drop these columns from the train and test sets\n",
    "X_train = sel.transform(X_train)\n",
    "X_test = sel.transform(X_test)"
   ]
  },
  {
   "cell_type": "code",
   "execution_count": 17,
   "metadata": {
    "execution": {
     "iopub.execute_input": "2024-03-21T13:09:32.980484Z",
     "iopub.status.busy": "2024-03-21T13:09:32.980137Z",
     "iopub.status.idle": "2024-03-21T13:09:32.986990Z",
     "shell.execute_reply": "2024-03-21T13:09:32.985777Z",
     "shell.execute_reply.started": "2024-03-21T13:09:32.980434Z"
    }
   },
   "outputs": [
    {
     "data": {
      "text/plain": [
       "((35000, 319), (15000, 319))"
      ]
     },
     "execution_count": 17,
     "metadata": {},
     "output_type": "execute_result"
    }
   ],
   "source": [
    "# check the shape of training and test set\n",
    "\n",
    "X_train.shape, X_test.shape"
   ]
  },
  {
   "cell_type": "markdown",
   "metadata": {},
   "source": [
    "- We can see how by removing constant features, we managed to reduced the feature space quite a bit."
   ]
  },
  {
   "attachments": {
    "7c2526af-ae80-4ce5-9500-078375ff9436.png": {
     "image/png": "[encoded data removed]"
    }
   },
   "cell_type": "markdown",
   "metadata": {},
   "source": [
    "## **2.1.2 Remove quasi-constant features** <a class=\"anchor\" id=\"2.1.2\"></a>\n",
    "\n",
    "[Table of Contents](#0.1)\n",
    "\n",
    "- Quasi-constant features are those that show the same value for the great majority of the observations of the dataset. In general, these features provide little if any information that allows a machine learning model to discriminate or predict a target. But there can be exceptions. So we should be careful when removing these type of features. Identifying and removing quasi-constant features, is an easy first step towards feature selection and more easily interpretable machine learning models.\n",
    "\n",
    "\n",
    "![image.png](attachment:7c2526af-ae80-4ce5-9500-078375ff9436.png)\n",
    "\n",
    "Image source : towardsdatascience\n",
    "\n",
    "\n",
    "\n",
    "- To identify quasi-constant features, we can once again use the VarianceThreshold function from sklearn.\n",
    "\n",
    "- Here I will demonstrate how to identify quasi-constant features using the Santander Customer Satisfaction dataset."
   ]
  },
  {
   "cell_type": "code",
   "execution_count": 9,
   "metadata": {
    "execution": {
     "iopub.execute_input": "2024-04-05T18:58:32.655674Z",
     "iopub.status.busy": "2024-04-05T18:58:32.655242Z",
     "iopub.status.idle": "2024-04-05T18:58:34.703213Z",
     "shell.execute_reply": "2024-04-05T18:58:34.701288Z",
     "shell.execute_reply.started": "2024-04-05T18:58:32.655604Z"
    }
   },
   "outputs": [],
   "source": [
    "# import the Santander customer satisfaction dataset from Kaggle\n",
    "\n",
    "X_train = pd.read_csv('/kaggle/input/santander-customer-satisfaction/train.csv', nrows=35000)\n",
    "\n",
    "X_test = pd.read_csv('/kaggle/input/santander-customer-satisfaction/test.csv', nrows=15000)"
   ]
  },
  {
   "cell_type": "code",
   "execution_count": 10,
   "metadata": {
    "execution": {
     "iopub.execute_input": "2024-04-05T18:58:38.632226Z",
     "iopub.status.busy": "2024-04-05T18:58:38.631758Z",
     "iopub.status.idle": "2024-04-05T18:58:38.703950Z",
     "shell.execute_reply": "2024-04-05T18:58:38.702717Z",
     "shell.execute_reply.started": "2024-04-05T18:58:38.632153Z"
    }
   },
   "outputs": [],
   "source": [
    "# drop TARGET label from X_train\n",
    "\n",
    "X_train.drop(labels=['TARGET'], axis=1, inplace = True)"
   ]
  },
  {
   "cell_type": "code",
   "execution_count": 20,
   "metadata": {
    "execution": {
     "iopub.execute_input": "2024-03-21T13:12:59.017546Z",
     "iopub.status.busy": "2024-03-21T13:12:59.017201Z",
     "iopub.status.idle": "2024-03-21T13:12:59.024687Z",
     "shell.execute_reply": "2024-03-21T13:12:59.023336Z",
     "shell.execute_reply.started": "2024-03-21T13:12:59.017496Z"
    }
   },
   "outputs": [
    {
     "data": {
      "text/plain": [
       "((35000, 370), (15000, 370))"
      ]
     },
     "execution_count": 20,
     "metadata": {},
     "output_type": "execute_result"
    }
   ],
   "source": [
    "# check shape of training and test sets\n",
    "\n",
    "X_train.shape, X_test.shape"
   ]
  },
  {
   "cell_type": "markdown",
   "metadata": {},
   "source": [
    "### **Removing quasi-constant features**\n",
    "\n",
    "#### **Using variance threshold from sklearn**\n",
    "\n",
    "- Variance threshold from sklearn is a simple baseline approach to feature selection. It removes all features which variance doesn’t meet some threshold. By default, it removes all zero-variance features, i.e., features that have the same value in all samples.\n",
    "\n",
    "- Here, I will change the default threshold to remove almost / quasi-constant features."
   ]
  },
  {
   "cell_type": "code",
   "execution_count": 11,
   "metadata": {
    "execution": {
     "iopub.execute_input": "2024-04-05T18:58:55.706817Z",
     "iopub.status.busy": "2024-04-05T18:58:55.706326Z",
     "iopub.status.idle": "2024-04-05T18:58:55.860703Z",
     "shell.execute_reply": "2024-04-05T18:58:55.859562Z",
     "shell.execute_reply.started": "2024-04-05T18:58:55.706738Z"
    }
   },
   "outputs": [
    {
     "data": {
      "text/plain": [
       "VarianceThreshold(threshold=0.01)"
      ]
     },
     "execution_count": 11,
     "metadata": {},
     "output_type": "execute_result"
    }
   ],
   "source": [
    "sel = VarianceThreshold(threshold=0.01)  # 0.01 indicates 99% of observations approximately\n",
    "\n",
    "sel.fit(X_train)  # fit finds the features with low variance"
   ]
  },
  {
   "cell_type": "code",
   "execution_count": 12,
   "metadata": {
    "execution": {
     "iopub.execute_input": "2024-04-05T18:58:59.357753Z",
     "iopub.status.busy": "2024-04-05T18:58:59.357417Z",
     "iopub.status.idle": "2024-04-05T18:58:59.368987Z",
     "shell.execute_reply": "2024-04-05T18:58:59.367258Z",
     "shell.execute_reply.started": "2024-04-05T18:58:59.357708Z"
    }
   },
   "outputs": [
    {
     "data": {
      "text/plain": [
       "263"
      ]
     },
     "execution_count": 12,
     "metadata": {},
     "output_type": "execute_result"
    }
   ],
   "source": [
    "# get_support is a boolean vector that indicates which features \n",
    "# are retained. If we sum over get_support, we get the number\n",
    "# of features that are not quasi-constant\n",
    "sum(sel.get_support())"
   ]
  },
  {
   "cell_type": "code",
   "execution_count": 13,
   "metadata": {
    "execution": {
     "iopub.execute_input": "2024-04-05T18:59:07.575114Z",
     "iopub.status.busy": "2024-04-05T18:59:07.574428Z",
     "iopub.status.idle": "2024-04-05T18:59:07.584362Z",
     "shell.execute_reply": "2024-04-05T18:59:07.582809Z",
     "shell.execute_reply.started": "2024-04-05T18:59:07.575013Z"
    }
   },
   "outputs": [
    {
     "data": {
      "text/plain": [
       "263"
      ]
     },
     "execution_count": 13,
     "metadata": {},
     "output_type": "execute_result"
    }
   ],
   "source": [
    "# alternative way of doing the above operation:\n",
    "len(X_train.columns[sel.get_support()])"
   ]
  },
  {
   "cell_type": "code",
   "execution_count": 14,
   "metadata": {
    "execution": {
     "iopub.execute_input": "2024-04-05T18:59:11.856649Z",
     "iopub.status.busy": "2024-04-05T18:59:11.855823Z",
     "iopub.status.idle": "2024-04-05T18:59:11.937669Z",
     "shell.execute_reply": "2024-04-05T18:59:11.936218Z",
     "shell.execute_reply.started": "2024-04-05T18:59:11.856584Z"
    }
   },
   "outputs": [
    {
     "name": "stdout",
     "output_type": "stream",
     "text": [
      "107\n"
     ]
    },
    {
     "data": {
      "text/plain": [
       "['ind_var1',\n",
       " 'ind_var2_0',\n",
       " 'ind_var2',\n",
       " 'ind_var6_0',\n",
       " 'ind_var6',\n",
       " 'ind_var13_largo',\n",
       " 'ind_var13_medio_0',\n",
       " 'ind_var13_medio',\n",
       " 'ind_var14',\n",
       " 'ind_var17_0',\n",
       " 'ind_var17',\n",
       " 'ind_var18_0',\n",
       " 'ind_var18',\n",
       " 'ind_var19',\n",
       " 'ind_var20_0',\n",
       " 'ind_var20',\n",
       " 'ind_var27_0',\n",
       " 'ind_var28_0',\n",
       " 'ind_var28',\n",
       " 'ind_var27',\n",
       " 'ind_var29_0',\n",
       " 'ind_var29',\n",
       " 'ind_var30_0',\n",
       " 'ind_var31_0',\n",
       " 'ind_var31',\n",
       " 'ind_var32_cte',\n",
       " 'ind_var32_0',\n",
       " 'ind_var32',\n",
       " 'ind_var33_0',\n",
       " 'ind_var33',\n",
       " 'ind_var34_0',\n",
       " 'ind_var34',\n",
       " 'ind_var40',\n",
       " 'ind_var41',\n",
       " 'ind_var39',\n",
       " 'ind_var44_0',\n",
       " 'ind_var44',\n",
       " 'ind_var46_0',\n",
       " 'ind_var46',\n",
       " 'num_var6_0',\n",
       " 'num_var6',\n",
       " 'num_var13_medio_0',\n",
       " 'num_var13_medio',\n",
       " 'num_var18_0',\n",
       " 'num_var18',\n",
       " 'num_op_var40_hace3',\n",
       " 'num_var27_0',\n",
       " 'num_var28_0',\n",
       " 'num_var28',\n",
       " 'num_var27',\n",
       " 'num_var29_0',\n",
       " 'num_var29',\n",
       " 'num_var33',\n",
       " 'num_var34_0',\n",
       " 'num_var34',\n",
       " 'num_var41',\n",
       " 'num_var46_0',\n",
       " 'num_var46',\n",
       " 'saldo_var18',\n",
       " 'saldo_var28',\n",
       " 'saldo_var27',\n",
       " 'saldo_var34',\n",
       " 'saldo_var41',\n",
       " 'saldo_var46',\n",
       " 'delta_imp_amort_var18_1y3',\n",
       " 'delta_imp_amort_var34_1y3',\n",
       " 'delta_imp_aport_var33_1y3',\n",
       " 'delta_num_aport_var33_1y3',\n",
       " 'imp_amort_var18_hace3',\n",
       " 'imp_amort_var18_ult1',\n",
       " 'imp_amort_var34_hace3',\n",
       " 'imp_amort_var34_ult1',\n",
       " 'imp_reemb_var13_hace3',\n",
       " 'imp_reemb_var17_hace3',\n",
       " 'imp_reemb_var33_hace3',\n",
       " 'imp_trasp_var17_out_hace3',\n",
       " 'imp_trasp_var33_out_hace3',\n",
       " 'ind_var7_emit_ult1',\n",
       " 'ind_var7_recib_ult1',\n",
       " 'num_var2_0_ult1',\n",
       " 'num_var2_ult1',\n",
       " 'num_aport_var33_hace3',\n",
       " 'num_aport_var33_ult1',\n",
       " 'num_var7_emit_ult1',\n",
       " 'num_meses_var13_medio_ult3',\n",
       " 'num_meses_var17_ult3',\n",
       " 'num_meses_var29_ult3',\n",
       " 'num_meses_var33_ult3',\n",
       " 'num_meses_var44_ult3',\n",
       " 'num_reemb_var13_hace3',\n",
       " 'num_reemb_var13_ult1',\n",
       " 'num_reemb_var17_hace3',\n",
       " 'num_reemb_var17_ult1',\n",
       " 'num_reemb_var33_hace3',\n",
       " 'num_reemb_var33_ult1',\n",
       " 'num_trasp_var17_in_hace3',\n",
       " 'num_trasp_var17_in_ult1',\n",
       " 'num_trasp_var17_out_hace3',\n",
       " 'num_trasp_var17_out_ult1',\n",
       " 'num_trasp_var33_in_hace3',\n",
       " 'num_trasp_var33_in_ult1',\n",
       " 'num_trasp_var33_out_hace3',\n",
       " 'num_trasp_var33_out_ult1',\n",
       " 'num_venta_var44_hace3',\n",
       " 'saldo_var2_ult1',\n",
       " 'saldo_medio_var13_medio_hace3',\n",
       " 'saldo_medio_var29_hace3']"
      ]
     },
     "execution_count": 14,
     "metadata": {},
     "output_type": "execute_result"
    }
   ],
   "source": [
    "# finally we can print the quasi-constant features\n",
    "print(\n",
    "    len([\n",
    "        x for x in X_train.columns\n",
    "        if x not in X_train.columns[sel.get_support()]\n",
    "    ]))\n",
    "\n",
    "[x for x in X_train.columns if x not in X_train.columns[sel.get_support()]]"
   ]
  },
  {
   "cell_type": "markdown",
   "metadata": {},
   "source": [
    "- We can see that 107 columns / variables are almost constant. This means that 107 variables show predominantly one value for ~99% the observations of the training set."
   ]
  },
  {
   "cell_type": "code",
   "execution_count": 15,
   "metadata": {
    "execution": {
     "iopub.execute_input": "2024-04-05T18:59:22.916319Z",
     "iopub.status.busy": "2024-04-05T18:59:22.915868Z",
     "iopub.status.idle": "2024-04-05T18:59:23.069245Z",
     "shell.execute_reply": "2024-04-05T18:59:23.067826Z",
     "shell.execute_reply.started": "2024-04-05T18:59:22.916254Z"
    }
   },
   "outputs": [
    {
     "data": {
      "text/plain": [
       "0    0.996286\n",
       "1    0.003714\n",
       "Name: ind_var31, dtype: float64"
      ]
     },
     "execution_count": 15,
     "metadata": {},
     "output_type": "execute_result"
    }
   ],
   "source": [
    "# percentage of observations showing each of the different values\n",
    "X_train['ind_var31'].value_counts() / np.float(len(X_train))"
   ]
  },
  {
   "cell_type": "markdown",
   "metadata": {},
   "source": [
    "- We can see that > 99% of the observations show one value, 0. Therefore, this feature is almost constant."
   ]
  },
  {
   "cell_type": "code",
   "execution_count": 16,
   "metadata": {
    "execution": {
     "iopub.execute_input": "2024-04-05T19:00:04.814218Z",
     "iopub.status.busy": "2024-04-05T19:00:04.813766Z",
     "iopub.status.idle": "2024-04-05T19:00:04.940619Z",
     "shell.execute_reply": "2024-04-05T19:00:04.939519Z",
     "shell.execute_reply.started": "2024-04-05T19:00:04.814143Z"
    }
   },
   "outputs": [],
   "source": [
    "# we can then remove the features from training and test set\n",
    "X_train = sel.transform(X_train)\n",
    "X_test = sel.transform(X_test)"
   ]
  },
  {
   "cell_type": "code",
   "execution_count": 17,
   "metadata": {
    "execution": {
     "iopub.execute_input": "2024-04-05T19:00:14.414604Z",
     "iopub.status.busy": "2024-04-05T19:00:14.414218Z",
     "iopub.status.idle": "2024-04-05T19:00:14.420559Z",
     "shell.execute_reply": "2024-04-05T19:00:14.419795Z",
     "shell.execute_reply.started": "2024-04-05T19:00:14.414535Z"
    }
   },
   "outputs": [
    {
     "data": {
      "text/plain": [
       "((35000, 263), (15000, 263))"
      ]
     },
     "execution_count": 17,
     "metadata": {},
     "output_type": "execute_result"
    }
   ],
   "source": [
    "# check the shape of training and test set\n",
    "X_train.shape, X_test.shape"
   ]
  },
  {
   "cell_type": "markdown",
   "metadata": {},
   "source": [
    "- By removing constant and quasi-constant features, we reduced the feature space from 370 to 263. We can see that more than 100 features were removed from the present dataset."
   ]
  },
  {
   "cell_type": "markdown",
   "metadata": {},
   "source": [
    "## **2.2 Univariate selection methods** <a class=\"anchor\" id=\"2.2\"></a>\n",
    "\n",
    "[Table of Contents](#0.1)\n",
    "\n",
    "\n",
    "- Univariate feature selection methods works by selecting the best features based on univariate statistical tests like ANOVA. It can be seen as a preprocessing step to an estimator. Scikit-learn exposes feature selection routines as objects that implement the transform method.\n",
    "\n",
    "- Univariate feature selection **examines each feature individually** to determine the strength of the relationship of the feature with the response variable (target). These methods are simple to run and understand and are in general particularly good for gaining a better understanding of data (but not necessarily for optimizing the feature set for better generalization).\n",
    "\n",
    "- The methods based on F-test **estimate the degree of linear dependency between two random variables**. They assume a **linear relationship between the feature and the target**. These methods also assume that the variables follow a Gaussian distribution.\n",
    "\n",
    "- There are 4 methods that fall under this category :-\n",
    "\n",
    "  1. SelectKBest\n",
    "  2. SelectPercentile\n",
    "  3. SelectFpr, SelectFdr, or family wise error SelectFwe\n",
    "  4. GenericUnivariateSelection\n",
    "  \n",
    "Source : https://scikit-learn.org/stable/modules/feature_selection.html\n",
    "\n",
    "\n",
    "- Here, I will limit the discussion to SelectKBest and SelectPercentile, because these two are most commonly used in practice."
   ]
  },
  {
   "cell_type": "markdown",
   "metadata": {},
   "source": [
    "## **2.2.1 SelectKBest** <a class=\"anchor\" id=\"2.2.1\"></a>\n",
    "\n",
    "[Table of Contents](#0.1)\n",
    "\n",
    "- This method select features according to the k highest scores.\n",
    "\n",
    "- For instance, we can perform a chi-square test to the samples to retrieve only the two best features from iris dataset as follows:\n",
    "\n",
    "Source : https://scikit-learn.org/stable/modules/feature_selection.html\n",
    "\n",
    "https://scikit-learn.org/stable/modules/generated/sklearn.feature_selection.SelectKBest.html#sklearn.feature_selection.SelectKBest"
   ]
  },
  {
   "cell_type": "code",
   "execution_count": 18,
   "metadata": {
    "execution": {
     "iopub.execute_input": "2024-04-05T19:00:36.512255Z",
     "iopub.status.busy": "2024-04-05T19:00:36.511828Z",
     "iopub.status.idle": "2024-04-05T19:00:36.580615Z",
     "shell.execute_reply": "2024-04-05T19:00:36.579158Z",
     "shell.execute_reply.started": "2024-04-05T19:00:36.512168Z"
    }
   },
   "outputs": [
    {
     "data": {
      "text/plain": [
       "(150, 4)"
      ]
     },
     "execution_count": 18,
     "metadata": {},
     "output_type": "execute_result"
    }
   ],
   "source": [
    "from sklearn.datasets import load_iris\n",
    "from sklearn.feature_selection import SelectKBest, chi2\n",
    "X, y = load_iris(return_X_y=True)\n",
    "X.shape"
   ]
  },
  {
   "cell_type": "code",
   "execution_count": 19,
   "metadata": {
    "execution": {
     "iopub.execute_input": "2024-04-05T19:00:44.041421Z",
     "iopub.status.busy": "2024-04-05T19:00:44.040532Z",
     "iopub.status.idle": "2024-04-05T19:00:44.059055Z",
     "shell.execute_reply": "2024-04-05T19:00:44.057409Z",
     "shell.execute_reply.started": "2024-04-05T19:00:44.041234Z"
    }
   },
   "outputs": [
    {
     "data": {
      "text/plain": [
       "(150, 2)"
      ]
     },
     "execution_count": 19,
     "metadata": {},
     "output_type": "execute_result"
    }
   ],
   "source": [
    "# select the two best features\n",
    "X_new = SelectKBest(chi2, k=2).fit_transform(X, y)\n",
    "X_new.shape"
   ]
  },
  {
   "cell_type": "markdown",
   "metadata": {},
   "source": [
    "- Thus, we have selected the two best features from the iris dataset."
   ]
  },
  {
   "cell_type": "markdown",
   "metadata": {},
   "source": [
    "## Another example"
   ]
  },
  {
   "cell_type": "code",
   "execution_count": 7,
   "metadata": {},
   "outputs": [
    {
     "name": "stdout",
     "output_type": "stream",
     "text": [
      "Original Data:\n",
      "   Color     Shape  Label\n",
      "0    Red    Circle      1\n",
      "1   Blue    Square      0\n",
      "2    Red    Circle      1\n",
      "3  Green  Triangle      0\n",
      "4   Blue    Square      0\n",
      "5    Red    Circle      1\n",
      "6  Green  Triangle      0\n",
      "7  Green  Triangle      0\n",
      "\n",
      "Contingency Table:\n",
      " Label  0  1\n",
      "Color      \n",
      "Blue   2  0\n",
      "Green  3  0\n",
      "Red    0  3\n",
      "\n",
      "Chi2 scores for each feature:\n",
      "Color_encoded: 3.267\n",
      "Shape_encoded: 4.800\n",
      "\n",
      "Selected top feature(s): ['Shape_encoded']\n"
     ]
    }
   ],
   "source": [
    "import pandas as pd\n",
    "import numpy as np\n",
    "from sklearn.feature_selection import SelectKBest, chi2\n",
    "from sklearn.preprocessing import LabelEncoder\n",
    "\n",
    "# Step 1: Create synthetic categorical data\n",
    "data = {\n",
    "    'Color': ['Red', 'Blue', 'Red', 'Green', 'Blue', 'Red', 'Green', 'Green'],\n",
    "    'Shape': ['Circle', 'Square', 'Circle', 'Triangle', 'Square', 'Circle', 'Triangle', 'Triangle'],\n",
    "    'Label': [1, 0, 1, 0, 0, 1, 0, 0]\n",
    "}\n",
    "df = pd.DataFrame(data)\n",
    "\n",
    "print(\"Original Data:\")\n",
    "print(df)\n",
    "\n",
    "# Step 2: Encode categorical features as numbers\n",
    "le_color = LabelEncoder()\n",
    "le_shape = LabelEncoder()\n",
    "df['Color_encoded'] = le_color.fit_transform(df['Color'])\n",
    "df['Shape_encoded'] = le_shape.fit_transform(df['Shape'])\n",
    "\n",
    "# Step 3: Prepare X and y\n",
    "X = df[['Color_encoded', 'Shape_encoded']]\n",
    "y = df['Label']\n",
    "\n",
    "contingency_table = pd.crosstab(df['Color'], df['Label'])\n",
    "print(\"\\nContingency Table:\\n\",contingency_table)\n",
    "\n",
    "# Step 4: Apply chi2 feature selection\n",
    "selector = SelectKBest(score_func=chi2, k=1)\n",
    "X_new = selector.fit_transform(X, y)\n",
    "\n",
    "# Step 5: Show results\n",
    "selected_feature_indices = selector.get_support(indices=True)\n",
    "selected_feature_names = X.columns[selected_feature_indices]\n",
    "scores = selector.scores_\n",
    "\n",
    "print(\"\\nChi2 scores for each feature:\")\n",
    "for feature, score in zip(X.columns, scores):\n",
    "    print(f\"{feature}: {score:.3f}\")\n",
    "\n",
    "print(\"\\nSelected top feature(s):\", list(selected_feature_names))\n"
   ]
  },
  {
   "cell_type": "markdown",
   "metadata": {},
   "source": [
    "## **2.2.2 SelectPercentile** <a class=\"anchor\" id=\"2.2.2\"></a>\n",
    "\n",
    "[Table of Contents](#0.1)\n",
    "\n",
    "\n",
    "- Select features according to a percentile of the highest scores.\n",
    "\n",
    "Source : https://scikit-learn.org/stable/modules/generated/sklearn.feature_selection.SelectPercentile.html#sklearn.feature_selection.SelectPercentile"
   ]
  },
  {
   "cell_type": "code",
   "execution_count": 20,
   "metadata": {
    "execution": {
     "iopub.execute_input": "2024-04-05T19:00:56.897634Z",
     "iopub.status.busy": "2024-04-05T19:00:56.896887Z",
     "iopub.status.idle": "2024-04-05T19:00:57.049275Z",
     "shell.execute_reply": "2024-04-05T19:00:57.048238Z",
     "shell.execute_reply.started": "2024-04-05T19:00:56.897560Z"
    }
   },
   "outputs": [
    {
     "data": {
      "text/plain": [
       "(1797, 64)"
      ]
     },
     "execution_count": 20,
     "metadata": {},
     "output_type": "execute_result"
    }
   ],
   "source": [
    "from sklearn.datasets import load_digits\n",
    "from sklearn.feature_selection import SelectPercentile, chi2\n",
    "X, y = load_digits(return_X_y=True)\n",
    "X.shape\n"
   ]
  },
  {
   "cell_type": "code",
   "execution_count": 21,
   "metadata": {
    "execution": {
     "iopub.execute_input": "2024-04-05T19:01:01.145668Z",
     "iopub.status.busy": "2024-04-05T19:01:01.144900Z",
     "iopub.status.idle": "2024-04-05T19:01:01.168168Z",
     "shell.execute_reply": "2024-04-05T19:01:01.165979Z",
     "shell.execute_reply.started": "2024-04-05T19:01:01.145592Z"
    }
   },
   "outputs": [
    {
     "data": {
      "text/plain": [
       "(1797, 7)"
      ]
     },
     "execution_count": 21,
     "metadata": {},
     "output_type": "execute_result"
    }
   ],
   "source": [
    "# now select features based on top 10 percentile\n",
    "X_new = SelectPercentile(chi2, percentile=10).fit_transform(X, y)\n",
    "X_new.shape"
   ]
  },
  {
   "cell_type": "markdown",
   "metadata": {},
   "source": [
    "- We can see that only 7 features lie on the top 10 percentile and hence we select them accordingly."
   ]
  },
  {
   "cell_type": "markdown",
   "metadata": {},
   "source": [
    "## **Important information**\n",
    "\n",
    "- These objects take as input a scoring function that returns univariate scores and p-values (or only scores for [SelectKBest](https://scikit-learn.org/stable/modules/generated/sklearn.feature_selection.SelectKBest.html#sklearn.feature_selection.SelectKBest) and [SelectPercentile](https://scikit-learn.org/stable/modules/generated/sklearn.feature_selection.SelectPercentile.html#sklearn.feature_selection.SelectPercentile):\n",
    "\n",
    "\n",
    "- For regression tasks: [f_regression](https://scikit-learn.org/stable/modules/generated/sklearn.feature_selection.f_regression.html#sklearn.feature_selection.f_regression), [mutual_info_regression](https://scikit-learn.org/stable/modules/generated/sklearn.feature_selection.mutual_info_regression.html#sklearn.feature_selection.mutual_info_regression)\n",
    "\n",
    "- For classification tasks: [chi2](https://scikit-learn.org/stable/modules/generated/sklearn.feature_selection.chi2.html#sklearn.feature_selection.chi2), \n",
    "[f_classif](https://scikit-learn.org/stable/modules/generated/sklearn.feature_selection.f_classif.html#sklearn.feature_selection.f_classif), [mutual_info_classif](https://scikit-learn.org/stable/modules/generated/sklearn.feature_selection.mutual_info_classif.html#sklearn.feature_selection.mutual_info_classif)\n",
    "\n",
    "The methods based on F-test estimate the degree of linear dependency between two random variables. On the other hand, mutual information methods can capture any kind of statistical dependency, but being nonparametric, they require more samples for accurate estimation."
   ]
  },
  {
   "cell_type": "markdown",
   "metadata": {},
   "source": [
    "## **Feature selection with sparse data**\n",
    "\n",
    "- If you use sparse data (i.e. data represented as sparse matrices), [chi2](https://scikit-learn.org/stable/modules/generated/sklearn.feature_selection.chi2.html#sklearn.feature_selection.chi2), [mutual_info_regression](https://scikit-learn.org/stable/modules/generated/sklearn.feature_selection.mutual_info_regression.html#sklearn.feature_selection.mutual_info_regression), [mutual_info_classif](https://scikit-learn.org/stable/modules/generated/sklearn.feature_selection.mutual_info_classif.html#sklearn.feature_selection.mutual_info_classif) will deal with the data without making it dense.\n",
    "\n",
    "\n",
    "Source : https://scikit-learn.org/stable/modules/feature_selection.html"
   ]
  },
  {
   "cell_type": "markdown",
   "metadata": {},
   "source": [
    "## **Warning** \n",
    "\n",
    "- Beware not to use a regression scoring function with a classification problem, you will get useless results."
   ]
  },
  {
   "attachments": {
    "f64cfcb9-edbc-4e67-a02f-d89bb17bfd03.png": {
     "image/png": "[encoded data removed]"
    }
   },
   "cell_type": "markdown",
   "metadata": {},
   "source": [
    "## **2.3 Information Gain** <a class=\"anchor\" id=\"2.3\"></a>\n",
    "\n",
    "[Table of Contents](#0.1)\n",
    "\n",
    "\n",
    "- **Information gain** or **mutual information** measures how much information the presence/absence of a feature contributes to making the correct prediction on the target.\n",
    "\n",
    "\n",
    "- In terms of  [wikipedia](https://en.wikipedia.org/wiki/Mutual_information):\n",
    "\n",
    "\n",
    "   - Mutual information measures the information that X and Y share: It **measures how much knowing one of these variables reduces uncertainty about the other**. For example, if X and Y are independent, then knowing X does        not give any information about Y and vice versa, so their mutual information is zero. At the other extreme, if      X is a deterministic function of Y and Y is a deterministic function of X then all information conveyed by X        is shared with Y: knowing X determines the value of Y and vice versa. As a result, in this case the mutual          information is the same as the uncertainty contained in Y (or X) alone, namely the entropy of Y (or X).            Moreover, this mutual information is the same as the entropy of X and as the entropy of Y. (A very special          case of this is when X and Y are the same random variable.)\n",
    "   \n",
    "<center>\n",
    "   <img src=\"attachment:f64cfcb9-edbc-4e67-a02f-d89bb17bfd03.png\" width=\"500\" height=\"300\"/>\n",
    "   <img src=\"https://upload.wikimedia.org/wikipedia/commons/thumb/d/d4/Entropy-mutual-information-relative-entropy-relation-diagram.svg/1280px-Entropy-mutual-information-relative-entropy-relation-diagram.svg.png\" width=\"500\" height=\"300\"/>\n",
    " \n",
    "</center>\n",
    "\n",
    "\n",
    "$H(X, Y) = H(X) + H(Y) - I(X;Y)$\n",
    "\n",
    "$H(X, Y) = H(X \\mid Y) + I(X;Y) + H(Y \\mid X)$\n",
    "\n",
    "Venn diagram showing additive and subtractive relationships of various information measures associated with correlated variables $X$ and $Y$.[1] The area contained by either circles is the joint entropy $H(X,Y)$. The circle on the left (red and violet) is the individual entropy $H(X)$, with the red being the conditional entropy $H(X\\mid Y)$. The circle on the right (blue and violet) is $H(Y)$, with the blue being $H(Y\\mid X)$. The violet is the mutual information $I(X;Y)$.\n",
    "\n",
    "The entropy of a random variable is the average level of \"information\" or \"uncertainty\" inherent to the variable's possible outcomes. Given a discrete random variable $X$ is distributed according to $X \\to [0,1]$, the entropy is\n",
    "        \n",
    "${H} (X):=-\\sum _{x\\in {\\mathcal {X}}}p(x)\\log p(x)$\n",
    "\n",
    "<center>\n",
    "    <img src= \"https://upload.wikimedia.org/wikipedia/commons/thumb/2/22/Binary_entropy_plot.svg/450px-Binary_entropy_plot.svg.png\" width=\"300\" />\n",
    "</center>\n",
    "\n",
    "Also, the conditional entropy quantifies the amount of information needed to describe the outcome of a random variable $Y$ given that the value of another random variable $X$ is known. Here, information is measured in shannons, nats, or hartleys. The entropy of $Y$ conditioned on $X$ is written as \n",
    "${H} (Y|X)$ and is computed as\n",
    "\n",
    "${H} (Y|X)\\ =-\\sum _{x\\in {\\mathcal {X}},y\\in {\\mathcal {Y}}}p(x,y)\\log {\\frac {p(x,y)}{p(x)}}$"
   ]
  },
  {
   "cell_type": "markdown",
   "metadata": {},
   "source": [
    "Now the mutual information can be computed as\n",
    "\n",
    "**${I} (X;Y)=\\sum _{y\\in {\\mathcal {Y}}}\\sum _{x\\in {\\mathcal {X}}}{P_{(X,Y)}(x,y)\\log \\left({\\frac {P_{(X,Y)}(x,y)}{P_{X}(x)\\,P_{Y}(y)}}\\right)}=H(Y)-H(Y\\mid X)$**\n",
    "\n",
    "(Proof:https://wikimedia.org/api/rest_v1/media/math/render/svg/9c1877f635a7f1d6ba6a6cc0e65a9b7b1fec7b43) "
   ]
  },
  {
   "cell_type": "markdown",
   "metadata": {},
   "source": [
    "## Example of Mutual Information Computation\n",
    "Consider this examplar dataset:\n",
    "\n",
    "| weather  | temp  | play |\n",
    "|----------|-------|------|\n",
    "| sunny    | hot   | no   |\n",
    "| rainy    | mild  | yes  |\n",
    "| sunny    | hot   | no   |\n",
    "| overcast | cool  | yes  |\n",
    "| rainy    | mild  | yes  |\n",
    "| sunny    | cool  | yes  |\n",
    "\n",
    "\n",
    "To compute the mutual information \\( I(X; Y) \\) between the variables `weather` (\\(X\\)) and `play` (\\(Y\\)), we use the formula:\n",
    "\n",
    "$\n",
    "I(X; Y) = \\sum_{x \\in X} \\sum_{y \\in Y} p(x, y) \\cdot \\log_2 \\left( \\frac{p(x, y)}{p(x)p(y)} \\right)\n",
    "$\n",
    "\n",
    "#### Observed Frequencies:\n",
    "\n",
    "| Weather (X) | Play (Y) | Count |\n",
    "|-------------|----------|--------|\n",
    "| Sunny (0)   | No (0)   | 2      |\n",
    "| Sunny (0)   | Yes (1)  | 1      |\n",
    "| Rainy (1)   | Yes (1)  | 2      |\n",
    "| Overcast (2)| Yes (1)  | 1      |\n",
    "\n",
    "#### Marginal Probabilities:\n",
    "\n",
    "$$\n",
    "\\begin{aligned}\n",
    "p(X=0) &= \\frac{3}{6}, \\quad p(X=1) = \\frac{2}{6}, \\quad p(X=2) = \\frac{1}{6} \\\\\n",
    "p(Y=0) &= \\frac{2}{6}, \\quad p(Y=1) = \\frac{4}{6}\n",
    "\\end{aligned}\n",
    "$$\n",
    "\n",
    "#### Joint Probabilities:\n",
    "$$\n",
    "\\begin{aligned}\n",
    "p(X=0, Y=0) &= \\frac{2}{6}, \\quad p(X=0, Y=1) = \\frac{1}{6} \\\\\n",
    "p(X=1, Y=1) &= \\frac{2}{6}, \\quad p(X=2, Y=1) = \\frac{1}{6}\n",
    "\\end{aligned}\n",
    "$$\n",
    "\n",
    "#### Mutual Information Terms:\n",
    "\n",
    "$$\n",
    "\\begin{aligned}\n",
    "I(X=0; Y=0) &= \\frac{2}{6} \\cdot \\log_2\\left( \\frac{\\frac{2}{6}}{\\frac{3}{6} \\cdot \\frac{2}{6}} \\right) = \\frac{2}{6} \\cdot \\log_2(2) = \\frac{2}{6} \\approx 0.333 \\\\\n",
    "I(X=0; Y=1) &= \\frac{1}{6} \\cdot \\log_2\\left( \\frac{1/6}{(3/6)(4/6)} \\right) \\approx \\frac{1}{6} \\cdot \\log_2(1.5) \\approx 0.097 \\\\\n",
    "I(X=1; Y=1) &= \\frac{2}{6} \\cdot \\log_2\\left( \\frac{2/6}{(2/6)(4/6)} \\right) \\approx \\frac{2}{6} \\cdot \\log_2(1.5) \\approx 0.195 \\\\\n",
    "I(X=2; Y=1) &= \\frac{1}{6} \\cdot \\log_2\\left( \\frac{1/6}{(1/6)(4/6)} \\right) \\approx \\frac{1}{6} \\cdot \\log_2(1.5) \\approx 0.097 \\\\\n",
    "\\end{aligned}\n",
    "$$\n",
    "\n",
    "#### Final Result:\n",
    "\n",
    "$\n",
    "I(X; Y) \\approx 0.333 + 0.097 + 0.195 + 0.097 = 0.722 \\text{ bits}\n",
    "$\n",
    "\n",
    "So, the mutual information between `weather` and `play` is approximately **0.722 bits**, which reflects a moderate dependency between these two variables.\n",
    "\n"
   ]
  },
  {
   "cell_type": "markdown",
   "metadata": {},
   "source": [
    "To assess dependency more robustly, it's common to use **Normalized Mutual Information (NMI)**:\n",
    "\n",
    "$\n",
    "\\text{NMI}(X; Y) = \\frac{I(X; Y)}{\\sqrt{H(X) \\cdot H(Y)}}\n",
    "$\n",
    "\n",
    "- **NMI** is bounded between 0 and 1, so thresholds are easier to interpret.\n",
    "- $ \\text{NMI} > 0.5 $ often suggests **meaningful dependency**.\n"
   ]
  },
  {
   "cell_type": "code",
   "execution_count": 8,
   "metadata": {},
   "outputs": [
    {
     "name": "stdout",
     "output_type": "stream",
     "text": [
      "Feature Analysis:\n",
      "------------------\n",
      "Feature: weather  | Entropy: 1.459 | Mutual Information: 0.318\n",
      "Feature: temp     | Entropy: 1.585 | Mutual Information: 0.637\n"
     ]
    }
   ],
   "source": [
    "# Feature Selection using Entropy and Mutual Information\n",
    "\n",
    "## 1. Import Required Libraries\n",
    "import pandas as pd\n",
    "from sklearn.feature_selection import mutual_info_classif\n",
    "from sklearn.preprocessing import LabelEncoder\n",
    "from scipy.stats import entropy\n",
    "import numpy as np\n",
    "\n",
    "## 2. Create Sample Data\n",
    "data = pd.DataFrame({\n",
    "    'weather': ['sunny', 'rainy', 'sunny', 'overcast', 'rainy', 'sunny'],\n",
    "    'temp': ['hot', 'mild', 'hot', 'cool', 'mild', 'cool'],\n",
    "    'play': ['no', 'yes', 'no', 'yes', 'yes', 'yes']\n",
    "})\n",
    "\n",
    "## 3. Encode Categorical Variables\n",
    "le = LabelEncoder()\n",
    "for col in data.columns:\n",
    "    data[col] = le.fit_transform(data[col])\n",
    "\n",
    "X = data.drop('play', axis=1)\n",
    "y = data['play']\n",
    "\n",
    "## 4. Define Entropy Function\n",
    "def compute_entropy(column):\n",
    "    values, counts = np.unique(column, return_counts=True)\n",
    "    probs = counts / counts.sum()\n",
    "    return entropy(probs, base=2)\n",
    "\n",
    "## 5. Compute Entropy and Mutual Information for Each Feature\n",
    "print(\"Feature Analysis:\")\n",
    "print(\"------------------\")\n",
    "for col in X.columns:\n",
    "    ent = compute_entropy(X[col])\n",
    "    mi = mutual_info_classif(X[[col]], y, discrete_features=True)[0]\n",
    "    print(f\"Feature: {col:8} | Entropy: {ent:.3f} | Mutual Information: {mi:.3f}\")\n"
   ]
  },
  {
   "cell_type": "markdown",
   "metadata": {},
   "source": [
    "## **mutual_info_classif**\n",
    "\n",
    "\n",
    "- It estimates mutual information for a discrete target variable.\n",
    "\n",
    "- Mutual information (MI) between two random variables is a non-negative value, which measures the dependency between the variables. It is equal to zero if and only if two random variables are independent, and higher values mean higher dependency. \n",
    "\n",
    "- This function relies on nonparametric methods based on entropy estimation from k-nearest neighbors distances.\n",
    "\n",
    "- It can be used for univariate features selection.\n",
    "\n",
    "- Source : \n",
    "\n",
    "https://scikit-learn.org/stable/modules/generated/sklearn.feature_selection.mutual_info_classif.html#sklearn.feature_selection.mutual_info_classif"
   ]
  },
  {
   "cell_type": "markdown",
   "metadata": {},
   "source": [
    "## **mutual_info_regression**\n",
    "\n",
    "- Estimate mutual information for a continuous target variable.\n",
    "\n",
    "- Mutual information (MI) between two random variables is a non-negative value, which measures the dependency between the variables. It is equal to zero if and only if two random variables are independent, and higher values mean higher dependency.\n",
    "\n",
    "- The function relies on nonparametric methods based on entropy estimation from k-nearest neighbors distances.\n",
    "\n",
    "- It can be used for univariate features selection\n",
    "\n",
    "- Source : \n",
    "\n",
    "https://scikit-learn.org/stable/modules/generated/sklearn.feature_selection.mutual_info_regression.html#sklearn.feature_selection.mutual_info_regression"
   ]
  },
  {
   "cell_type": "markdown",
   "metadata": {},
   "source": [
    "## **2.4 Fisher Score (chi-square implementation)** <a class=\"anchor\" id=\"2.4\"></a>\n",
    "\n",
    "[Table of Contents](#0.1)\n",
    "\n",
    "Fisher score aims to find a feature subset, such that selected features maximize the distances between data points in different classes while minimizing the distances between data points in the same class.\n",
    "In particular, given a training dataset $X\\in R_{mn}$ \n",
    "with respect to c different classes, the Fisher score of the ith feature is computed by\n",
    "\n",
    "$$F(f_i)=\\frac{S_b(f_i)}{\\sum_{k=1}^c S_t^{(k)}(f_i)}$$\n",
    "\n",
    "where $S_b(f_i) = \\sum_{k=1}^c n_k(\\mu_i^{(k)}-\\mu_i)^2$ is the between class scatter of the ith feature, $n_k$ is the number of samples in the kth class, $\\mu_i^{(k)}$ is the mean of the ith feature in the kth class, $\\mu_i$ is the mean of the ith feature in $X$, $S_t^{(k)}(f_i) = \\sum_{j=1}^{n_k}(x_{ij}^{(k)}-\\mu_i^{(k)})^2$ is the within class scatter matrix of the ith feature with respect to the kth class, and $x_{ij}^{(k)}$ denotes the value of the ith feature for jth sample in kth class.\n",
    "\n",
    "(ref: https://sci-hub.se/https://www.sciencedirect.com/science/article/abs/pii/S002002552100832X)\n",
    "\n"
   ]
  },
  {
   "cell_type": "code",
   "execution_count": 11,
   "metadata": {
    "collapsed": true,
    "execution": {
     "iopub.execute_input": "2024-04-07T21:13:07.016419Z",
     "iopub.status.busy": "2024-04-07T21:13:07.016036Z",
     "iopub.status.idle": "2024-04-07T21:15:37.368580Z",
     "shell.execute_reply": "2024-04-07T21:15:37.367293Z",
     "shell.execute_reply.started": "2024-04-07T21:13:07.016345Z"
    },
    "jupyter": {
     "outputs_hidden": true
    }
   },
   "outputs": [
    {
     "name": "stdout",
     "output_type": "stream",
     "text": [
      "\u001b[33mWARNING: Retrying (Retry(total=4, connect=None, read=None, redirect=None, status=None)) after connection broken by 'NewConnectionError('<pip._vendor.urllib3.connection.VerifiedHTTPSConnection object at 0x79bad6ef25f8>: Failed to establish a new connection: [Errno -3] Temporary failure in name resolution',)': /simple/skfeature-chappers/\u001b[0m\n",
      "\u001b[33mWARNING: Retrying (Retry(total=3, connect=None, read=None, redirect=None, status=None)) after connection broken by 'NewConnectionError('<pip._vendor.urllib3.connection.VerifiedHTTPSConnection object at 0x79bad6ef2518>: Failed to establish a new connection: [Errno -3] Temporary failure in name resolution',)': /simple/skfeature-chappers/\u001b[0m\n",
      "\u001b[33mWARNING: Retrying (Retry(total=2, connect=None, read=None, redirect=None, status=None)) after connection broken by 'NewConnectionError('<pip._vendor.urllib3.connection.VerifiedHTTPSConnection object at 0x79bad6ef2470>: Failed to establish a new connection: [Errno -3] Temporary failure in name resolution',)': /simple/skfeature-chappers/\u001b[0m\n",
      "\u001b[33mWARNING: Retrying (Retry(total=1, connect=None, read=None, redirect=None, status=None)) after connection broken by 'NewConnectionError('<pip._vendor.urllib3.connection.VerifiedHTTPSConnection object at 0x79bad6ef2400>: Failed to establish a new connection: [Errno -3] Temporary failure in name resolution',)': /simple/skfeature-chappers/\u001b[0m\n",
      "\u001b[33mWARNING: Retrying (Retry(total=0, connect=None, read=None, redirect=None, status=None)) after connection broken by 'NewConnectionError('<pip._vendor.urllib3.connection.VerifiedHTTPSConnection object at 0x79bad6ef23c8>: Failed to establish a new connection: [Errno -3] Temporary failure in name resolution',)': /simple/skfeature-chappers/\u001b[0m\n",
      "\u001b[31mERROR: Could not find a version that satisfies the requirement skfeature-chappers (from versions: none)\u001b[0m\n",
      "\u001b[31mERROR: No matching distribution found for skfeature-chappers\u001b[0m\n",
      "Note: you may need to restart the kernel to use updated packages.\n"
     ]
    }
   ],
   "source": [
    "pip install skfeature-chappers"
   ]
  },
  {
   "cell_type": "code",
   "execution_count": 12,
   "metadata": {
    "collapsed": true,
    "execution": {
     "iopub.execute_input": "2024-04-07T21:31:20.576865Z",
     "iopub.status.busy": "2024-04-07T21:31:20.576523Z",
     "iopub.status.idle": "2024-04-07T21:31:20.601346Z",
     "shell.execute_reply": "2024-04-07T21:31:20.599994Z",
     "shell.execute_reply.started": "2024-04-07T21:31:20.576817Z"
    },
    "jupyter": {
     "outputs_hidden": true
    }
   },
   "outputs": [
    {
     "ename": "ModuleNotFoundError",
     "evalue": "No module named 'skfeature'",
     "output_type": "error",
     "traceback": [
      "\u001b[0;31m---------------------------------------------------------------------------\u001b[0m",
      "\u001b[0;31mModuleNotFoundError\u001b[0m                       Traceback (most recent call last)",
      "\u001b[0;32m<ipython-input-12-8d224f829b05>\u001b[0m in \u001b[0;36m<module>\u001b[0;34m\u001b[0m\n\u001b[0;32m----> 1\u001b[0;31m \u001b[0;32mfrom\u001b[0m \u001b[0mskfeature\u001b[0m\u001b[0;34m.\u001b[0m\u001b[0mfunction\u001b[0m\u001b[0;34m.\u001b[0m\u001b[0msimilarity_based\u001b[0m \u001b[0;32mimport\u001b[0m \u001b[0mfisher_score\u001b[0m\u001b[0;34m\u001b[0m\u001b[0m\n\u001b[0m\u001b[1;32m      2\u001b[0m \u001b[0;32mfrom\u001b[0m \u001b[0msklearn\u001b[0m\u001b[0;34m.\u001b[0m\u001b[0mdatasets\u001b[0m \u001b[0;32mimport\u001b[0m \u001b[0mload_diabetes\u001b[0m\u001b[0;34m\u001b[0m\u001b[0m\n\u001b[1;32m      3\u001b[0m \u001b[0;34m\u001b[0m\u001b[0m\n\u001b[1;32m      4\u001b[0m \u001b[0mdb\u001b[0m \u001b[0;34m=\u001b[0m \u001b[0mload_diabetes\u001b[0m\u001b[0;34m(\u001b[0m\u001b[0;34m)\u001b[0m\u001b[0;34m\u001b[0m\u001b[0m\n\u001b[1;32m      5\u001b[0m \u001b[0my_train\u001b[0m \u001b[0;34m=\u001b[0m \u001b[0mdb\u001b[0m\u001b[0;34m.\u001b[0m\u001b[0mtarget\u001b[0m\u001b[0;34m\u001b[0m\u001b[0m\n",
      "\u001b[0;31mModuleNotFoundError\u001b[0m: No module named 'skfeature'"
     ]
    }
   ],
   "source": [
    "from skfeature.function.similarity_based import fisher_score\n",
    "from sklearn.datasets import load_diabetes\n",
    "\n",
    "db = load_diabetes()\n",
    "y_train = db.target\n",
    "X_train = db.data\n",
    "\n",
    "idx = fisher_score.fisher_score(X_train, y_train, mode='rank') #returns rank directly instead of fisher score. so no need for feature_ranking\n",
    "print(idx)"
   ]
  },
  {
   "cell_type": "markdown",
   "metadata": {},
   "source": [
    "It is the **chi-square implementation** in scikit-learn. It computes chi-squared stats between each non-negative feature and class.\n",
    "\n",
    "- This score should be used to evaluate categorical variables in a classification task. It compares the observed distribution of the different classes of target Y among the different categories of the feature, against the expected distribution of the target classes, regardless of the feature categories. \n"
   ]
  },
  {
   "cell_type": "code",
   "execution_count": 23,
   "metadata": {
    "execution": {
     "iopub.execute_input": "2024-04-05T19:01:47.061696Z",
     "iopub.status.busy": "2024-04-05T19:01:47.061209Z",
     "iopub.status.idle": "2024-04-05T19:01:47.067472Z",
     "shell.execute_reply": "2024-04-05T19:01:47.066018Z",
     "shell.execute_reply.started": "2024-04-05T19:01:47.061613Z"
    }
   },
   "outputs": [],
   "source": [
    "# load libraries\n",
    "from sklearn.datasets import load_iris\n",
    "from sklearn.feature_selection import SelectKBest, chi2"
   ]
  },
  {
   "cell_type": "code",
   "execution_count": 24,
   "metadata": {
    "execution": {
     "iopub.execute_input": "2024-04-05T19:01:56.246433Z",
     "iopub.status.busy": "2024-04-05T19:01:56.245830Z",
     "iopub.status.idle": "2024-04-05T19:01:56.254812Z",
     "shell.execute_reply": "2024-04-05T19:01:56.253800Z",
     "shell.execute_reply.started": "2024-04-05T19:01:56.246379Z"
    }
   },
   "outputs": [],
   "source": [
    "# Load Data\n",
    "# load iris data\n",
    "iris = load_iris()\n",
    "\n",
    "# create features and target\n",
    "X = iris.data\n",
    "y = iris.target\n",
    "\n",
    "# convert to categorical data by converting data to integers\n",
    "X = X.astype(int)"
   ]
  },
  {
   "cell_type": "code",
   "execution_count": 27,
   "metadata": {
    "execution": {
     "iopub.execute_input": "2024-04-05T19:02:11.457832Z",
     "iopub.status.busy": "2024-04-05T19:02:11.457117Z",
     "iopub.status.idle": "2024-04-05T19:02:11.465668Z",
     "shell.execute_reply": "2024-04-05T19:02:11.464246Z",
     "shell.execute_reply.started": "2024-04-05T19:02:11.457771Z"
    }
   },
   "outputs": [],
   "source": [
    "# Compare Chi-Squared Statistics\n",
    "# select two features with highest chi-squared statistics\n",
    "chi2_selector = SelectKBest(chi2, k=2)\n",
    "X_kbest = chi2_selector.fit_transform(X, y)"
   ]
  },
  {
   "cell_type": "code",
   "execution_count": 28,
   "metadata": {
    "execution": {
     "iopub.execute_input": "2024-04-05T19:02:19.211863Z",
     "iopub.status.busy": "2024-04-05T19:02:19.211459Z",
     "iopub.status.idle": "2024-04-05T19:02:19.219215Z",
     "shell.execute_reply": "2024-04-05T19:02:19.218167Z",
     "shell.execute_reply.started": "2024-04-05T19:02:19.211795Z"
    }
   },
   "outputs": [
    {
     "name": "stdout",
     "output_type": "stream",
     "text": [
      "Original number of features: 4\n",
      "Reduced number of features: 2\n"
     ]
    }
   ],
   "source": [
    "# View results\n",
    "print('Original number of features:', X.shape[1])\n",
    "print('Reduced number of features:', X_kbest.shape[1])"
   ]
  },
  {
   "cell_type": "markdown",
   "metadata": {},
   "source": [
    "- We can see that the above code helps us to select the 2 best features based on Fisher score."
   ]
  },
  {
   "attachments": {
    "9734c2d5-e03b-48fc-a72d-1de6cac53e6d.png": {
     "image/png": "[encoded data removed]"
    }
   },
   "cell_type": "markdown",
   "metadata": {
    "execution": {
     "iopub.execute_input": "2024-04-07T21:07:57.256559Z",
     "iopub.status.busy": "2024-04-07T21:07:57.256184Z",
     "iopub.status.idle": "2024-04-07T21:07:57.277642Z",
     "shell.execute_reply": "2024-04-07T21:07:57.276160Z",
     "shell.execute_reply.started": "2024-04-07T21:07:57.256504Z"
    }
   },
   "source": [
    "## **2.5 ANOVA F-value For Feature Selection**  <a class=\"anchor\" id=\"2.5\"></a>\n",
    "\n",
    "[Table of Contents](#0.1)\n",
    " \n",
    "Analysis of Variance (ANOVA) is a statistical method, used to check the means of two or more groups that are significantly different from each other. It assumes Hypothesis as\n",
    "\n",
    "- H0: Means of all groups are equal (null hypothesis).\n",
    "\n",
    "- H1: At least one mean of the groups are different (alternative hypothesis).\n",
    "\n",
    "ANOVA uses **F-test** check if there is any significant difference between the groups. If there is no significant difference between the groups that all variances are equal, the result of ANOVA’s F-ratio will be close to 1.\n",
    "\n",
    "\n",
    "**How comparison of means transformed to the comparison of variance?**\n",
    "Consider two distributions and their behavior in below fig.\n",
    "\n",
    "<center>\n",
    "    <img src= \"https://miro.medium.com/v2/resize:fit:1100/format:webp/1*hVvwgvfkVgQjoWLrOkFjXA.png\"\" width=\"600\" />\n",
    "</center>\n",
    "\n",
    "![image.png](attachment:9734c2d5-e03b-48fc-a72d-1de6cac53e6d.png)\n",
    "\n",
    "[reference](https://towardsdatascience.com/anova-for-feature-selection-in-machine-learning-d9305e228476)\n",
    "\n",
    "From the above fig, we can say If the distributions overlap or close, the grand mean will be similar to individual means whereas if distributions are far, the grand mean and individual means differ by larger distance.\n",
    "It refers to variations between the groups as the values in each group are different. So in ANOVA, we will compare Between-group variability to Within-group variability.\n",
    "\n",
    "\n",
    "**How compute ANOVA?**\n",
    "* Between the Sum of Squares:\n",
    "\n",
    "Compute the distance between each group average value g from grand means xbar. Doing similar to the total sum of squares we get\n",
    "\n",
    "$SSB = \\sum_i(g_i-\\bar X)^2$\n",
    "\n",
    "* Within the Sum of Squares:\n",
    "\n",
    "Compute the distance between each observed value within the group x from the group-mean g. Doing similar to the total sum of squares we get\n",
    "\n",
    "$SSE = \\sum(x_i-g)^2$\n",
    "\n",
    "* Total Sum of Squares\n",
    "\n",
    "The distance between each observed point x from the grand mean xbar is x-xbar. If you calculate this distance between each data point, square each distance and add up all the squared distances you get\n",
    "\n",
    "$SST = \\sum(x_i - \\bar X)$\n",
    "\n",
    "The total sum of squares = SSB + SSE\n",
    "\n",
    "* Degrees of Freedom\n",
    "\n",
    "Degrees of freedom refers to the maximum number of logically independent values, which have the freedom to vary. In simple words, it can be defined as the total number of observations minus the number of independent constraints imposed on the observations.\n",
    "\n",
    "Df = N -1 where N is the Sample Size\n",
    "\n",
    "## F-value\n",
    "\n",
    "Since we are comparing the variance between the groups and variance within the groups. The F value is given as\n",
    "\n",
    "$$ \\displaystyle F-value = \\frac{\\frac{SSB}{df_b}}{\\frac{SSW}{df_w}}$$\n",
    "\n",
    "- Compute the ANOVA F-value for the provided sample.\n",
    "\n",
    "- If the features are categorical, we will calculate a chi-square statistic between each feature and the target vector. However, if the features are quantitative, we will compute the ANOVA F-value between each feature and the target vector.\n",
    "\n",
    "- The F-value scores examine if, when we group the numerical feature by the target vector, the means for each group are significantly different."
   ]
  },
  {
   "cell_type": "markdown",
   "metadata": {},
   "source": [
    "## Example ([ref](https://towardsdatascience.com/anova-for-feature-selection-in-machine-learning-d9305e228476))\n",
    "Let’s consider a school dataset having data about student’s performance. We have to predict the final grade of the student based on features like age, guardian, study time, failures, activities, etc.\n",
    "\n",
    "By using One Way ANOVA let us determine is there any impact of the guardian on the final grade. Below is the data\n",
    "\n",
    "<center>\n",
    "    <img src = \"https://miro.medium.com/v2/resize:fit:386/format:webp/1*zkAbiPcd7uTPYOK1OTSvNg.png\" width=\"200\" />\n",
    "</center>\n",
    "\n",
    "We can see guardian ( mother, father, other ) as columns and student final grade in rows.\n",
    "Since we have 3 groups ( mother, father, other) degrees of freedom for Between groups can be given as (3–1) = 2. Also, having 18 samples in each group, Degrees of freedom for within groups will be the sum of degrees of freedom of all groups that is (18–1) + (18–1) + (18–1) = 51.\n",
    "\n",
    "Calculating Sum of Squares and F value here is the summary.\n",
    "\n",
    "<center>\n",
    "    <img src = \"https://miro.medium.com/v2/resize:fit:640/format:webp/1*JfwXOsRg7O8QFIGG3ICeuQ.png\" width = \"400\" />\n",
    "</center>\n",
    "\n",
    "With 95% confidence, alpha = 0.05 , df1 =2 ,df2 =51 given F value from the [F table](https://www.socscistatistics.com/tests/criticalvalues/default.aspx) is 3.179 and the calculated F value is 18.49.\n",
    "\n",
    "**ANOVA Table Explained**\n",
    "\n",
    "1. Source of Variation\n",
    "   \n",
    "Between Groups: Variability due to differences between group means.\n",
    "\n",
    "Within Groups: Variability due to differences within individual groups (error variance).\n",
    "\n",
    "2. SS (Sum of Squares)\n",
    "   \n",
    "Between Groups (SSB): 1758.037, the total squared differences between group means and the grand mean.\n",
    "\n",
    "Within Groups (SSW): 2423.611, the total squared differences within each group (individual observations vs. group means).\n",
    "\n",
    "3. df (Degrees of Freedom)\n",
    "   \n",
    "Between Groups: df = 2 (number of groups minus one, k−1).\n",
    "\n",
    "Within Groups: df = 51 (total number of observations minus number of groups, N−k).\n",
    "\n",
    "4. MS (Mean Squares)\n",
    "   \n",
    "Between Groups (MSB): 879.0185 (SSB/df = 1758.037 / 2).\n",
    "\n",
    "Within Groups (MSW): 47.52179 (SSW/df = 2423.611 / 51).\n",
    "\n",
    "5. F-Statistic\n",
    "   \n",
    "F = 18.49717 (MSB/MSW = 879.0185 / 47.52179).\n",
    "This tests whether group means are significantly different.\n",
    "\n",
    "\n",
    "<center>\n",
    "    <img src = \"https://miro.medium.com/v2/resize:fit:828/format:webp/1*xxfTC43OWJEXNIqshdeP9Q.png\" width = \"400\" />\n",
    "</center>\n",
    "we see that the calculated F value falls in the rejection region that is beyond our confidence level. So we are rejecting the Null Hypothesis."
   ]
  },
  {
   "cell_type": "code",
   "execution_count": 29,
   "metadata": {
    "execution": {
     "iopub.execute_input": "2024-04-05T19:02:35.865051Z",
     "iopub.status.busy": "2024-04-05T19:02:35.864348Z",
     "iopub.status.idle": "2024-04-05T19:02:35.870820Z",
     "shell.execute_reply": "2024-04-05T19:02:35.869400Z",
     "shell.execute_reply.started": "2024-04-05T19:02:35.864950Z"
    }
   },
   "outputs": [],
   "source": [
    "# Load libraries\n",
    "from sklearn.datasets import load_iris\n",
    "from sklearn.feature_selection import SelectKBest\n",
    "from sklearn.feature_selection import f_classif"
   ]
  },
  {
   "cell_type": "code",
   "execution_count": 30,
   "metadata": {
    "execution": {
     "iopub.execute_input": "2024-04-05T19:02:39.092935Z",
     "iopub.status.busy": "2024-04-05T19:02:39.092162Z",
     "iopub.status.idle": "2024-04-05T19:02:39.101045Z",
     "shell.execute_reply": "2024-04-05T19:02:39.099817Z",
     "shell.execute_reply.started": "2024-04-05T19:02:39.092839Z"
    }
   },
   "outputs": [],
   "source": [
    "# Load iris data\n",
    "iris = load_iris()\n",
    "\n",
    "# Create features and target\n",
    "X = iris.data\n",
    "y = iris.target"
   ]
  },
  {
   "cell_type": "code",
   "execution_count": null,
   "metadata": {
    "execution": {
     "iopub.execute_input": "2024-04-07T21:08:28.060754Z",
     "iopub.status.busy": "2024-04-07T21:08:28.060423Z",
     "iopub.status.idle": "2024-04-07T21:08:28.075495Z",
     "shell.execute_reply": "2024-04-07T21:08:28.073906Z",
     "shell.execute_reply.started": "2024-04-07T21:08:28.060704Z"
    }
   },
   "outputs": [],
   "source": [
    "# Select Features With Best ANOVA F-Values\n",
    "\n",
    "# Create an SelectKBest object to select features with two best ANOVA F-Values\n",
    "fvalue_selector = SelectKBest(f_classif, k=2)\n",
    "\n",
    "# Apply the SelectKBest object to the features and target\n",
    "X_kbest = fvalue_selector.fit_transform(X, y)"
   ]
  },
  {
   "cell_type": "code",
   "execution_count": 33,
   "metadata": {
    "execution": {
     "iopub.execute_input": "2024-04-05T19:03:15.041297Z",
     "iopub.status.busy": "2024-04-05T19:03:15.040607Z",
     "iopub.status.idle": "2024-04-05T19:03:15.048159Z",
     "shell.execute_reply": "2024-04-05T19:03:15.047274Z",
     "shell.execute_reply.started": "2024-04-05T19:03:15.041238Z"
    }
   },
   "outputs": [
    {
     "name": "stdout",
     "output_type": "stream",
     "text": [
      "Original number of features: 4\n",
      "Reduced number of features: 2\n"
     ]
    }
   ],
   "source": [
    "# View results\n",
    "print('Original number of features:', X.shape[1])\n",
    "print('Reduced number of features:', X_kbest.shape[1])"
   ]
  },
  {
   "cell_type": "markdown",
   "metadata": {},
   "source": [
    "- We can see that the above code helps us to select the 2 best features based on ANOVA F-Value."
   ]
  },
  {
   "cell_type": "markdown",
   "metadata": {},
   "source": [
    "## **2.6 Correlation-Matrix with Heatmap** <a class=\"anchor\" id=\"2.6\"></a>\n",
    "\n",
    "[Table of Contents](#0.1)\n",
    "\n",
    "\n",
    "- **Correlation** is a measure of the linear relationship of 2 or more variables. Through correlation, we can predict one variable from the other.\n",
    "\n",
    "- **Good variables are highly correlated with the target**.\n",
    "\n",
    "- Correlated predictor variables provide redundant information.\n",
    "\n",
    "- **Variables should be correlated with the target but uncorrelated among themselves**.\n",
    "\n",
    "\n",
    "- Therefore, the Correlation Feature Selection evaluates subsets of features on the basis of the following hypothesis: \n",
    "\n",
    "   - \"Good feature subsets contain features highly correlated with the target, yet uncorrelated to each other\".\n",
    "   \n",
    "   \n",
    "- In this section,  I will demonstrate how to select features based on correlation between two features. We can find features that are correlated with each other. By identifying these features, we can then decide which features we want to keep, and which ones we want to remove.\n"
   ]
  },
  {
   "cell_type": "markdown",
   "metadata": {},
   "source": [
    "- Using Pearson correlation our returned coefficient values will vary between -1 and 1.\n",
    "\n",
    "<font size = \"4\">\n",
    "$\\rho _{X,Y}={\\frac {\\operatorname {cov} (X,Y)}{\\sigma _{X}\\sigma _{Y}}}=\\rho _{X,Y}={\\frac {\\operatorname {\\mathbb {E} } [(X-\\mu _{X})(Y-\\mu _{Y})]}{\\sigma _{X}\\sigma _{Y}}}$\n",
    "</font>    \n",
    "\n",
    "- If the correlation between two features is 0 this means that changing any of these two features will not affect the other.\n",
    "\n",
    "- If the correlation between two features is greater than 0 this means that increasing the values in one feature will make increase also the values in the other feature (the closer the correlation coefficient is to 1 and the stronger is going to be this bond between the two different features).\n",
    "\n",
    "- If the correlation between two features is less than 0 this means that increasing the values in one feature will make decrease the values in the other feature (the closer the correlation coefficient is to -1 and the stronger is going to be this relationship between the two different features).\n",
    "\n",
    "- In this analysis we will check if the selected variables are highly correlated with each other. If they are, we would then need to keep just one of the correlated ones and drop the others."
   ]
  },
  {
   "cell_type": "code",
   "execution_count": 34,
   "metadata": {
    "execution": {
     "iopub.execute_input": "2024-04-05T19:03:25.610454Z",
     "iopub.status.busy": "2024-04-05T19:03:25.609667Z",
     "iopub.status.idle": "2024-04-05T19:03:25.619865Z",
     "shell.execute_reply": "2024-04-05T19:03:25.618299Z",
     "shell.execute_reply.started": "2024-04-05T19:03:25.610374Z"
    }
   },
   "outputs": [],
   "source": [
    "# Load iris data\n",
    "from sklearn.datasets import load_iris\n",
    "iris = load_iris()\n",
    "\n",
    "# Create features and target\n",
    "X = iris.data\n",
    "y = iris.target"
   ]
  },
  {
   "cell_type": "code",
   "execution_count": 35,
   "metadata": {
    "execution": {
     "iopub.execute_input": "2024-04-05T19:03:28.726950Z",
     "iopub.status.busy": "2024-04-05T19:03:28.726478Z",
     "iopub.status.idle": "2024-04-05T19:03:28.748328Z",
     "shell.execute_reply": "2024-04-05T19:03:28.746430Z",
     "shell.execute_reply.started": "2024-04-05T19:03:28.726873Z"
    }
   },
   "outputs": [
    {
     "name": "stdout",
     "output_type": "stream",
     "text": [
      "       0    1    2    3\n",
      "0    5.1  3.5  1.4  0.2\n",
      "1    4.9  3.0  1.4  0.2\n",
      "2    4.7  3.2  1.3  0.2\n",
      "3    4.6  3.1  1.5  0.2\n",
      "4    5.0  3.6  1.4  0.2\n",
      "..   ...  ...  ...  ...\n",
      "145  6.7  3.0  5.2  2.3\n",
      "146  6.3  2.5  5.0  1.9\n",
      "147  6.5  3.0  5.2  2.0\n",
      "148  6.2  3.4  5.4  2.3\n",
      "149  5.9  3.0  5.1  1.8\n",
      "\n",
      "[150 rows x 4 columns]\n"
     ]
    }
   ],
   "source": [
    "# Convert feature matrix into DataFrame\n",
    "df = pd.DataFrame(X)\n",
    "\n",
    "# View the data frame\n",
    "print(df)"
   ]
  },
  {
   "cell_type": "code",
   "execution_count": 36,
   "metadata": {
    "execution": {
     "iopub.execute_input": "2024-04-05T19:03:36.027240Z",
     "iopub.status.busy": "2024-04-05T19:03:36.026394Z",
     "iopub.status.idle": "2024-04-05T19:03:36.039299Z",
     "shell.execute_reply": "2024-04-05T19:03:36.038198Z",
     "shell.execute_reply.started": "2024-04-05T19:03:36.027160Z"
    }
   },
   "outputs": [
    {
     "name": "stdout",
     "output_type": "stream",
     "text": [
      "          0         1         2         3\n",
      "0  1.000000 -0.117570  0.871754  0.817941\n",
      "1 -0.117570  1.000000 -0.428440 -0.366126\n",
      "2  0.871754 -0.428440  1.000000  0.962865\n",
      "3  0.817941 -0.366126  0.962865  1.000000\n"
     ]
    }
   ],
   "source": [
    "# Create correlation matrix\n",
    "corr_matrix = df.corr()\n",
    "print(corr_matrix)"
   ]
  },
  {
   "cell_type": "code",
   "execution_count": 37,
   "metadata": {
    "execution": {
     "iopub.execute_input": "2024-04-05T19:03:42.207337Z",
     "iopub.status.busy": "2024-04-05T19:03:42.206560Z",
     "iopub.status.idle": "2024-04-05T19:03:42.771045Z",
     "shell.execute_reply": "2024-04-05T19:03:42.769260Z",
     "shell.execute_reply.started": "2024-04-05T19:03:42.207274Z"
    }
   },
   "outputs": [
    {
     "data": {
      "image/png": "[encoded data removed]",
      "text/plain": [
       "<Figure size 576x432 with 2 Axes>"
      ]
     },
     "metadata": {
      "needs_background": "light"
     },
     "output_type": "display_data"
    }
   ],
   "source": [
    "# Create correlation heatmap\n",
    "plt.figure(figsize=(8,6))\n",
    "plt.title('Correlation Heatmap of Iris Dataset')\n",
    "a = sns.heatmap(corr_matrix, square=True, annot=True, fmt='.2f', linecolor='black')\n",
    "a.set_xticklabels(a.get_xticklabels(), rotation=30)\n",
    "a.set_yticklabels(a.get_yticklabels(), rotation=30)           \n",
    "plt.show()    \n"
   ]
  },
  {
   "cell_type": "code",
   "execution_count": 38,
   "metadata": {
    "execution": {
     "iopub.execute_input": "2024-04-05T19:04:31.358281Z",
     "iopub.status.busy": "2024-04-05T19:04:31.357788Z",
     "iopub.status.idle": "2024-04-05T19:04:31.385051Z",
     "shell.execute_reply": "2024-04-05T19:04:31.383111Z",
     "shell.execute_reply.started": "2024-04-05T19:04:31.358209Z"
    }
   },
   "outputs": [
    {
     "data": {
      "text/html": [
       "<div>\n",
       "<style scoped>\n",
       "    .dataframe tbody tr th:only-of-type {\n",
       "        vertical-align: middle;\n",
       "    }\n",
       "\n",
       "    .dataframe tbody tr th {\n",
       "        vertical-align: top;\n",
       "    }\n",
       "\n",
       "    .dataframe thead th {\n",
       "        text-align: right;\n",
       "    }\n",
       "</style>\n",
       "<table border=\"1\" class=\"dataframe\">\n",
       "  <thead>\n",
       "    <tr style=\"text-align: right;\">\n",
       "      <th></th>\n",
       "      <th>0</th>\n",
       "      <th>1</th>\n",
       "      <th>2</th>\n",
       "      <th>3</th>\n",
       "    </tr>\n",
       "  </thead>\n",
       "  <tbody>\n",
       "    <tr>\n",
       "      <th>0</th>\n",
       "      <td>NaN</td>\n",
       "      <td>-0.11757</td>\n",
       "      <td>0.871754</td>\n",
       "      <td>0.817941</td>\n",
       "    </tr>\n",
       "    <tr>\n",
       "      <th>1</th>\n",
       "      <td>NaN</td>\n",
       "      <td>NaN</td>\n",
       "      <td>-0.428440</td>\n",
       "      <td>-0.366126</td>\n",
       "    </tr>\n",
       "    <tr>\n",
       "      <th>2</th>\n",
       "      <td>NaN</td>\n",
       "      <td>NaN</td>\n",
       "      <td>NaN</td>\n",
       "      <td>0.962865</td>\n",
       "    </tr>\n",
       "    <tr>\n",
       "      <th>3</th>\n",
       "      <td>NaN</td>\n",
       "      <td>NaN</td>\n",
       "      <td>NaN</td>\n",
       "      <td>NaN</td>\n",
       "    </tr>\n",
       "  </tbody>\n",
       "</table>\n",
       "</div>"
      ],
      "text/plain": [
       "    0        1         2         3\n",
       "0 NaN -0.11757  0.871754  0.817941\n",
       "1 NaN      NaN -0.428440 -0.366126\n",
       "2 NaN      NaN       NaN  0.962865\n",
       "3 NaN      NaN       NaN       NaN"
      ]
     },
     "execution_count": 38,
     "metadata": {},
     "output_type": "execute_result"
    }
   ],
   "source": [
    " # Select upper triangle of correlation matrix\n",
    "upper = corr_matrix.where(np.triu(np.ones(corr_matrix.shape), k=1).astype(np.bool))\n",
    "upper    "
   ]
  },
  {
   "cell_type": "code",
   "execution_count": 39,
   "metadata": {
    "execution": {
     "iopub.execute_input": "2024-04-05T19:04:39.029154Z",
     "iopub.status.busy": "2024-04-05T19:04:39.028587Z",
     "iopub.status.idle": "2024-04-05T19:04:39.040640Z",
     "shell.execute_reply": "2024-04-05T19:04:39.039439Z",
     "shell.execute_reply.started": "2024-04-05T19:04:39.029058Z"
    }
   },
   "outputs": [
    {
     "name": "stdout",
     "output_type": "stream",
     "text": [
      "[3]\n"
     ]
    }
   ],
   "source": [
    "# Find index of feature columns with correlation greater than 0.9\n",
    "to_drop = [column for column in upper.columns if any(upper[column] > 0.9)]\n",
    "print(to_drop)"
   ]
  },
  {
   "cell_type": "code",
   "execution_count": null,
   "metadata": {},
   "outputs": [],
   "source": [
    "# Drop Marked Features\n",
    "df1 = df.drop(df.columns[to_drop], axis=1)\n",
    "print(df1)\n"
   ]
  },
  {
   "cell_type": "markdown",
   "metadata": {},
   "source": [
    "- We can see that we have dropped the third column from the original dataset."
   ]
  },
  {
   "cell_type": "markdown",
   "metadata": {},
   "source": [
    "## **2.7 Relief-based feature selection** <a class=\"anchor\" id=\"2.7\"></a>\n",
    "\n",
    "[Table of Contents](#0.1)\n",
    "\n",
    "\n",
    "Take a data set with n instances of p features, belonging to two known classes. Within the data set, each feature should be scaled to the interval [0 1] (binary data should remain as 0 and 1). The algorithm will be repeated m times. Start with a p-long weight vector (W) of zeros.\n",
    "\n",
    "At each stage in this method,a sample is randomly selected from among the samples available in the dataset. Then, the relevance of each feature is updated based on the difference between the selected sample and its two nearest neighbors (one belonging to the same class as the selected sample (Hit) and the other belonging to the opposite class (Miss)). If one of the features of the selected sample differs from the corresponding feature in the neighbor sample of the same class (Hit sample), the score of this feature decreases. On the other hand, if the same feature in the selected sample differs from the corresponding feature in the neighbor sample of the opposite class (Miss sample), the score of this feature increases.\n",
    "\n",
    "$ W_{i}=W_{i}-(x_{i}-\\mathrm {nearHit} _{i})^{2}+(x_{i}-\\mathrm {nearMiss} _{i})^{2}$\n",
    "\n",
    "<center>\n",
    "    <img src = \"https://upload.wikimedia.org/wikipedia/commons/thumb/9/95/Relief_Wiki.svg/1280px-Relief_Wiki.svg.png\" width = \"500\"/>\n",
    "</center>\n",
    "\n"
   ]
  },
  {
   "cell_type": "code",
   "execution_count": null,
   "metadata": {
    "collapsed": true,
    "execution": {
     "iopub.execute_input": "2024-04-05T20:50:10.692194Z",
     "iopub.status.busy": "2024-04-05T20:50:10.691753Z"
    },
    "jupyter": {
     "outputs_hidden": true
    }
   },
   "outputs": [
    {
     "name": "stdout",
     "output_type": "stream",
     "text": [
      "\u001b[33mWARNING: Retrying (Retry(total=4, connect=None, read=None, redirect=None, status=None)) after connection broken by 'NewConnectionError('<pip._vendor.urllib3.connection.VerifiedHTTPSConnection object at 0x783622786cf8>: Failed to establish a new connection: [Errno -3] Temporary failure in name resolution',)': /simple/sklearn-relief/\u001b[0m\n",
      "\u001b[33mWARNING: Retrying (Retry(total=3, connect=None, read=None, redirect=None, status=None)) after connection broken by 'NewConnectionError('<pip._vendor.urllib3.connection.VerifiedHTTPSConnection object at 0x783622786588>: Failed to establish a new connection: [Errno -3] Temporary failure in name resolution',)': /simple/sklearn-relief/\u001b[0m\n",
      "\u001b[33mWARNING: Retrying (Retry(total=2, connect=None, read=None, redirect=None, status=None)) after connection broken by 'NewConnectionError('<pip._vendor.urllib3.connection.VerifiedHTTPSConnection object at 0x783622786438>: Failed to establish a new connection: [Errno -3] Temporary failure in name resolution',)': /simple/sklearn-relief/\u001b[0m\n",
      "\u001b[33mWARNING: Retrying (Retry(total=1, connect=None, read=None, redirect=None, status=None)) after connection broken by 'NewConnectionError('<pip._vendor.urllib3.connection.VerifiedHTTPSConnection object at 0x783622786630>: Failed to establish a new connection: [Errno -3] Temporary failure in name resolution',)': /simple/sklearn-relief/\u001b[0m\n",
      "\u001b[33mWARNING: Retrying (Retry(total=0, connect=None, read=None, redirect=None, status=None)) after connection broken by 'NewConnectionError('<pip._vendor.urllib3.connection.VerifiedHTTPSConnection object at 0x783622786390>: Failed to establish a new connection: [Errno -3] Temporary failure in name resolution',)': /simple/sklearn-relief/\u001b[0m\n",
      "\u001b[31mERROR: Could not find a version that satisfies the requirement sklearn_relief (from versions: none)\u001b[0m\n",
      "\u001b[31mERROR: No matching distribution found for sklearn_relief\u001b[0m\n"
     ]
    }
   ],
   "source": [
    "!pip install sklearn_relief"
   ]
  },
  {
   "cell_type": "code",
   "execution_count": 1,
   "metadata": {
    "collapsed": true,
    "execution": {
     "iopub.execute_input": "2024-04-05T20:18:39.292661Z",
     "iopub.status.busy": "2024-04-05T20:18:39.292211Z",
     "iopub.status.idle": "2024-04-05T20:18:40.840630Z",
     "shell.execute_reply": "2024-04-05T20:18:40.838816Z",
     "shell.execute_reply.started": "2024-04-05T20:18:39.292574Z"
    },
    "jupyter": {
     "outputs_hidden": true
    }
   },
   "outputs": [
    {
     "ename": "ModuleNotFoundError",
     "evalue": "No module named 'skrebate'",
     "output_type": "error",
     "traceback": [
      "\u001b[0;31m---------------------------------------------------------------------------\u001b[0m",
      "\u001b[0;31mModuleNotFoundError\u001b[0m                       Traceback (most recent call last)",
      "\u001b[0;32m<ipython-input-1-b64eedd197e6>\u001b[0m in \u001b[0;36m<module>\u001b[0;34m\u001b[0m\n\u001b[1;32m      2\u001b[0m \u001b[0;32mimport\u001b[0m \u001b[0mnumpy\u001b[0m \u001b[0;32mas\u001b[0m \u001b[0mnp\u001b[0m\u001b[0;34m\u001b[0m\u001b[0m\n\u001b[1;32m      3\u001b[0m \u001b[0;32mfrom\u001b[0m \u001b[0msklearn\u001b[0m\u001b[0;34m.\u001b[0m\u001b[0mpipeline\u001b[0m \u001b[0;32mimport\u001b[0m \u001b[0mmake_pipeline\u001b[0m\u001b[0;34m\u001b[0m\u001b[0m\n\u001b[0;32m----> 4\u001b[0;31m \u001b[0;32mfrom\u001b[0m \u001b[0mskrebate\u001b[0m \u001b[0;32mimport\u001b[0m \u001b[0mReliefF\u001b[0m\u001b[0;34m\u001b[0m\u001b[0m\n\u001b[0m\u001b[1;32m      5\u001b[0m \u001b[0;32mfrom\u001b[0m \u001b[0msklearn\u001b[0m\u001b[0;34m.\u001b[0m\u001b[0mensemble\u001b[0m \u001b[0;32mimport\u001b[0m \u001b[0mRandomForestClassifier\u001b[0m\u001b[0;34m\u001b[0m\u001b[0m\n\u001b[1;32m      6\u001b[0m \u001b[0;32mfrom\u001b[0m \u001b[0msklearn\u001b[0m\u001b[0;34m.\u001b[0m\u001b[0mmodel_selection\u001b[0m \u001b[0;32mimport\u001b[0m \u001b[0mcross_val_score\u001b[0m\u001b[0;34m\u001b[0m\u001b[0m\n",
      "\u001b[0;31mModuleNotFoundError\u001b[0m: No module named 'skrebate'"
     ]
    }
   ],
   "source": [
    "import pandas as pd\n",
    "import numpy as np\n",
    "from sklearn.pipeline import make_pipeline\n",
    "from skrebate import ReliefF\n",
    "from sklearn.ensemble import RandomForestClassifier\n",
    "from sklearn.model_selection import cross_val_score\n",
    "\n",
    "genetic_data = pd.read_csv('https://github.com/EpistasisLab/scikit-rebate/raw/master/data/'\n",
    "                           'GAMETES_Epistasis_2-Way_20atts_0.4H_EDM-1_1.tsv.gz',\n",
    "                           sep='\\t', compression='gzip')\n",
    "\n",
    "features, labels = genetic_data.drop('class', axis=1).values, genetic_data['class'].values\n",
    "\n",
    "clf = make_pipeline(ReliefF(n_features_to_select=2, n_neighbors=100),\n",
    "                    RandomForestClassifier(n_estimators=100))\n",
    "\n",
    "print(np.mean(cross_val_score(clf, features, labels)))"
   ]
  },
  {
   "cell_type": "markdown",
   "metadata": {},
   "source": [
    "# **3. Wrapper Methods** <a class=\"anchor\" id=\"3\"></a>\n",
    "\n",
    "[Table of Contents](#0.1)\n",
    "\n",
    "\n",
    "- In wrapper methods, we try to use a subset of features and train a model using them. Based on the inferences that we draw from the previous model, we decide to add or remove features from the subset. The problem is essentially reduced to a search problem. These methods are usually computationally very expensive.\n",
    "\n",
    "- Some common examples of wrapper methods are \n",
    "\n",
    "  - 1. Forward selection, \n",
    "  - 2. Backward elimination, \n",
    "  - 3. Exhaustive feature selection,\n",
    "  - 4. Recursive feature elimination.\n",
    "  - 5. Recursive feature elimination with cross-validation\n",
    "  \n",
    "  \n",
    "- Wrapper methods can be explained with the help of following graphic:\n"
   ]
  },
  {
   "cell_type": "markdown",
   "metadata": {},
   "source": [
    "<center>\n",
    "    <img src = \"https://res.cloudinary.com/dyd911kmh/image/upload/f_auto,q_auto:best/v1537549832/Image2_ajaeo8.png\" width = \"700\" />\n",
    "</center>\n",
    "\n",
    "\n",
    "\n",
    " Image source : AnalyticsVidhya"
   ]
  },
  {
   "attachments": {
    "e03b297e-b8b7-481d-b8b9-ec21b3f75109.png": {
     "image/png": "[encoded data removed]"
    }
   },
   "cell_type": "markdown",
   "metadata": {},
   "source": [
    "## **3.1 Forward Selection** <a class=\"anchor\" id=\"3.1\"></a>\n",
    "\n",
    "[Table of Contents](#0.1) \n",
    "\n",
    "\n",
    "- Forward selection is an iterative method in which we start with having no feature in the model. **In each iteration, we keep adding the feature which best improves our model till an addition of a new variable does not improve the performance of the model**.\n",
    "\n",
    "- The procedure starts with an empty set of features [reduced set]. The best of the original features is determined and added to the reduced set. At each subsequent iteration, the best of the remaining original attributes is added to the set.\n",
    "\n",
    "- Step forward feature selection starts by **evaluating all features individually and selects the one that generates the best performing algorithm**و according to a pre-set evaluation criteria. In the second step, **it evaluates all possible combinations of the selected feature and a second feature**, and selects the pair that produce the best performing algorithm based on the same pre-set criteria.\n",
    "\n",
    "- The pre-set criteria can be the roc_auc (Area under the ROC Curve) for classification and the r squared for regression for example.\n",
    "\n",
    "<center>\n",
    "    <img src = \"https://www.mathworks.com/help/examples/nnet/win64/CompareDeepLearningModelsUsingROCCurvesExample_01.png\" width = \"300\" />\n",
    "</center> \n",
    "\n",
    "![image.png](attachment:e03b297e-b8b7-481d-b8b9-ec21b3f75109.png)!\n",
    "\n",
    "We know that \n",
    "$TPR = \\frac{TP} {TP + FN}$  and $FPR = \\frac{FP} {FP + TN}$.\n",
    "\n",
    "Also, $R^2= 1- \\frac{SS_{res}}{SS_{tot}}$ in regression.\n",
    "\n",
    "- This selection procedure is called greedy, because it evaluates all possible single, double, triple and so on feature combinations. Therefore, it is quite computationally expensive, and sometimes, if feature space is big, even unfeasible.\n",
    "\n",
    "- There is a special package for python that implements this type of feature selection: **mlxtend**.\n",
    "\n",
    "- In the mlxtend implementation of the step forward feature selection, the stopping criteria is an arbitrarily set number of features. So the search will finish when we reach the desired number of selected features.\n",
    "\n",
    "- I will demonstrate the Step Forward feature selection algorithm from mlxtend using the House Price dataset.\n"
   ]
  },
  {
   "cell_type": "code",
   "execution_count": null,
   "metadata": {},
   "outputs": [],
   "source": [
    "# step forward feature selection\n",
    "\n",
    "from sklearn.model_selection import train_test_split\n",
    "from sklearn.ensemble import RandomForestRegressor\n",
    "from sklearn.metrics import r2_score\n",
    "from mlxtend.feature_selection import SequentialFeatureSelector as SFS"
   ]
  },
  {
   "cell_type": "code",
   "execution_count": null,
   "metadata": {},
   "outputs": [],
   "source": [
    "#load dataset\n",
    "data = pd.read_csv('/kaggle/input/house-prices-advanced-regression-techniques/train.csv')\n",
    "data.shape"
   ]
  },
  {
   "cell_type": "code",
   "execution_count": null,
   "metadata": {},
   "outputs": [],
   "source": [
    "# In practice, feature selection should be done after data pre-processing,\n",
    "# so ideally, all the categorical variables are encoded into numbers,\n",
    "# and then you can assess how deterministic they are of the target\n",
    "\n",
    "# here for simplicity I will use only numerical variables\n",
    "# select numerical columns:\n",
    "\n",
    "numerics = ['int16', 'int32', 'int64', 'float16', 'float32', 'float64']\n",
    "numerical_vars = list(data.select_dtypes(include=numerics).columns)\n",
    "data = data[numerical_vars]\n",
    "data.shape"
   ]
  },
  {
   "cell_type": "code",
   "execution_count": null,
   "metadata": {},
   "outputs": [],
   "source": [
    "# separate train and test sets\n",
    "X_train, X_test, y_train, y_test = train_test_split(\n",
    "    data.drop(labels=['SalePrice'], axis=1),\n",
    "    data['SalePrice'],\n",
    "    test_size=0.3,\n",
    "    random_state=0)\n",
    "\n",
    "X_train.shape, X_test.shape"
   ]
  },
  {
   "cell_type": "code",
   "execution_count": null,
   "metadata": {},
   "outputs": [],
   "source": [
    "# find and remove correlated features\n",
    "def correlation(dataset, threshold):\n",
    "    col_corr = set()  # Set of all the names of correlated columns\n",
    "    corr_matrix = dataset.corr()\n",
    "    for i in range(len(corr_matrix.columns)):\n",
    "        for j in range(i):\n",
    "            if abs(corr_matrix.iloc[i, j]) > threshold: # we are interested in absolute coeff value\n",
    "                colname = corr_matrix.columns[i]  # getting the name of column\n",
    "                col_corr.add(colname)\n",
    "    return col_corr\n",
    "\n",
    "corr_features = correlation(X_train, 0.8)\n",
    "print('correlated features: ', len(set(corr_features)) )"
   ]
  },
  {
   "cell_type": "code",
   "execution_count": null,
   "metadata": {},
   "outputs": [],
   "source": [
    "# removed correlated  features\n",
    "X_train.drop(labels=corr_features, axis=1, inplace=True)\n",
    "X_test.drop(labels=corr_features, axis=1, inplace=True)\n",
    "\n",
    "X_train.shape, X_test.shape"
   ]
  },
  {
   "cell_type": "code",
   "execution_count": null,
   "metadata": {},
   "outputs": [],
   "source": [
    "X_train.fillna(0, inplace=True)"
   ]
  },
  {
   "cell_type": "code",
   "execution_count": null,
   "metadata": {},
   "outputs": [],
   "source": [
    "# step forward feature selection\n",
    "\n",
    "from mlxtend.feature_selection import SequentialFeatureSelector as SFS\n",
    "\n",
    "sfs1 = SFS(RandomForestRegressor(), \n",
    "           k_features=10, \n",
    "           forward=True, \n",
    "           floating=False, \n",
    "           verbose=2,\n",
    "           scoring='r2',\n",
    "           cv=3)\n",
    "\n",
    "sfs1 = sfs1.fit(np.array(X_train), y_train)"
   ]
  },
  {
   "cell_type": "code",
   "execution_count": null,
   "metadata": {},
   "outputs": [],
   "source": [
    "sfs1.k_feature_idx_"
   ]
  },
  {
   "cell_type": "code",
   "execution_count": null,
   "metadata": {},
   "outputs": [],
   "source": [
    "X_train.columns[list(sfs1.k_feature_idx_)]"
   ]
  },
  {
   "cell_type": "markdown",
   "metadata": {},
   "source": [
    "- We can see that forward feature selection results in the above columns being selected from all the given columns."
   ]
  },
  {
   "cell_type": "markdown",
   "metadata": {},
   "source": [
    "## **3.2 Backward Elimination** <a class=\"anchor\" id=\"3.2\"></a>\n",
    "\n",
    "[Table of Contents](#0.1) \n",
    "\n",
    "\n",
    "- In backward elimination, we start with all the features and removes the least significant feature at each iteration which improves the performance of the model. We repeat this until no improvement is observed on removal of features.\n",
    "\n",
    "- The procedure **starts with the full set of attributes. At each step, it removes the worst attribute remaining in the set**.\n",
    "\n",
    "At each iteration, we:\n",
    "\n",
    "- Fit a model (often a linear regression).\n",
    "\n",
    "- Check p-values for each feature.\n",
    "\n",
    "- Remove the feature with the highest p-value, if it's greater than a chosen threshold (commonly 0.05).\n"
   ]
  },
  {
   "cell_type": "code",
   "execution_count": null,
   "metadata": {},
   "outputs": [],
   "source": [
    "# step backward feature elimination\n",
    "\n",
    "sfs1 = SFS(RandomForestRegressor(), \n",
    "           k_features=10, \n",
    "           forward=False, \n",
    "           floating=False, \n",
    "           verbose=2,\n",
    "           scoring='r2',\n",
    "           cv=3)\n",
    "\n",
    "sfs1 = sfs1.fit(np.array(X_train), y_train)"
   ]
  },
  {
   "cell_type": "code",
   "execution_count": null,
   "metadata": {},
   "outputs": [],
   "source": [
    "sfs1.k_feature_idx_"
   ]
  },
  {
   "cell_type": "code",
   "execution_count": null,
   "metadata": {},
   "outputs": [],
   "source": [
    "X_train.columns[list(sfs1.k_feature_idx_)]"
   ]
  },
  {
   "cell_type": "markdown",
   "metadata": {},
   "source": [
    "- So, backward feature elimination results in the following columns being selected."
   ]
  },
  {
   "cell_type": "markdown",
   "metadata": {},
   "source": [
    "## **3.3 Exhaustive Feature Selection** <a class=\"anchor\" id=\"3.3\"></a>\n",
    "\n",
    "[Table of Contents](#0.1) \n",
    "\n",
    "\n",
    "- In an exhaustive feature selection the best subset of features is selected, over all possible feature subsets, by optimizing a specified performance metric for a certain machine learning algorithm. For example, if the classifier is a logistic regression and the dataset consists of 4 features, the algorithm will evaluate all 15 feature combinations as follows:\n",
    "\n",
    "  - all possible combinations of 1 feature\n",
    "  - all possible combinations of 2 features\n",
    "  - all possible combinations of 3 features\n",
    "  - all the 4 features\n",
    "  \n",
    "  \n",
    "and select the one that results in the best performance (e.g., classification accuracy) of the logistic regression classifier.\n",
    "\n",
    "- This is another greedy algorithm as it evaluates all possible feature combinations. It is quite computationally expensive, and sometimes, if feature space is big, even unfeasible.\n",
    "\n",
    "- There is a special package for python that implements this type of feature selection: mlxtend.\n",
    "\n",
    "- In the mlxtend implementation of the exhaustive feature selection, the stopping criteria is an arbitrarily set number of features. So the search will finish when we reach the desired number of selected features.\n",
    "\n",
    "- This is somewhat arbitrary because we may be selecting a subopimal number of features, or likewise, a high number of features."
   ]
  },
  {
   "cell_type": "markdown",
   "metadata": {},
   "source": [
    "## **3.4 Recursive Feature elimination** <a class=\"anchor\" id=\"3.4\"></a>\n",
    "\n",
    "[Table of Contents](#0.1) \n",
    "\n",
    "\n",
    "- Recursive feature elimination performs a greedy search to find the best performing feature subset. It iteratively creates models and determines the best or the worst performing feature at each iteration. It constructs the subsequent models with the left features until all the features are explored. It then ranks the features based on the order of their elimination.\n",
    "\n",
    "- Suppose you have $ N $ features.\n",
    "\n",
    "In the first iteration, the model uses all $ N $ features and removes one.\n",
    "\n",
    "In the second iteration, it tries the remaining $ N - 1 $, and so on.\n",
    "\n",
    "So, you train:\n",
    "\n",
    "$$\n",
    "N + (N - 1) + (N - 2) + \\cdots + 1 = \\frac{N(N + 1)}{2}\n",
    "$$\n",
    "\n",
    "This means the total number of models trained is in the order of $ O(N^2)$.\n",
    "\n",
    "\n",
    "- Source : https://scikit-learn.org/stable/auto_examples/feature_selection/plot_rfe_digits.html#sphx-glr-auto-examples-feature-selection-plot-rfe-digits-py"
   ]
  },
  {
   "cell_type": "markdown",
   "metadata": {},
   "source": [
    "## **3.5 Recursive Feature Elimination with Cross-Validation** <a class=\"anchor\" id=\"3.5\"></a>\n",
    "\n",
    "[Table of Contents](#0.1) \n",
    "\n",
    "\n",
    "- **Recursive Feature Elimination with Cross-Validated (RFECV)** feature selection technique selects the best subset of features for the estimator by removing 0 to N features iteratively using recursive feature elimination.\n",
    "\n",
    "- Then it selects the best subset based on the accuracy or cross-validation score or roc-auc of the model. Recursive feature elimination technique eliminates n features from a model by fitting the model multiple times and at each step, removing the weakest features.\n",
    "\n",
    "- Please see my kernel - [Extensive Analysis - EDA + FE + Modelling : Section 19 Recursive FeaTure Elimination with Cross-Validation](https://www.kaggle.com/prashant111/extensive-analysis-eda-fe-modelling)\n",
    "\n",
    "- Source : https://scikit-learn.org/stable/auto_examples/feature_selection/plot_rfe_with_cross_validation.html#sphx-glr-auto-examples-feature-selection-plot-rfe-with-cross-validation-py"
   ]
  },
  {
   "cell_type": "markdown",
   "metadata": {},
   "source": [
    "# **4. Embedded Methods** <a class=\"anchor\" id=\"4\"></a>\n",
    "\n",
    "[Table of Contents](#0.1)\n",
    "\n",
    "\n",
    "- Embedded methods are iterative in a sense that takes care of each iteration of the model training process and carefully extract those features which contribute the most to the training for a particular iteration. **Regularization methods** are the most commonly used embedded methods which penalize a feature given a coefficient threshold.\n",
    "\n",
    "- This is why Regularization methods are also called penalization methods that introduce additional constraints into the optimization of a predictive algorithm (such as a regression algorithm) that bias the model toward lower complexity (fewer coefficients).\n",
    "\n",
    "- Some of the most popular examples of these methods are LASSO and RIDGE regression which have inbuilt penalization functions to reduce overfitting.\n",
    "\n",
    "- Embedded methods can be explained with the help of following graphic:\n"
   ]
  },
  {
   "cell_type": "markdown",
   "metadata": {},
   "source": [
    "![Embedded Methods](https://www.analyticsvidhya.com/wp-content/uploads/2016/11/Embedded_1.png)\n",
    "\n",
    "\n",
    "### Image source : AnalyticsVidhya"
   ]
  },
  {
   "cell_type": "markdown",
   "metadata": {},
   "source": [
    "## **4.1 LASSO Regression**<a class=\"anchor\" id=\"4.1\"></a>\n",
    "\n",
    "[Table of Contents](#0.1)\n",
    "\n",
    "\n",
    "- Lasso regression performs L1 regularization which adds penalty equivalent to absolute value of the magnitude of coefficients.\n",
    "\n",
    "- **Regularization consists in adding a penalty to the different parameters of the machine learning model to reduce the freedom of the model and in other words to avoid overfitting**. In linear model regularisation, the penalty is applied over the coefficients that multiply each of the predictors. From the different types of regularisation, **Lasso or l1 has the property that is able to shrink some of the coefficients to zero**. Therefore, that feature can be removed from the model. Then the objective of lasso is to solve\n",
    "\n",
    "$\\min _{\\beta _{0},\\beta }{\\biggl \\{}\\sum _{i=1}^{N}{\\bigl (}y_{i}-\\beta _{0}-x_{i}^{T}\\beta {\\bigr )}^{2}{\\biggr \\}}{\\text{ subject to }}\\sum _{j=1}^{p}|\\beta _{j}|\\leq t$\n",
    "\n",
    "Here $\\beta _{0}$ is the constant coefficient, $\\beta :=(\\beta _{1},\\beta _{2},\\ldots ,\\beta _{p})$ is the coefficient vector, and $t$ is a prespecified free parameter that determines the degree of regularization.\n",
    "Letting $X$ be the covariate matrix, so that $X_{ij}=(x_{i})_{j}$ and $ x_{i}^{T}$ is the $i$th row of $X$, the expression can be written more compactly as\n",
    "$\\min _{\\beta _{0},\\beta }\\left\\{\\left\\|y-\\beta _{0}-X\\beta \\right\\|_{2}^{2}\\right\\}{\\text{ subject to }}\\|\\beta \\|_{1}\\leq t$, where $\\|u\\|_{p}={\\biggl (}\\sum _{i=1}^{N}|u_{i}|^{p}{\\biggr )}^{1/p}$ is the standard $\\ell _{p}$ norm.\n",
    "\n",
    "- I will demonstrate how to select features using the Lasso regularisation on the House Price dataset from Kaggle."
   ]
  },
  {
   "cell_type": "code",
   "execution_count": null,
   "metadata": {},
   "outputs": [],
   "source": [
    "#load libraries\n",
    "from sklearn.model_selection import train_test_split\n",
    "from sklearn.linear_model import Lasso\n",
    "from sklearn.feature_selection import SelectFromModel\n",
    "from sklearn.preprocessing import StandardScaler"
   ]
  },
  {
   "cell_type": "code",
   "execution_count": null,
   "metadata": {},
   "outputs": [],
   "source": [
    "# load dataset\n",
    "data = pd.read_csv('/kaggle/input/house-prices-advanced-regression-techniques/train.csv')\n",
    "data.shape"
   ]
  },
  {
   "cell_type": "code",
   "execution_count": null,
   "metadata": {},
   "outputs": [],
   "source": [
    "# In practice, feature selection should be done after data pre-processing,\n",
    "# so ideally, all the categorical variables are encoded into numbers,\n",
    "# and then you can assess how deterministic they are of the target\n",
    "\n",
    "# here for simplicity I will use only numerical variables\n",
    "# select numerical columns:\n",
    "\n",
    "numerics = ['int16', 'int32', 'int64', 'float16', 'float32', 'float64']\n",
    "numerical_vars = list(data.select_dtypes(include=numerics).columns)\n",
    "data = data[numerical_vars]\n",
    "data.shape"
   ]
  },
  {
   "cell_type": "code",
   "execution_count": null,
   "metadata": {},
   "outputs": [],
   "source": [
    "# separate train and test sets\n",
    "X_train, X_test, y_train, y_test = train_test_split(\n",
    "    data.drop(labels=['SalePrice'], axis=1),\n",
    "    data['SalePrice'],\n",
    "    test_size=0.3,\n",
    "    random_state=0)\n",
    "\n",
    "X_train.shape, X_test.shape"
   ]
  },
  {
   "cell_type": "code",
   "execution_count": null,
   "metadata": {},
   "outputs": [],
   "source": [
    "# the features in the house dataset are in very\n",
    "# different scales, so it helps the regression to scale them\n",
    "\n",
    "scaler = StandardScaler()\n",
    "scaler.fit(X_train.fillna(0))"
   ]
  },
  {
   "cell_type": "code",
   "execution_count": null,
   "metadata": {},
   "outputs": [],
   "source": [
    "# here, again I will train a Lasso Linear regression and select\n",
    "# the non zero features in one line.\n",
    "# bear in mind that the linear regression object from sklearn does\n",
    "# not allow for regularisation. So If you want to make a regularised\n",
    "# linear regression you need to import specifically \"Lasso\"\n",
    "# that is the l1 version of the linear regression\n",
    "# alpha is the penalisation here, so I set it high in order\n",
    "# to force the algorithm to shrink some coefficients\n",
    "\n",
    "sel_ = SelectFromModel(Lasso(alpha=100))\n",
    "sel_.fit(scaler.transform(X_train.fillna(0)), y_train)"
   ]
  },
  {
   "cell_type": "markdown",
   "metadata": {},
   "source": [
    "The alpha parameter controls how strongly the model penalizes large coefficients.\n",
    "\n",
    "Effects of alpha:\n",
    "Small alpha (e.g. 0.001):\n",
    "\n",
    "- Very weak regularization.\n",
    "\n",
    "- Keeps most features.\n",
    "\n",
    "Large alpha (e.g. 100):\n",
    "\n",
    "- Strong regularization.\n",
    "\n",
    "- Forces many coefficients to exactly zero, effectively removing those features."
   ]
  },
  {
   "cell_type": "code",
   "execution_count": null,
   "metadata": {},
   "outputs": [],
   "source": [
    "sel_.get_support()"
   ]
  },
  {
   "cell_type": "code",
   "execution_count": null,
   "metadata": {},
   "outputs": [],
   "source": [
    "# make a list with the selected features and print the outputs\n",
    "selected_feat = X_train.columns[(sel_.get_support())]\n",
    "\n",
    "print('total features: {}'.format((X_train.shape[1])))\n",
    "print('selected features: {}'.format(len(selected_feat)))\n",
    "print('features with coefficients shrank to zero: {}'.format(\n",
    "    np.sum(sel_.estimator_.coef_ == 0)))"
   ]
  },
  {
   "cell_type": "markdown",
   "metadata": {},
   "source": [
    "- We can see that Lasso regularisation helps to remove non-important features from the dataset. So, increasing the penalisation will result in increase the number of features removed. Therefore, we need to keep an eye and monitor that we don't set a penalty too high so that to remove even important features, or too low and then not remove non-important features.\n",
    "\n",
    "- If the penalty is too high and important features are removed, we will notice a drop in the performance of the algorithm and then realise that we need to decrease the regularisation."
   ]
  },
  {
   "cell_type": "markdown",
   "metadata": {
    "_cell_guid": "b1076dfc-b9ad-4769-8c92-a6c4dae69d19",
    "_uuid": "8f2839f25d086af736a60e9eeb907d3b93b6e0e5"
   },
   "source": [
    "## **4.2 Random Forest Importance**<a class=\"anchor\" id=\"4.2\"></a>\n",
    "\n",
    "[Table of Contents](#0.1)\n",
    "\n",
    "- Random forests are one the most popular machine learning algorithms. They are so successful because they provide in general a good predictive performance, low overfitting and easy interpretability. This interpretability is given by the fact that it is straightforward to derive the importance of each variable on the tree decision. In other words, it is easy to compute how much each variable is contributing to the decision.\n",
    "\n",
    "- Random forests consist of 4-12 hundred decision trees, each of them built over a random extraction of the observations from the dataset and a random extraction of the features. Not every tree sees all the features or all the observations, and this guarantees that the trees are de-correlated and therefore less prone to over-fitting. Each tree is also a sequence of yes-no questions based on a single or combination of features. At each node (this is at each question), the three divides the dataset into 2 buckets, each of them hosting observations that are more similar among themselves and different from the ones in the other bucket. Therefore, the importance of each feature is derived by how \"pure\" each of the buckets is.\n",
    "\n",
    "- For classification, the measure of impurity is either the Gini impurity or the information gain/entropy. For regression the measure of impurity is variance. Therefore, when training a tree, it is possible to compute how much each feature decreases the impurity. The more a feature decreases the impurity, the more important the feature is. In random forests, the impurity decrease from each feature can be averaged across trees to determine the final importance of the variable.\n",
    "\n",
    "- To give a better intuition, features that are selected at the top of the trees are in general more important than features that are selected at the end nodes of the trees, as generally the top splits lead to bigger information gains.\n",
    "\n",
    "- Please see my kernel, [Random Forest Classifier + Feature Importance - Section 13. Find important features with Random Forest model](https://www.kaggle.com/prashant111/random-forest-classifier-feature-importance) to know how to find important features using the random forest model.\n",
    "\n",
    "- I will demonstrate this process using the mushroom classification dataset as follows:-"
   ]
  },
  {
   "cell_type": "code",
   "execution_count": 2,
   "metadata": {},
   "outputs": [],
   "source": [
    "# Import libraries\n",
    "from sklearn import preprocessing\n",
    "from sklearn.preprocessing import LabelEncoder\n",
    "from sklearn.preprocessing import StandardScaler\n",
    "from sklearn.model_selection import train_test_split\n",
    "from sklearn import tree\n",
    "from sklearn.ensemble import RandomForestClassifier"
   ]
  },
  {
   "cell_type": "code",
   "execution_count": 4,
   "metadata": {},
   "outputs": [],
   "source": [
    "import pandas as pd"
   ]
  },
  {
   "cell_type": "code",
   "execution_count": null,
   "metadata": {},
   "outputs": [],
   "source": [
    "# Load dataset\n",
    "df = pd.read_csv('/kaggle/input/mushroom-classification/mushrooms.csv')"
   ]
  },
  {
   "cell_type": "code",
   "execution_count": null,
   "metadata": {},
   "outputs": [],
   "source": [
    "# Declare feature vector and target variable\n",
    "X = df.drop(['class'], axis = 1)\n",
    "y = df['class']"
   ]
  },
  {
   "cell_type": "code",
   "execution_count": null,
   "metadata": {},
   "outputs": [],
   "source": [
    "# Encode categorical variables\n",
    "X = pd.get_dummies(X, prefix_sep='_')\n",
    "y = LabelEncoder().fit_transform(y)"
   ]
  },
  {
   "cell_type": "code",
   "execution_count": null,
   "metadata": {},
   "outputs": [],
   "source": [
    "# Normalize feature vector\n",
    "X2 = StandardScaler().fit_transform(X)"
   ]
  },
  {
   "cell_type": "code",
   "execution_count": null,
   "metadata": {},
   "outputs": [],
   "source": [
    "# Split the dataset\n",
    "X_train, X_test, y_train, y_test = train_test_split(X2, y, test_size = 0.30, random_state = 0)"
   ]
  },
  {
   "cell_type": "code",
   "execution_count": null,
   "metadata": {},
   "outputs": [],
   "source": [
    "\n",
    "# instantiate the classifier with n_estimators = 100\n",
    "clf = RandomForestClassifier(n_estimators=100, random_state=0)\n"
   ]
  },
  {
   "cell_type": "code",
   "execution_count": null,
   "metadata": {},
   "outputs": [],
   "source": [
    "# fit the classifier to the training set\n",
    "clf.fit(X_train, y_train)"
   ]
  },
  {
   "cell_type": "code",
   "execution_count": null,
   "metadata": {},
   "outputs": [],
   "source": [
    "# predict on the test set\n",
    "y_pred = clf.predict(X_test)"
   ]
  },
  {
   "cell_type": "markdown",
   "metadata": {},
   "source": [
    "## **Feature Importance**\n",
    "\n",
    "- Decision Trees models which are based on ensembles (eg. Extra Trees and Random Forest) can be used to rank the importance of the different features. Knowing which features our model is giving most importance can be of vital importance to understand how our model is making it’s predictions (therefore making it more explainable). At the same time, we can get rid of the features which do not bring any benefit to our model."
   ]
  },
  {
   "cell_type": "code",
   "execution_count": null,
   "metadata": {},
   "outputs": [],
   "source": [
    "# visualize feature importance\n",
    "\n",
    "plt.figure(num=None, figsize=(10,8), dpi=80, facecolor='w', edgecolor='k')\n",
    "\n",
    "feat_importances = pd.Series(clf.feature_importances_, index= X.columns)\n",
    "\n",
    "feat_importances.nlargest(7).plot(kind='barh')"
   ]
  },
  {
   "cell_type": "markdown",
   "metadata": {},
   "source": [
    "- Now we know which features are most important in the Random Forest model, we can train our model just using these features. \n",
    "\n",
    "- I have implemented this in the kernel - [Random Forest Classifier + Feature Importance : Section 15 - Build the Random Forest model on selected features](https://www.kaggle.com/prashant111/random-forest-classifier-feature-importance). It resulted in improved accuracy."
   ]
  },
  {
   "cell_type": "markdown",
   "metadata": {},
   "source": [
    "# **5. How to choose the right feature selection method** <a class=\"anchor\" id=\"5\"></a>\n",
    "\n",
    "[Table of Contents](#0.1)\n",
    "\n",
    "\n",
    "- We can see that there are lot of feature selection techniques available. \n",
    "\n",
    "- The following graphic will serve as a guide on how to choose a feature selection method:-"
   ]
  },
  {
   "cell_type": "markdown",
   "metadata": {},
   "source": [
    "![How to Choose a Feature Selection Method](https://3qeqpr26caki16dnhd19sv6by6v-wpengine.netdna-ssl.com/wp-content/uploads/2019/11/How-to-Choose-Feature-Selection-Methods-For-Machine-Learning.png)\n",
    "\n",
    "Image Source : Machine Learning Mastery"
   ]
  },
  {
   "cell_type": "markdown",
   "metadata": {},
   "source": [
    "## **Numerical Input, Numerical Output**\n",
    "\n",
    "- This is a regression predictive modeling problem with numerical input variables.\n",
    "\n",
    "- The most common techniques are to use a correlation coefficient, such as Pearson’s for a linear correlation, or rank-based methods for a nonlinear correlation.\n",
    "\n",
    "- The tests emplyed are as follows:-\n",
    "\n",
    "  - Pearson’s correlation coefficient (linear).\n",
    "  - Spearman’s rank coefficient (nonlinear)\n",
    "  \n",
    "  \n",
    "## **Numerical Input, Categorical Output**\n",
    "\n",
    "- This is a classification predictive modeling problem with numerical input variables.\n",
    "\n",
    "- This might be the most common example of a classification problem,\n",
    "\n",
    "- Again, the most common techniques are correlation based, although in this case, they must take the categorical target into account.\n",
    "\n",
    "- We can employ the following tests as follows:-\n",
    "\n",
    "  - ANOVA correlation coefficient (linear).\n",
    "  - Kendall’s rank coefficient (nonlinear).\n",
    "  \n",
    "- Kendall does assume that the categorical variable is ordinal.\n",
    "\n",
    "\n",
    "## **Categorical Input, Numerical Output**\n",
    "\n",
    "- This is a regression predictive modeling problem with categorical input variables.\n",
    "\n",
    "- This is a strange example of a regression problem (e.g. we will not encounter it often).\n",
    "\n",
    "- We can use the same “Numerical Input, Categorical Output” methods (described above), but in reverse.\n",
    "\n",
    "\n",
    "\n",
    "\n",
    "## **Categorical Input, Categorical Output**\n",
    "\n",
    "- This is a classification predictive modeling problem with categorical input variables.\n",
    "\n",
    "- The most common correlation measure for categorical data is the chi-squared test. We can also use mutual information (information gain) from the field of information theory.\n",
    "\n",
    "- The following tests can be employed in this case -\n",
    "\n",
    "  - Chi-Squared test (contingency tables).\n",
    "  - Mutual Information.\n",
    "  \n",
    "In fact, mutual information is a powerful method that may prove useful for both categorical and numerical data, e.g. it is agnostic to the data types."
   ]
  },
  {
   "cell_type": "markdown",
   "metadata": {},
   "source": [
    "# **6. Tips and Tricks for Feature Selection** <a class=\"anchor\" id=\"6\"></a>\n",
    "\n",
    "[Table of Contents](#0.1)\n",
    "\n",
    "\n",
    "- In this section, we provide some additional considerations when using filter-based feature selection.\n",
    "\n",
    "\n",
    "## **Correlation Statistics**\n",
    "\n",
    "- The scikit-learn library provides an implementation of most of the useful statistical measures.\n",
    "\n",
    "- For example:\n",
    "\n",
    "   - Pearson’s Correlation Coefficient: [f_regression()](https://scikit-learn.org/stable/modules/generated/sklearn.feature_selection.f_regression.html)\n",
    "   - ANOVA: [f_classif()](https://scikit-learn.org/stable/modules/generated/sklearn.feature_selection.f_classif.html)\n",
    "   - Chi-Squared: [chi2()](https://scikit-learn.org/stable/modules/generated/sklearn.feature_selection.chi2.html)\n",
    "   - Mutual Information: [mutual_info_classif()](https://scikit-learn.org/stable/modules/generated/sklearn.feature_selection.mutual_info_classif.html) and [mutual_info_regression()](https://scikit-learn.org/stable/modules/generated/sklearn.feature_selection.mutual_info_regression.html).\n",
    "   \n",
    "   \n",
    "- Also, the SciPy library provides an implementation of many more statistics, such as Kendall’s tau (kendalltau) and Spearman’s rank correlation (spearmanr).\n",
    "\n",
    "\n",
    "## **Selection Method**\n",
    "\n",
    "- The scikit-learn library also provides many different filtering methods once statistics have been calculated for each input variable with the target.\n",
    "\n",
    "- Two of the more popular methods include:\n",
    "\n",
    "    - Select the top k variables: [SelectKBest](https://scikit-learn.org/stable/modules/generated/sklearn.feature_selection.SelectKBest.html)\n",
    "    - Select the top percentile variables: [SelectPercentile](https://scikit-learn.org/stable/modules/generated/sklearn.feature_selection.SelectPercentile.html)\n",
    "    \n",
    "\n",
    "\n",
    "## **Transform Variables**\n",
    "\n",
    "- We can consider transforming the variables in order to access different statistical methods. For example, we can transform a categorical variable to ordinal, even if it is not, and see if any interesting results come out.\n",
    "\n",
    "- We can also make a numerical variable discrete (e.g. bins); try categorical-based measures.\n",
    "\n",
    "- Some statistical measures assume properties of the variables, such as Pearson’s that assumes a Gaussian probability distribution to the observations and a linear relationship. You can transform the data to meet the expectations of the test and try the test regardless of the expectations and compare results.\n",
    "\n",
    "\n",
    "## **What Is the Best Method?**\n",
    "\n",
    "- There is no best feature selection method. Just like there is no best set of input variables or best machine learning algorithm. \n",
    "\n",
    "- Instead, we must discover what works best for your specific problem using careful systematic experimentation.\n",
    "\n",
    "- We should try a range of different models fit on different subsets of features chosen via different statistical measures and discover what works best for your specific problem.\n",
    "\n",
    "\n",
    "## **4 best ways of Feature Selection**\n",
    "\n",
    "- The 4 practical ways of feature selection which yield best results are as follows:-\n",
    "\n",
    "    1. SelectKBest\n",
    "    2. Recursive Feature Elimination\n",
    "    3. Correlation-matrix with heatmap\n",
    "    4. Random-Forest Importance"
   ]
  },
  {
   "cell_type": "markdown",
   "metadata": {
    "_cell_guid": "79c7e3d0-c299-4dcb-8224-4455121ee9b0",
    "_uuid": "d629ff2d2480ee46fbb7e2d37f6b5fab8052498a"
   },
   "source": [
    "# **7. References** <a class=\"anchor\" id=\"7\"></a>\n",
    "\n",
    "[Table of Contents](#0.1)\n",
    "\n",
    "\n",
    "- The work done in this kernel is inspired from the following courses and websites:-\n",
    "\n",
    "\n",
    "  1. [Feature Selection for Machine Learning](https://www.udemy.com/course/feature-selection-for-machine-learning/) by Soledad Galli\n",
    "\n",
    "  2. [Analytics Vidhya article on Feature Selection](https://www.analyticsvidhya.com/blog/2016/12/introduction-to-feature-selection-methods-with-an-example-or-how-to-select-the-right-variables/)\n",
    "\n",
    "  3. https://en.wikipedia.org/wiki/Feature_selection\n",
    "\n",
    "  4. https://machinelearningmastery.com/feature-selection-with-real-and-categorical-data/"
   ]
  },
  {
   "cell_type": "markdown",
   "metadata": {},
   "source": [
    "[Go to Top](#0)"
   ]
  }
 ],
 "metadata": {
  "kaggle": {
   "accelerator": "none",
   "dataSources": [
    {
     "databundleVersionId": 860641,
     "sourceId": 4986,
     "sourceType": "competition"
    },
    {
     "databundleVersionId": 868283,
     "sourceId": 5407,
     "sourceType": "competition"
    },
    {
     "datasetId": 478,
     "sourceId": 974,
     "sourceType": "datasetVersion"
    }
   ],
   "dockerImageVersionId": 29852,
   "isGpuEnabled": false,
   "isInternetEnabled": false,
   "language": "python",
   "sourceType": "notebook"
  },
  "kernelspec": {
   "display_name": "Python 3 (ipykernel)",
   "language": "python",
   "name": "python3"
  },
  "language_info": {
   "codemirror_mode": {
    "name": "ipython",
    "version": 3
   },
   "file_extension": ".py",
   "mimetype": "text/x-python",
   "name": "python",
   "nbconvert_exporter": "python",
   "pygments_lexer": "ipython3",
   "version": "3.13.2"
  }
 },
 "nbformat": 4,
 "nbformat_minor": 4
}
