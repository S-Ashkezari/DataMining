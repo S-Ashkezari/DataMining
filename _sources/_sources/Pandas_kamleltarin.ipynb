{
 "cells": [
  {
   "cell_type": "markdown",
   "id": "be5c49a5-2894-4649-9b81-a9ea7126d2e2",
   "metadata": {},
   "source": [
    "### Learning Pandas from Scratch"
   ]
  },
  {
   "cell_type": "markdown",
   "id": "a65f7c92-bd9f-4690-9421-8b0365c206f1",
   "metadata": {},
   "source": [
    "## 1. Introduction to Pandas\n",
    "\n",
    "### What is Pandas?\n",
    "\n",
    "Pandas is a powerful open-source data manipulation and analysis library for Python. It provides data structures and functions needed to efficiently work with structured data. It is built on top of NumPy, which provides support for large, multi-dimensional arrays and matrices. Pandas is widely used in data analysis, data science, and machine learning.\n",
    "\n",
    "Why Use Pandas for Data Analysis?\n",
    "Easy handling of missing data.\n",
    "Efficient data slicing, filtering, and grouping operations.\n",
    "Powerful tools for data cleaning and wrangling.\n",
    "Support for importing and exporting data from various formats like CSV, Excel, SQL databases, and more.\n",
    "Built-in functions for quick data visualization.\n",
    "\n",
    "### Data Cleaning\n",
    "Goal: Fix or remove incorrect, corrupted, or incomplete data.\n",
    "\n",
    "Key Tasks:\n",
    "\n",
    "Handling missing values (e.g., filling, dropping)\n",
    "\n",
    "Correcting errors (e.g., fixing typos, mislabeling)\n",
    "\n",
    "Removing duplicates\n",
    "\n",
    "Filtering outliers or inconsistent entries\n",
    "\n",
    "Converting data types (e.g., string to integer)\n",
    "\n",
    "### Data Wrangling (aka Data Munging)\n",
    "Goal: Transform and map raw data into a more usable format.\n",
    "\n",
    "Key Tasks:\n",
    "\n",
    "Reshaping data (e.g., pivoting, melting tables)\n",
    "\n",
    "Merging or joining datasets\n",
    "\n",
    "Aggregating data (e.g., summarizing by group)\n",
    "\n",
    "Feature engineering (creating new variables from existing data)\n",
    "\n",
    "Reformatting structures (e.g., JSON to tabular)\n",
    "\n",
    "It's like molding the data into the right shape and structure for analysis or modeling.\n",
    "\n",
    "### Installing Pandas\n",
    "\n",
    "If you don’t have Pandas installed, you can do so using pip:"
   ]
  },
  {
   "cell_type": "code",
   "execution_count": null,
   "id": "c850a3af-a9d3-4839-806f-b8e66e199e70",
   "metadata": {},
   "outputs": [],
   "source": [
    "!pip install pandas"
   ]
  },
  {
   "cell_type": "markdown",
   "id": "5b18a18a-7777-45b2-9363-f1fc2c06065f",
   "metadata": {},
   "source": [
    "Importing Pandas"
   ]
  },
  {
   "cell_type": "code",
   "execution_count": 1,
   "id": "ca2eb41d-0ab1-4289-b823-ce436c5867e3",
   "metadata": {},
   "outputs": [],
   "source": [
    "import pandas as pd"
   ]
  },
  {
   "cell_type": "markdown",
   "id": "9bb7f073-9212-4d08-b821-090c67297c7b",
   "metadata": {},
   "source": [
    "# 2. Data Structures in Pandas\n",
    "\n",
    "Pandas provides two primary data structures:\n",
    "\n",
    "**Series**: One-dimensional labeled array, similar to a list but with labels (index).\n",
    "\n",
    "**DataFrame**: Two-dimensional labeled data structure, similar to a table or spreadsheet.\n",
    "\n",
    "## 2.1 Series\n",
    "A Series is a one-dimensional labeled array capable of holding any data type (integers, strings, floats, etc.). It can be thought of as a column in a spreadsheet.\n",
    "\n",
    "### Creating a Series:\n",
    "\n",
    "You can create a Series from a list, NumPy array, dictionary, or even a scalar value. Here are a few examples:"
   ]
  },
  {
   "cell_type": "code",
   "execution_count": 8,
   "id": "f7955742-fd48-4bbb-a08b-fabdef301cf0",
   "metadata": {},
   "outputs": [
    {
     "name": "stdout",
     "output_type": "stream",
     "text": [
      "0    10\n",
      "1    20\n",
      "2    30\n",
      "3    40\n",
      "4    50\n",
      "dtype: int64\n",
      "a    10\n",
      "b    20\n",
      "c    30\n",
      "d    40\n",
      "e    50\n",
      "dtype: int64\n"
     ]
    }
   ],
   "source": [
    "import pandas as pd\n",
    "\n",
    "# Creating a Series from a list\n",
    "data = [10, 20, 30, 40, 50]\n",
    "series = pd.Series(data)\n",
    "print(series)\n",
    "\n",
    "# Creating a Series with custom index\n",
    "series_custom_index = pd.Series(data, index=['a', 'b', 'c', 'd', 'e'])\n",
    "print(series_custom_index)\n"
   ]
  },
  {
   "cell_type": "code",
   "execution_count": 10,
   "id": "7444f25d-b94c-4408-84e2-09a9774f0ff3",
   "metadata": {},
   "outputs": [
    {
     "name": "stdout",
     "output_type": "stream",
     "text": [
      "a    10\n",
      "b    20\n",
      "c    30\n",
      "d    40\n",
      "e    50\n",
      "dtype: int64\n"
     ]
    }
   ],
   "source": [
    "# Creating a Series from a list\n",
    "data = {'a':10, 'b':20, 'c':30, 'd':40, 'e':50}\n",
    "series = pd.Series(data)\n",
    "print(series)\n"
   ]
  },
  {
   "cell_type": "markdown",
   "id": "024c41c6-4c3f-4bb6-9fb8-4f90ba682c82",
   "metadata": {},
   "source": [
    "### Series Operations\n",
    "Series support vectorized operations similar to NumPy arrays:"
   ]
  },
  {
   "cell_type": "code",
   "execution_count": 14,
   "id": "d92c3d34-e4b5-4599-8a13-71eb008d9cc3",
   "metadata": {},
   "outputs": [
    {
     "name": "stdout",
     "output_type": "stream",
     "text": [
      "\n",
      "Adding 5 to each element:\n",
      "a    15\n",
      "b    25\n",
      "c    35\n",
      "d    45\n",
      "e    55\n",
      "dtype: int64\n",
      "\n",
      "Filtering elements greater than 20:\n",
      "c    30\n",
      "d    40\n",
      "e    50\n",
      "dtype: int64\n",
      "Element-wise multiplication:\n",
      "a     100\n",
      "b     400\n",
      "c     900\n",
      "d    1600\n",
      "e    2500\n",
      "dtype: int64\n"
     ]
    }
   ],
   "source": [
    "# Arithmetic operations\n",
    "print(\"\\nAdding 5 to each element:\")\n",
    "print(series + 5)\n",
    "\n",
    "# Conditional filtering\n",
    "print(\"\\nFiltering elements greater than 20:\")\n",
    "print(series[series > 20])\n",
    "\n",
    "# Element-wise multiplication\n",
    "print(\"Element-wise multiplication:\")\n",
    "print(series*series)"
   ]
  },
  {
   "cell_type": "markdown",
   "id": "9eb63ff4-c7f2-4a2d-8e13-f9ed90fdff05",
   "metadata": {},
   "source": [
    "### Accessing Series Elements\n",
    "You can access elements using both integer-location-based indexing and label-based indexing:"
   ]
  },
  {
   "cell_type": "code",
   "execution_count": 33,
   "id": "8dd3ce0d-5be8-4b32-8658-b323b7aa05a4",
   "metadata": {},
   "outputs": [
    {
     "name": "stdout",
     "output_type": "stream",
     "text": [
      "\n",
      "Element at position 2:\n",
      "30\n",
      "\n",
      "Element at position 2..5:\n",
      "2    30\n",
      "3    40\n",
      "4    50\n",
      "dtype: int64\n",
      "\n",
      "Element with label 'c':\n",
      "30\n"
     ]
    }
   ],
   "source": [
    "# Accessing by position\n",
    "print(\"\\nElement at position 2:\")\n",
    "print(series[2])\n",
    "\n",
    "print(\"\\nElement at position 2..5:\")\n",
    "print(series[2:5])\n",
    "\n",
    "# Accessing by label\n",
    "print(\"\\nElement with label 'c':\")\n",
    "print(series_custom_index['c'])\n"
   ]
  },
  {
   "cell_type": "markdown",
   "id": "e933d313-f255-4cef-a2cc-0a676329702e",
   "metadata": {},
   "source": [
    "## 2.2 DataFrame\n",
    "A DataFrame is a two-dimensional labeled data structure with columns of potentially different data types. It can be thought of as a table or spreadsheet.\n",
    "\n",
    "### Creating a DataFrame\n",
    "You can create a DataFrame from a dictionary of lists, a list of dictionaries, or even NumPy arrays."
   ]
  },
  {
   "cell_type": "code",
   "execution_count": 37,
   "id": "2775f406-1ca0-4704-a6f0-a166a9685384",
   "metadata": {},
   "outputs": [
    {
     "name": "stdout",
     "output_type": "stream",
     "text": [
      "      Name  Age  Salary\n",
      "0    Alice   25   50000\n",
      "1      Bob   30   60000\n",
      "2  Charlie   35   70000\n",
      "3    David   40   80000\n",
      "**************************************************\n",
      "    Name  Age  Salary\n",
      "0  Alice   25   50000\n",
      "1    Bob   30   60000\n"
     ]
    }
   ],
   "source": [
    "# Creating DataFrame from a dictionary\n",
    "data = {\n",
    "    'Name': ['Alice', 'Bob', 'Charlie', 'David'],\n",
    "    'Age': [25, 30, 35, 40],\n",
    "    'Salary': [50000, 60000, 70000, 80000]\n",
    "}\n",
    "df = pd.DataFrame(data)\n",
    "print(df)\n",
    "print(\"*\"*50)\n",
    "# Creating DataFrame from a list of dictionaries\n",
    "data = [\n",
    "    {'Name': 'Alice', 'Age': 25, 'Salary': 50000},\n",
    "    {'Name': 'Bob', 'Age': 30, 'Salary': 60000}\n",
    "]\n",
    "df = pd.DataFrame(data)\n",
    "print(df)\n"
   ]
  },
  {
   "cell_type": "markdown",
   "id": "207541c0-698b-4bc6-a04f-6153133cb0a8",
   "metadata": {},
   "source": [
    "### Viewing DataFrame Information\n",
    "df.head() shows the first 5 rows.\n",
    "\n",
    "df.tail() shows the last 5 rows.\n",
    "\n",
    "df.info() provides a summary of the DataFrame, including data types and non-null values.\n",
    "\n",
    "df.describe() gives a statistical summary of numerical columns."
   ]
  },
  {
   "cell_type": "code",
   "execution_count": 39,
   "id": "329fcb5f-8f0e-4dcf-887c-985c7f4eb359",
   "metadata": {},
   "outputs": [
    {
     "name": "stdout",
     "output_type": "stream",
     "text": [
      "\n",
      "First 3 rows:\n",
      "    Name  Age  Salary\n",
      "0  Alice   25   50000\n",
      "1    Bob   30   60000\n"
     ]
    }
   ],
   "source": [
    "print(\"\\nFirst 3 rows:\")\n",
    "print(df.head(3))\n"
   ]
  },
  {
   "cell_type": "code",
   "execution_count": 41,
   "id": "257555ce-fc09-44c1-be69-c0733175a4d6",
   "metadata": {},
   "outputs": [
    {
     "name": "stdout",
     "output_type": "stream",
     "text": [
      "\n",
      "DataFrame information:\n",
      "<class 'pandas.core.frame.DataFrame'>\n",
      "RangeIndex: 2 entries, 0 to 1\n",
      "Data columns (total 3 columns):\n",
      " #   Column  Non-Null Count  Dtype \n",
      "---  ------  --------------  ----- \n",
      " 0   Name    2 non-null      object\n",
      " 1   Age     2 non-null      int64 \n",
      " 2   Salary  2 non-null      int64 \n",
      "dtypes: int64(2), object(1)\n",
      "memory usage: 176.0+ bytes\n",
      "None\n"
     ]
    }
   ],
   "source": [
    "print(\"\\nDataFrame information:\")\n",
    "print(df.info())\n"
   ]
  },
  {
   "cell_type": "code",
   "execution_count": 43,
   "id": "50cc8a77-53a6-41c8-b934-fe97a6722694",
   "metadata": {},
   "outputs": [
    {
     "name": "stdout",
     "output_type": "stream",
     "text": [
      "\n",
      "Statistical summary:\n",
      "             Age        Salary\n",
      "count   2.000000      2.000000\n",
      "mean   27.500000  55000.000000\n",
      "std     3.535534   7071.067812\n",
      "min    25.000000  50000.000000\n",
      "25%    26.250000  52500.000000\n",
      "50%    27.500000  55000.000000\n",
      "75%    28.750000  57500.000000\n",
      "max    30.000000  60000.000000\n"
     ]
    }
   ],
   "source": [
    "print(\"\\nStatistical summary:\")\n",
    "print(df.describe())"
   ]
  },
  {
   "cell_type": "markdown",
   "id": "9da9abd3-718c-4ec2-9b06-f45d5597751d",
   "metadata": {},
   "source": [
    "### Basic DataFrame Operations\n",
    "Selecting Rows and Columns\n",
    "\n",
    "Adding and Deleting Columns"
   ]
  },
  {
   "cell_type": "code",
   "execution_count": 19,
   "id": "787541fe-45c6-4cb3-bc58-6b708f90c946",
   "metadata": {},
   "outputs": [
    {
     "name": "stdout",
     "output_type": "stream",
     "text": [
      "\n",
      "Selecting 'Name' column:\n",
      "0    Alice\n",
      "1      Bob\n",
      "Name: Name, dtype: object\n"
     ]
    }
   ],
   "source": [
    "print(\"\\nSelecting 'Name' column:\")\n",
    "print(df['Name'])\n"
   ]
  },
  {
   "cell_type": "code",
   "execution_count": 21,
   "id": "2827eb79-cc88-44be-8c09-d6007e31d0f8",
   "metadata": {},
   "outputs": [
    {
     "name": "stdout",
     "output_type": "stream",
     "text": [
      "\n",
      "Selecting 'Name' and 'Salary' columns:\n",
      "    Name  Salary\n",
      "0  Alice   50000\n",
      "1    Bob   60000\n"
     ]
    }
   ],
   "source": [
    "print(\"\\nSelecting 'Name' and 'Salary' columns:\")\n",
    "print(df[['Name', 'Salary']])"
   ]
  },
  {
   "cell_type": "markdown",
   "id": "641689b3-03ee-4e85-b084-9b5747345736",
   "metadata": {},
   "source": [
    "#### Selecting rows \n",
    "\n",
    "using .loc[] (label-based) and .iloc[] (integer-based):"
   ]
  },
  {
   "cell_type": "code",
   "execution_count": 51,
   "id": "d63abd55-482e-4e46-8b6f-20d66b3d357e",
   "metadata": {},
   "outputs": [
    {
     "name": "stdout",
     "output_type": "stream",
     "text": [
      "\n",
      "Selecting row with index 1 using loc:\n",
      "Name        Bob\n",
      "Age          30\n",
      "Salary    60000\n",
      "Name: 1, dtype: object\n",
      "\n",
      "Selecting row at position 0 using iloc:\n",
      "Name      Alice\n",
      "Age          25\n",
      "Salary    50000\n",
      "Name: 0, dtype: object\n"
     ]
    }
   ],
   "source": [
    "# Using loc (label-based)\n",
    "print(\"\\nSelecting row with index 1 using loc:\")\n",
    "print(df.loc[1])\n",
    "\n",
    "# Using iloc (integer-location-based)\n",
    "print(\"\\nSelecting row at position 0 using iloc:\")\n",
    "print(df.iloc[0])\n"
   ]
  },
  {
   "cell_type": "code",
   "execution_count": 53,
   "id": "53305f6b-a453-41bf-b5cb-3e8b49a3e378",
   "metadata": {},
   "outputs": [
    {
     "name": "stdout",
     "output_type": "stream",
     "text": [
      "\n",
      "Selecting row with index 0:3 using loc:\n",
      "    Name  Age  Salary\n",
      "0  Alice   25   50000\n",
      "1    Bob   30   60000\n",
      "\n",
      "Selecting row at position 0:3 using iloc:\n",
      "    Name  Age  Salary\n",
      "0  Alice   25   50000\n",
      "1    Bob   30   60000\n"
     ]
    }
   ],
   "source": [
    "# Using loc (label-based)\n",
    "print(\"\\nSelecting row with index 0:3 using loc:\")\n",
    "print(df.loc[0:3])\n",
    "\n",
    "# Using iloc (integer-location-based)\n",
    "print(\"\\nSelecting row at position 0:3 using iloc:\")\n",
    "print(df.iloc[0:3])"
   ]
  },
  {
   "cell_type": "code",
   "execution_count": 55,
   "id": "6c9ae0db-1e2d-4bb2-91a2-e503d65623e0",
   "metadata": {},
   "outputs": [
    {
     "name": "stdout",
     "output_type": "stream",
     "text": [
      "      Name  Age  Salary\n",
      "1      Bob   30   60000\n",
      "2  Charlie   35   70000\n",
      "3    David   40   80000\n"
     ]
    }
   ],
   "source": [
    "# Creating a DataFrame\n",
    "data = {\n",
    "    'Name': ['Alice', 'Bob', 'Charlie', 'David', 'Eve'],\n",
    "    'Age': [25, 30, 35, 40, 45],\n",
    "    'Salary': [50000, 60000, 70000, 80000, 90000]\n",
    "}\n",
    "df = pd.DataFrame(data)\n",
    "\n",
    "# Selecting rows from index 1 to 3 (inclusive)\n",
    "selected_rows = df.loc[1:3]\n",
    "\n",
    "print(selected_rows)\n"
   ]
  },
  {
   "cell_type": "code",
   "execution_count": 61,
   "id": "0cc6c6a3-c3b9-48b6-b9dd-b13178e33c43",
   "metadata": {},
   "outputs": [
    {
     "name": "stdout",
     "output_type": "stream",
     "text": [
      "      Name  Age  Salary\n",
      "1      Bob   30   60000\n",
      "2  Charlie   35   70000\n"
     ]
    }
   ],
   "source": [
    "selected_rows = df.iloc[1:3] \n",
    "print(selected_rows)\n"
   ]
  },
  {
   "cell_type": "markdown",
   "id": "cd127022-0e3c-45b9-8fe4-b01adda89cfc",
   "metadata": {},
   "source": [
    "👉 Note: Unlike .iloc[], .loc[] includes the last index (3)."
   ]
  },
  {
   "cell_type": "code",
   "execution_count": 63,
   "id": "0f3aec91-9f46-4f0e-9b8e-b470b54a02bc",
   "metadata": {},
   "outputs": [
    {
     "name": "stdout",
     "output_type": "stream",
     "text": [
      "      Name  Age  Salary\n",
      "0    Alice   25   50000\n",
      "2  Charlie   35   70000\n",
      "4      Eve   45   90000\n"
     ]
    }
   ],
   "source": [
    "selected_rows = df.loc[[0, 2, 4]]  # Selecting rows with index 0, 2, and 4\n",
    "print(selected_rows)"
   ]
  },
  {
   "cell_type": "markdown",
   "id": "d716d669-7bfb-491e-893f-a4dfb39a5fec",
   "metadata": {},
   "source": [
    "### Adding and Deleting Columns\n",
    "Adding a new column:\n",
    "\n"
   ]
  },
  {
   "cell_type": "code",
   "execution_count": 86,
   "id": "366c7cf4-0608-4e17-9fb0-e44c462b6df4",
   "metadata": {},
   "outputs": [
    {
     "name": "stdout",
     "output_type": "stream",
     "text": [
      "\n",
      "DataFrame with Bonus column:\n",
      "    Name  Age  Salary   Bonus\n",
      "0  Alice   25   50000  5000.0\n",
      "1    Bob   30   60000  6000.0\n"
     ]
    }
   ],
   "source": [
    "df['Bonus'] = df['Salary'] * 0.10\n",
    "print(\"\\nDataFrame with Bonus column:\")\n",
    "print(df)\n"
   ]
  },
  {
   "cell_type": "markdown",
   "id": "3ce01d50-7b7a-44c0-8aa2-1f4d1dcd1149",
   "metadata": {},
   "source": [
    "Deleting a column:"
   ]
  },
  {
   "cell_type": "code",
   "execution_count": 89,
   "id": "790d6756-57cb-4308-b42b-0bf4f95eba08",
   "metadata": {},
   "outputs": [
    {
     "name": "stdout",
     "output_type": "stream",
     "text": [
      "\n",
      "DataFrame after dropping Bonus column:\n",
      "    Name  Age  Salary\n",
      "0  Alice   25   50000\n",
      "1    Bob   30   60000\n"
     ]
    }
   ],
   "source": [
    "df.drop(columns=['Bonus'], inplace=True)\n",
    "print(\"\\nDataFrame after dropping Bonus column:\")\n",
    "print(df)\n"
   ]
  },
  {
   "cell_type": "markdown",
   "id": "f8586db9-106d-4f6f-b432-6d90e0ef44d1",
   "metadata": {},
   "source": [
    "## 3. Importing and Exporting Data\n",
    "Reading Data from CSV"
   ]
  },
  {
   "cell_type": "code",
   "execution_count": 66,
   "id": "4191229e-cc56-4e96-9efd-3740f50810a1",
   "metadata": {},
   "outputs": [
    {
     "name": "stdout",
     "output_type": "stream",
     "text": [
      "First 5 rows of the Iris dataset:\n",
      "   sepal_length  sepal_width  petal_length  petal_width      species\n",
      "0           5.1          3.5           1.4          0.2  Iris-setosa\n",
      "1           4.9          3.0           1.4          0.2  Iris-setosa\n",
      "2           4.7          3.2           1.3          0.2  Iris-setosa\n",
      "3           4.6          3.1           1.5          0.2  Iris-setosa\n",
      "4           5.0          3.6           1.4          0.2  Iris-setosa\n"
     ]
    }
   ],
   "source": [
    "# Using the Iris dataset from UCI Machine Learning Repository\n",
    "url = \"https://archive.ics.uci.edu/ml/machine-learning-databases/iris/iris.data\"\n",
    "\n",
    "# Adding column names since the dataset doesn't have headers\n",
    "column_names = ['sepal_length', 'sepal_width', 'petal_length', 'petal_width', 'species']\n",
    "\n",
    "# Reading the CSV file into a DataFrame\n",
    "df = pd.read_csv(url, header=None, names=column_names) \n",
    "#header=None: No row should be treated as a header. You must provide column names manually using the names parameter.\n",
    "\n",
    "# Displaying the first 5 rows of the DataFrame\n",
    "print(\"First 5 rows of the Iris dataset:\")\n",
    "print(df.head())"
   ]
  },
  {
   "cell_type": "markdown",
   "id": "ff3499a9-23fb-4756-a7aa-9cfde1bfe375",
   "metadata": {},
   "source": [
    "## Exporting Data to CSV"
   ]
  },
  {
   "cell_type": "code",
   "execution_count": 72,
   "id": "cf724ced-be44-46eb-b98d-77d3ceafde21",
   "metadata": {},
   "outputs": [],
   "source": [
    "# Exporting DataFrame to CSV\n",
    "df.to_csv('C:/Users/sashk/Downloads/output.csv', index=False)\n"
   ]
  },
  {
   "cell_type": "markdown",
   "id": "8f74f5ef-62dd-4af5-a426-f27a3dd82987",
   "metadata": {},
   "source": [
    "## Reading and Writing Excel Files"
   ]
  },
  {
   "cell_type": "code",
   "execution_count": 78,
   "id": "19bbd986-deee-4f42-beb3-c53c1bf4e3a7",
   "metadata": {},
   "outputs": [
    {
     "name": "stdout",
     "output_type": "stream",
     "text": [
      "Collecting openpyxl\n",
      "  Downloading openpyxl-3.1.5-py2.py3-none-any.whl.metadata (2.5 kB)\n",
      "Collecting et-xmlfile (from openpyxl)\n",
      "  Downloading et_xmlfile-2.0.0-py3-none-any.whl.metadata (2.7 kB)\n",
      "Downloading openpyxl-3.1.5-py2.py3-none-any.whl (250 kB)\n",
      "Downloading et_xmlfile-2.0.0-py3-none-any.whl (18 kB)\n",
      "Installing collected packages: et-xmlfile, openpyxl\n",
      "Successfully installed et-xmlfile-2.0.0 openpyxl-3.1.5\n",
      "Note: you may need to restart the kernel to use updated packages.\n"
     ]
    }
   ],
   "source": [
    "pip install openpyxl"
   ]
  },
  {
   "cell_type": "code",
   "execution_count": 80,
   "id": "4d3a55a6-ad5e-4f1c-9647-e3fb8007fdc1",
   "metadata": {},
   "outputs": [
    {
     "name": "stdout",
     "output_type": "stream",
     "text": [
      "   sepal_length  sepal_width  petal_length  petal_width      species\n",
      "0           5.1          3.5           1.4          0.2  Iris-setosa\n",
      "1           4.9          3.0           1.4          0.2  Iris-setosa\n",
      "2           4.7          3.2           1.3          0.2  Iris-setosa\n",
      "3           4.6          3.1           1.5          0.2  Iris-setosa\n",
      "4           5.0          3.6           1.4          0.2  Iris-setosa\n"
     ]
    }
   ],
   "source": [
    "# Reading the CSV file into a DataFrame\n",
    "df = pd.read_csv(url, header=None, names=column_names)\n",
    "\n",
    "# Writing Excel file\n",
    "df.to_excel('C:/Users/sashk/Downloads/outputTest.xlsx', index=False)\n",
    "\n",
    "# Reading Excel file\n",
    "df = pd.read_excel('C:/Users/sashk/Downloads/outputTest.xlsx', sheet_name='Sheet1')\n",
    "print(df.head())\n",
    "\n"
   ]
  },
  {
   "cell_type": "markdown",
   "id": "3f062f60-2246-46c8-8e25-967aea078b49",
   "metadata": {},
   "source": [
    "## 4. Data Exploration and Cleaning\n",
    "Viewing Data Information\n",
    "\n",
    "df.head() and df.tail()\n",
    "\n",
    "df.info() and df.describe()\n",
    "\n",
    "## Handling Missing Values"
   ]
  },
  {
   "cell_type": "code",
   "execution_count": 16,
   "id": "03316506-49f6-4c56-956e-14b9001651fa",
   "metadata": {},
   "outputs": [
    {
     "name": "stdout",
     "output_type": "stream",
     "text": [
      "    Name    Age  Salary\n",
      "0  False  False   False\n",
      "1  False  False   False\n",
      "2  False  False   False\n",
      "3  False   True   False\n",
      "Name      0\n",
      "Age       1\n",
      "Salary    0\n",
      "dtype: int64\n",
      "      Name   Age  Salary\n",
      "0    Alice  25.0   50000\n",
      "1      Bob  30.0   60000\n",
      "2  Charlie  35.0   70000\n",
      "\n",
      "\n",
      "\n",
      "      Name   Age  Salary\n",
      "0    Alice  25.0   50000\n",
      "1      Bob  30.0   60000\n",
      "2  Charlie  35.0   70000\n",
      "3    David  80.0   80000\n",
      "\n",
      "\n",
      "\n",
      "      Name   Age  Salary\n",
      "0    Alice  25.0   50000\n",
      "1      Bob  30.0   60000\n",
      "2  Charlie  35.0   70000\n",
      "3    David   NaN   80000\n",
      "4     Mary   NaN   55000\n",
      "\n",
      "\n",
      "\n",
      "      Name   Age  Salary\n",
      "0    Alice  25.0   50000\n",
      "1      Bob  30.0   60000\n",
      "2  Charlie  35.0   70000\n",
      "3    David  30.0   80000\n",
      "4     Mary  30.0   55000\n"
     ]
    }
   ],
   "source": [
    "import numpy as np\n",
    "# Creating DataFrame from a dictionary\n",
    "data = {\n",
    "    'Name': ['Alice', 'Bob', 'Charlie', 'David'],\n",
    "    'Age': [25, 30, 35, np.nan],\n",
    "    'Salary': [50000, 60000, 70000, 80000]\n",
    "}\n",
    "df = pd.DataFrame(data)\n",
    "\n",
    "# Checking for missing values\n",
    "print(df.isnull())\n",
    "print(df.isnull().sum())\n",
    "\n",
    "# Dropping missing values\n",
    "df_cleaned = df.dropna()\n",
    "print(df_cleaned)\n",
    "\n",
    "print('\\n\\n')\n",
    "# Filling missing values\n",
    "df_filled = df.fillna(value={'Age': 80, 'Salary': 0})\n",
    "print(df_filled)\n",
    "\n",
    "print('\\n\\n')\n",
    "# Adding a new row using loc[]\n",
    "df.loc[len(df)] = ['Mary', np.nan, 55000] \n",
    "print(df)\n",
    "\n",
    "print('\\n\\n')\n",
    "m = df['Age'].mean()\n",
    "df_filled = df.fillna(m)\n",
    "print(df_filled)"
   ]
  },
  {
   "cell_type": "markdown",
   "id": "f7269430-9eea-45e2-a234-e14a4396e2a9",
   "metadata": {},
   "source": [
    "### Data Type Conversion"
   ]
  },
  {
   "cell_type": "code",
   "execution_count": 142,
   "id": "c9b12f3d-8a3b-4373-920a-8b5c8d4d68a3",
   "metadata": {},
   "outputs": [],
   "source": [
    "\n",
    "# Converting data types\n",
    "df['Age'] = df['Age'].astype(float)\n"
   ]
  },
  {
   "cell_type": "markdown",
   "id": "f3a46012-875c-416c-ac46-1c6aadc77790",
   "metadata": {},
   "source": [
    "5. Data Manipulation\n",
    "Filtering Data"
   ]
  },
  {
   "cell_type": "code",
   "execution_count": 144,
   "id": "89a51746-791a-4698-8e74-5e4929aaaa38",
   "metadata": {},
   "outputs": [
    {
     "name": "stdout",
     "output_type": "stream",
     "text": [
      "      Name   Age  Salary\n",
      "2  Charlie  35.0   70000\n"
     ]
    }
   ],
   "source": [
    "# Filtering rows where Age > 30\n",
    "filtered_df = df[df['Age'] > 30]\n",
    "print(filtered_df)\n"
   ]
  },
  {
   "cell_type": "code",
   "execution_count": 146,
   "id": "5ce442c2-b0fa-4ba7-bf38-a4d5b9ed0afe",
   "metadata": {},
   "outputs": [
    {
     "name": "stdout",
     "output_type": "stream",
     "text": [
      "      Name   Age  Salary\n",
      "0    Alice  25.0   50000\n",
      "1      Bob  30.0   60000\n",
      "2  Charlie  35.0   70000\n",
      "3    David   NaN   80000\n",
      "4     Mary   NaN   55000 \n",
      "\n",
      "\n",
      "      Name   Age  Salary\n",
      "0    Alice  25.0  100000\n",
      "1      Bob  30.0  100000\n",
      "2  Charlie  35.0   70000\n",
      "3    David   NaN   80000\n",
      "4     Mary   NaN  100000\n"
     ]
    }
   ],
   "source": [
    "# Modify Salaries less than 70000\n",
    "print(df,'\\n\\n')\n",
    "\n",
    "for x in df.index:\n",
    "    if df.loc[x,'Salary']<70000:\n",
    "        df.loc[x,'Salary']=100000\n",
    "print(df)    "
   ]
  },
  {
   "cell_type": "markdown",
   "id": "9cca5164-26a0-473b-afdf-cdffbe55f16a",
   "metadata": {},
   "source": [
    "## Sorting Data"
   ]
  },
  {
   "cell_type": "code",
   "execution_count": 148,
   "id": "6ff0e3e8-478f-4135-9c51-9daa1579e49c",
   "metadata": {},
   "outputs": [
    {
     "name": "stdout",
     "output_type": "stream",
     "text": [
      "      Name   Age  Salary\n",
      "0    Alice  25.0  100000\n",
      "1      Bob  30.0  100000\n",
      "2  Charlie  35.0   70000\n",
      "3    David   NaN   80000\n",
      "4     Mary   NaN  100000\n"
     ]
    }
   ],
   "source": [
    "# Sorting by Age\n",
    "sorted_df = df.sort_values(by='Age', ascending=True)\n",
    "print(sorted_df)\n"
   ]
  },
  {
   "cell_type": "markdown",
   "id": "79e43a20-0396-403e-acd7-8e99da3ffb1b",
   "metadata": {},
   "source": [
    "## Grouping and Aggregation"
   ]
  },
  {
   "cell_type": "code",
   "execution_count": 20,
   "id": "8d46be53-28f9-46bc-8244-f70022548d4e",
   "metadata": {},
   "outputs": [
    {
     "name": "stdout",
     "output_type": "stream",
     "text": [
      "    Symbol             Security             GICS Sector  \\\n",
      "0      MMM                   3M             Industrials   \n",
      "1      AOS          A. O. Smith             Industrials   \n",
      "2      ABT  Abbott Laboratories             Health Care   \n",
      "3     ABBV               AbbVie             Health Care   \n",
      "4      ACN            Accenture  Information Technology   \n",
      "..     ...                  ...                     ...   \n",
      "498    XYL           Xylem Inc.             Industrials   \n",
      "499    YUM          Yum! Brands  Consumer Discretionary   \n",
      "500   ZBRA   Zebra Technologies  Information Technology   \n",
      "501    ZBH        Zimmer Biomet             Health Care   \n",
      "502    ZTS               Zoetis             Health Care   \n",
      "\n",
      "                                GICS Sub-Industry    Headquarters Location  \\\n",
      "0                        Industrial Conglomerates    Saint Paul, Minnesota   \n",
      "1                               Building Products     Milwaukee, Wisconsin   \n",
      "2                           Health Care Equipment  North Chicago, Illinois   \n",
      "3                                   Biotechnology  North Chicago, Illinois   \n",
      "4                  IT Consulting & Other Services          Dublin, Ireland   \n",
      "..                                            ...                      ...   \n",
      "498  Industrial Machinery & Supplies & Components   White Plains, New York   \n",
      "499                                   Restaurants     Louisville, Kentucky   \n",
      "500            Electronic Equipment & Instruments   Lincolnshire, Illinois   \n",
      "501                         Health Care Equipment          Warsaw, Indiana   \n",
      "502                               Pharmaceuticals   Parsippany, New Jersey   \n",
      "\n",
      "     Date added      CIK      Founded  \n",
      "0    1957-03-04    66740         1902  \n",
      "1    2017-07-26    91142         1916  \n",
      "2    1957-03-04     1800         1888  \n",
      "3    2012-12-31  1551152  2013 (1888)  \n",
      "4    2011-07-06  1467373         1989  \n",
      "..          ...      ...          ...  \n",
      "498  2011-11-01  1524472         2011  \n",
      "499  1997-10-06  1041061         1997  \n",
      "500  2019-12-23   877212         1969  \n",
      "501  2001-08-07  1136869         1927  \n",
      "502  2013-06-21  1555280         1952  \n",
      "\n",
      "[503 rows x 8 columns]\n"
     ]
    }
   ],
   "source": [
    "import pandas as pd\n",
    "import numpy as np\n",
    "\n",
    "url = 'https://raw.githubusercontent.com/datasets/s-and-p-500-companies/master/data/constituents.csv'\n",
    "df = pd.read_csv(url)\n",
    "print(df)\n",
    "\n"
   ]
  },
  {
   "cell_type": "code",
   "execution_count": 10,
   "id": "c4c5154b-4c60-45ae-97ea-73e40d1cd25d",
   "metadata": {},
   "outputs": [
    {
     "name": "stdout",
     "output_type": "stream",
     "text": [
      "{'Communication Services': [19, 20, 47, 98, 115, 164, 201, 202, 253, 290, 305, 311, 333, 335, 336, 353, 362, 431, 433, 446, 470, 482, 483], 'Consumer Discretionary': [11, 22, 41, 51, 61, 68, 80, 85, 86, 100, 135, 138, 150, 151, 154, 160, 183, 198, 205, 214, 215, 223, 230, 232, 284, 286, 291, 294, 295, 300, 307, 314, 320, 338, 344, 348, 350, 375, 386, 390, 403, 404, 422, 434, 440, 445, 447, 458, 492, 496, 499], 'Consumer Staples': [21, 43, 74, 76, 82, 102, 109, 112, 114, 116, 119, 127, 147, 148, 177, 213, 227, 234, 268, 269, 270, 273, 278, 279, 283, 306, 322, 323, 325, 368, 371, 379, 415, 430, 436, 454, 480, 481], 'Energy': [37, 55, 99, 117, 128, 142, 144, 169, 171, 182, 186, 221, 228, 275, 298, 351, 355, 372, 408, 435, 442, 465, 493], 'Financials': [8, 18, 26, 27, 30, 36, 38, 42, 45, 46, 57, 60, 64, 65, 66, 73, 83, 89, 97, 101, 104, 107, 108, 110, 124, 146, 175, 178, 188, 193, 194, 197, 203, 217, 218, 220, 222, 240, 250, 256, 262, 266, 271, 276, 293, 297, 299, 301, 304, 312, 326, 327, 330, 331, 342, 366, 374, 378, 380, 382, 391, 396, 405, 423, 428, 432, 450, 452, 455, 474, 477, 487, 494], 'Health Care': [2, 3, 9, 15, 32, 58, 59, 62, 63, 69, 70, 84, 92, 93, 96, 103, 121, 133, 134, 136, 143, 163, 165, 208, 216, 224, 226, 231, 239, 244, 246, 248, 255, 258, 264, 281, 288, 308, 309, 310, 313, 319, 321, 369, 389, 395, 398, 399, 418, 425, 426, 444, 463, 464, 471, 472, 485, 489, 501, 502], 'Industrials': [0, 1, 16, 31, 50, 54, 67, 72, 75, 78, 87, 88, 105, 122, 131, 132, 137, 139, 141, 152, 159, 166, 172, 184, 190, 192, 200, 207, 209, 211, 212, 233, 236, 238, 241, 243, 245, 247, 260, 263, 265, 280, 285, 287, 292, 303, 340, 341, 343, 352, 357, 358, 363, 364, 365, 367, 387, 392, 397, 400, 401, 417, 420, 421, 443, 448, 449, 456, 459, 460, 461, 462, 467, 469, 478, 479, 484, 498], 'Information Technology': [4, 5, 6, 12, 33, 34, 35, 39, 40, 44, 49, 71, 79, 91, 106, 113, 123, 129, 140, 167, 170, 187, 189, 195, 199, 206, 210, 219, 229, 237, 242, 249, 254, 261, 267, 272, 277, 282, 315, 316, 317, 324, 329, 332, 347, 349, 354, 356, 360, 361, 384, 388, 402, 406, 409, 411, 414, 427, 429, 437, 438, 439, 441, 451, 453, 468, 490, 495, 500], 'Materials': [10, 13, 23, 53, 56, 95, 125, 153, 157, 158, 161, 204, 251, 252, 289, 296, 302, 328, 334, 346, 359, 376, 412, 416, 424, 476], 'Real Estate': [14, 28, 52, 77, 81, 90, 126, 130, 145, 173, 174, 176, 185, 191, 225, 235, 257, 259, 274, 318, 381, 385, 393, 394, 407, 413, 457, 466, 473, 488, 491], 'Utilities': [7, 17, 24, 25, 29, 48, 94, 111, 118, 120, 149, 155, 156, 162, 168, 179, 180, 181, 196, 337, 339, 345, 370, 373, 377, 383, 410, 419, 475, 486, 497]}\n"
     ]
    }
   ],
   "source": [
    "symbol = df.groupby('GICS Sector')\n",
    "print(symbol.groups)"
   ]
  },
  {
   "cell_type": "code",
   "execution_count": 15,
   "id": "d40810ea-0636-40bf-85f8-77a8036a49b4",
   "metadata": {},
   "outputs": [
    {
     "name": "stdout",
     "output_type": "stream",
     "text": [
      "GICS Sector\n",
      "Communication Services    1923\n",
      "Consumer Discretionary    1878\n",
      "Consumer Staples          1806\n",
      "Energy                    1879\n",
      "Financials                1784\n",
      "Health Care               1833\n",
      "Industrials               1837\n",
      "Information Technology    1851\n",
      "Materials                 1866\n",
      "Real Estate               1900\n",
      "Utilities                 1823\n",
      "Name: Founded, dtype: object\n"
     ]
    }
   ],
   "source": [
    "# Grouping and calculating mean salary by Age\n",
    "grouped_df = df.groupby('GICS Sector')['Founded'].min()\n",
    "print(grouped_df)\n"
   ]
  },
  {
   "cell_type": "code",
   "execution_count": 28,
   "id": "6fef3062-e76e-41a1-bdd6-24187e89e1f5",
   "metadata": {},
   "outputs": [
    {
     "name": "stdout",
     "output_type": "stream",
     "text": [
      "                GICS Sector Symbol Founded\n",
      "482  Communication Services    DIS    1923\n",
      "320  Consumer Discretionary    MHK    1878\n",
      "114        Consumer Staples     CL    1806\n",
      "99                   Energy    CVX    1879\n",
      "66               Financials     BK    1784\n",
      "308             Health Care    MCK    1833\n",
      "139             Industrials     DE    1837\n",
      "123  Information Technology    GLW    1851\n",
      "412               Materials    SHW    1866\n",
      "491             Real Estate     WY    1900\n",
      "118               Utilities     ED    1823\n"
     ]
    }
   ],
   "source": [
    "# Step 1: Get index of row with earliest Founded year per sector\n",
    "idx = df.groupby('GICS Sector')['Founded'].idxmin()\n",
    "\n",
    "# Step 2: Use index to retrieve rows\n",
    "result = df.loc[idx, ['GICS Sector', 'Symbol', 'Founded']]\n",
    "print(result)\n"
   ]
  },
  {
   "cell_type": "markdown",
   "id": "67e8f16a-4118-4b46-9ea3-a9a9616f69db",
   "metadata": {},
   "source": [
    "## Merging and Concatenating DataFrames\n"
   ]
  },
  {
   "cell_type": "code",
   "execution_count": 51,
   "id": "e2a1fd84-1e2a-4800-925c-2b0297dc13bf",
   "metadata": {},
   "outputs": [
    {
     "name": "stdout",
     "output_type": "stream",
     "text": [
      "   ID     Name  Salary\n",
      "0   1    Alice   50000\n",
      "1   2      Bob   60000\n",
      "2   3  Charlie   70000\n",
      "   ID     Name  Salary\n",
      "0   1    Alice   50000\n",
      "1   2      Bob   60000\n",
      "2   3  Charlie   70000\n",
      "3  10     Sara   50000\n",
      "4  20     Reza   60000\n",
      "5  30      Ali   70000\n"
     ]
    }
   ],
   "source": [
    "# Merging DataFrames\n",
    "df1 = pd.DataFrame({'ID': [1, 2, 3], 'Name': ['Alice', 'Bob', 'Charlie']})\n",
    "df2 = pd.DataFrame({'ID': [1, 2, 3], 'Salary': [50000, 60000, 70000]})\n",
    "df3 = pd.DataFrame({'ID': [10,20 , 30], 'Salary': [50000, 60000, 70000], 'Name': ['Sara', 'Reza', 'Ali']})\n",
    "\n",
    "merged_df = pd.merge(df1, df2, on='ID')\n",
    "print(merged_df)\n",
    "\n",
    "# Concatenate merged_df and df3\n",
    "final_df = pd.concat([merged_df, df3], ignore_index=True)\n",
    "print(final_df)"
   ]
  },
  {
   "cell_type": "markdown",
   "id": "396fe627-8ff7-40f3-a4a9-b6abc07c50e2",
   "metadata": {},
   "source": [
    "## 6. Data Visualization with Pandas\n",
    "Quick Plotting"
   ]
  },
  {
   "cell_type": "code",
   "execution_count": 57,
   "id": "eec607de-e3bc-41a3-9023-d4b5ab4d5685",
   "metadata": {},
   "outputs": [
    {
     "data": {
      "image/png": "[encoded data removed]",
      "text/plain": [
       "<Figure size 640x480 with 1 Axes>"
      ]
     },
     "metadata": {},
     "output_type": "display_data"
    }
   ],
   "source": [
    "import matplotlib.pyplot as plt\n",
    "data = {\n",
    "    'Name': ['Alice', 'Bob', 'Charlie', 'David'],\n",
    "    'Age': [25, 30, 35, 25],\n",
    "    'Salary': [50000, 60000, 70000, 80000]\n",
    "}\n",
    "df = pd.DataFrame(data)\n",
    "# Plotting Age vs Salary\n",
    "df.plot(x='Age', y='Salary', kind='line')\n",
    "plt.title('Age vs Salary')\n",
    "plt.show()\n"
   ]
  },
  {
   "cell_type": "markdown",
   "id": "3d9e17b6-78dd-475b-829c-1ccf363786bd",
   "metadata": {},
   "source": [
    "## 7. Advanced Topics\n",
    "### Applying Functions using apply()"
   ]
  },
  {
   "cell_type": "code",
   "execution_count": 59,
   "id": "e39c8164-a6a6-4b61-8d24-21ac3e54393d",
   "metadata": {},
   "outputs": [
    {
     "name": "stdout",
     "output_type": "stream",
     "text": [
      "      Name  Age  Salary  Salary Increment\n",
      "0    Alice   25   50000           55000.0\n",
      "1      Bob   30   60000           66000.0\n",
      "2  Charlie   35   70000           77000.0\n",
      "3    David   25   80000           88000.0\n"
     ]
    }
   ],
   "source": [
    "# Applying a function to a column\n",
    "df['Salary Increment'] = df['Salary'].apply(lambda x: x * 1.10)\n",
    "print(df)\n"
   ]
  },
  {
   "cell_type": "code",
   "execution_count": 61,
   "id": "ef70e0e0-806d-4e43-a294-05d51b51f555",
   "metadata": {},
   "outputs": [
    {
     "name": "stdout",
     "output_type": "stream",
     "text": [
      "      Name  Age  Salary  Salary Increment\n",
      "0    Alice   25   50000           55000.0\n",
      "1      Bob   30   60000           66000.0\n",
      "2  Charlie   35   70000           77000.0\n",
      "3    David   25   80000           88000.0\n"
     ]
    }
   ],
   "source": [
    "# User-defined function\n",
    "def calculate_increment(salary):\n",
    "    return salary * 1.10\n",
    "\n",
    "# Apply the function to the Salary column\n",
    "df['Salary Increment'] = df['Salary'].apply(calculate_increment)\n",
    "\n",
    "print(df)\n"
   ]
  },
  {
   "cell_type": "markdown",
   "id": "d2c51dad-6bb3-486c-bbd9-f0886bdf13f9",
   "metadata": {},
   "source": [
    "### Pivot Tables\n",
    "A pivot table is a powerful way to summarize, group, and analyze data in a DataFrame — similar to what you'd use in Excel.\n",
    "\n",
    "It lets you reorganize data based on one or more keys (columns) and apply an aggregation function (like mean, sum, count, etc.)."
   ]
  },
  {
   "cell_type": "code",
   "execution_count": 27,
   "id": "ceb7140a-b216-4d88-aa0a-b8dd772df993",
   "metadata": {},
   "outputs": [
    {
     "name": "stdout",
     "output_type": "stream",
     "text": [
      "      Salary\n",
      "Age         \n",
      "25   65000.0\n",
      "30   60000.0\n",
      "35   70000.0\n"
     ]
    }
   ],
   "source": [
    "# Creating a Pivot Table\n",
    "pivot_table = df.pivot_table(values='Salary', index='Age', aggfunc='mean')\n",
    "print(pivot_table)\n"
   ]
  }
 ],
 "metadata": {
  "kernelspec": {
   "display_name": "Python 3 (ipykernel)",
   "language": "python",
   "name": "python3"
  },
  "language_info": {
   "codemirror_mode": {
    "name": "ipython",
    "version": 3
   },
   "file_extension": ".py",
   "mimetype": "text/x-python",
   "name": "python",
   "nbconvert_exporter": "python",
   "pygments_lexer": "ipython3",
   "version": "3.12.4"
  }
 },
 "nbformat": 4,
 "nbformat_minor": 5
}
