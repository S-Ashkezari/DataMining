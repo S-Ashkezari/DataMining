{
 "cells": [
  {
   "cell_type": "markdown",
   "id": "be5c49a5-2894-4649-9b81-a9ea7126d2e2",
   "metadata": {},
   "source": [
    "### Learning Pandas from Scratch"
   ]
  },
  {
   "cell_type": "markdown",
   "id": "a65f7c92-bd9f-4690-9421-8b0365c206f1",
   "metadata": {},
   "source": [
    "1. Introduction to Pandas\n",
    "What is Pandas?\n",
    "Pandas is a powerful open-source data manipulation and analysis library for Python. It provides data structures and functions needed to efficiently work with structured data. It is built on top of NumPy, which provides support for large, multi-dimensional arrays and matrices. Pandas is widely used in data analysis, data science, and machine learning.\n",
    "\n",
    "Why Use Pandas for Data Analysis?\n",
    "Easy handling of missing data.\n",
    "Efficient data slicing, filtering, and grouping operations.\n",
    "Powerful tools for data cleaning and wrangling.\n",
    "Support for importing and exporting data from various formats like CSV, Excel, SQL databases, and more.\n",
    "Built-in functions for quick data visualization.\n",
    "\n",
    "**Installing Pandas**\n",
    "\n",
    "If you don’t have Pandas installed, you can do so using pip:"
   ]
  },
  {
   "cell_type": "code",
   "execution_count": null,
   "id": "c850a3af-a9d3-4839-806f-b8e66e199e70",
   "metadata": {},
   "outputs": [],
   "source": [
    "!pip install pandas"
   ]
  },
  {
   "cell_type": "markdown",
   "id": "5b18a18a-7777-45b2-9363-f1fc2c06065f",
   "metadata": {},
   "source": [
    "Importing Pandas"
   ]
  },
  {
   "cell_type": "code",
   "execution_count": 1,
   "id": "ca2eb41d-0ab1-4289-b823-ce436c5867e3",
   "metadata": {},
   "outputs": [],
   "source": [
    "import pandas as pd"
   ]
  },
  {
   "cell_type": "markdown",
   "id": "9bb7f073-9212-4d08-b821-090c67297c7b",
   "metadata": {},
   "source": [
    "# 2. Data Structures in Pandas\n",
    "\n",
    "Pandas provides two primary data structures:\n",
    "\n",
    "Series: One-dimensional labeled array, similar to a list but with labels (index).\n",
    "DataFrame: Two-dimensional labeled data structure, similar to a table or spreadsheet.\n",
    "\n",
    "## 2.1 Series\n",
    "A Series is a one-dimensional labeled array capable of holding any data type (integers, strings, floats, etc.). It can be thought of as a column in a spreadsheet.\n",
    "\n",
    "Creating a Series\n",
    "You can create a Series from a list, NumPy array, dictionary, or even a scalar value. Here are a few examples:"
   ]
  },
  {
   "cell_type": "code",
   "execution_count": 3,
   "id": "f7955742-fd48-4bbb-a08b-fabdef301cf0",
   "metadata": {},
   "outputs": [
    {
     "name": "stdout",
     "output_type": "stream",
     "text": [
      "0    10\n",
      "1    20\n",
      "2    30\n",
      "3    40\n",
      "4    50\n",
      "dtype: int64\n",
      "a    10\n",
      "b    20\n",
      "c    30\n",
      "d    40\n",
      "e    50\n",
      "dtype: int64\n"
     ]
    }
   ],
   "source": [
    "import pandas as pd\n",
    "\n",
    "# Creating a Series from a list\n",
    "data = [10, 20, 30, 40, 50]\n",
    "series = pd.Series(data)\n",
    "print(series)\n",
    "\n",
    "# Creating a Series with custom index\n",
    "series_custom_index = pd.Series(data, index=['a', 'b', 'c', 'd', 'e'])\n",
    "print(series_custom_index)\n"
   ]
  },
  {
   "cell_type": "markdown",
   "id": "024c41c6-4c3f-4bb6-9fb8-4f90ba682c82",
   "metadata": {},
   "source": [
    "### Series Operations\n",
    "Series support vectorized operations similar to NumPy arrays:"
   ]
  },
  {
   "cell_type": "code",
   "execution_count": 7,
   "id": "d92c3d34-e4b5-4599-8a13-71eb008d9cc3",
   "metadata": {},
   "outputs": [
    {
     "name": "stdout",
     "output_type": "stream",
     "text": [
      "\n",
      "Adding 5 to each element:\n",
      "0    15\n",
      "1    25\n",
      "2    35\n",
      "3    45\n",
      "4    55\n",
      "dtype: int64\n",
      "\n",
      "Filtering elements greater than 20:\n",
      "2    30\n",
      "3    40\n",
      "4    50\n",
      "dtype: int64\n"
     ]
    }
   ],
   "source": [
    "# Arithmetic operations\n",
    "print(\"\\nAdding 5 to each element:\")\n",
    "print(series + 5)\n",
    "\n",
    "# Conditional filtering\n",
    "print(\"\\nFiltering elements greater than 20:\")\n",
    "print(series[series > 20])\n"
   ]
  },
  {
   "cell_type": "markdown",
   "id": "9eb63ff4-c7f2-4a2d-8e13-f9ed90fdff05",
   "metadata": {},
   "source": [
    "### Accessing Series Elements\n",
    "You can access elements using both integer-location-based indexing and label-based indexing:"
   ]
  },
  {
   "cell_type": "code",
   "execution_count": 10,
   "id": "8dd3ce0d-5be8-4b32-8658-b323b7aa05a4",
   "metadata": {},
   "outputs": [
    {
     "name": "stdout",
     "output_type": "stream",
     "text": [
      "\n",
      "Element at position 2:\n",
      "30\n",
      "\n",
      "Element with label 'c':\n",
      "30\n"
     ]
    }
   ],
   "source": [
    "# Accessing by position\n",
    "print(\"\\nElement at position 2:\")\n",
    "print(series[2])\n",
    "\n",
    "# Accessing by label\n",
    "print(\"\\nElement with label 'c':\")\n",
    "print(series_custom_index['c'])\n"
   ]
  },
  {
   "cell_type": "markdown",
   "id": "e933d313-f255-4cef-a2cc-0a676329702e",
   "metadata": {},
   "source": [
    "## 2.2 DataFrame\n",
    "A DataFrame is a two-dimensional labeled data structure with columns of potentially different data types. It can be thought of as a table or spreadsheet.\n",
    "\n",
    "### Creating a DataFrame\n",
    "You can create a DataFrame from a dictionary of lists, a list of dictionaries, or even NumPy arrays."
   ]
  },
  {
   "cell_type": "code",
   "execution_count": 13,
   "id": "2775f406-1ca0-4704-a6f0-a166a9685384",
   "metadata": {},
   "outputs": [
    {
     "name": "stdout",
     "output_type": "stream",
     "text": [
      "      Name  Age  Salary\n",
      "0    Alice   25   50000\n",
      "1      Bob   30   60000\n",
      "2  Charlie   35   70000\n",
      "3    David   40   80000\n",
      "**************************************************\n",
      "    Name  Age  Salary\n",
      "0  Alice   25   50000\n",
      "1    Bob   30   60000\n"
     ]
    }
   ],
   "source": [
    "# Creating DataFrame from a dictionary\n",
    "data = {\n",
    "    'Name': ['Alice', 'Bob', 'Charlie', 'David'],\n",
    "    'Age': [25, 30, 35, 40],\n",
    "    'Salary': [50000, 60000, 70000, 80000]\n",
    "}\n",
    "df = pd.DataFrame(data)\n",
    "print(df)\n",
    "print(\"*\"*50)\n",
    "# Creating DataFrame from a list of dictionaries\n",
    "data = [\n",
    "    {'Name': 'Alice', 'Age': 25, 'Salary': 50000},\n",
    "    {'Name': 'Bob', 'Age': 30, 'Salary': 60000}\n",
    "]\n",
    "df = pd.DataFrame(data)\n",
    "print(df)\n"
   ]
  },
  {
   "cell_type": "markdown",
   "id": "207541c0-698b-4bc6-a04f-6153133cb0a8",
   "metadata": {},
   "source": [
    "### Viewing DataFrame Information\n",
    "df.head() shows the first 5 rows.\n",
    "\n",
    "df.tail() shows the last 5 rows.\n",
    "\n",
    "df.info() provides a summary of the DataFrame, including data types and non-null values.\n",
    "\n",
    "df.describe() gives a statistical summary of numerical columns."
   ]
  },
  {
   "cell_type": "code",
   "execution_count": 16,
   "id": "329fcb5f-8f0e-4dcf-887c-985c7f4eb359",
   "metadata": {},
   "outputs": [
    {
     "name": "stdout",
     "output_type": "stream",
     "text": [
      "\n",
      "First 3 rows:\n",
      "    Name  Age  Salary\n",
      "0  Alice   25   50000\n",
      "1    Bob   30   60000\n",
      "\n",
      "DataFrame information:\n",
      "<class 'pandas.core.frame.DataFrame'>\n",
      "RangeIndex: 2 entries, 0 to 1\n",
      "Data columns (total 3 columns):\n",
      " #   Column  Non-Null Count  Dtype \n",
      "---  ------  --------------  ----- \n",
      " 0   Name    2 non-null      object\n",
      " 1   Age     2 non-null      int64 \n",
      " 2   Salary  2 non-null      int64 \n",
      "dtypes: int64(2), object(1)\n",
      "memory usage: 180.0+ bytes\n",
      "None\n",
      "\n",
      "Statistical summary:\n",
      "             Age        Salary\n",
      "count   2.000000      2.000000\n",
      "mean   27.500000  55000.000000\n",
      "std     3.535534   7071.067812\n",
      "min    25.000000  50000.000000\n",
      "25%    26.250000  52500.000000\n",
      "50%    27.500000  55000.000000\n",
      "75%    28.750000  57500.000000\n",
      "max    30.000000  60000.000000\n"
     ]
    }
   ],
   "source": [
    "print(\"\\nFirst 3 rows:\")\n",
    "print(df.head(3))\n",
    "\n",
    "print(\"\\nDataFrame information:\")\n",
    "print(df.info())\n",
    "\n",
    "print(\"\\nStatistical summary:\")\n",
    "print(df.describe())\n"
   ]
  },
  {
   "cell_type": "markdown",
   "id": "9da9abd3-718c-4ec2-9b06-f45d5597751d",
   "metadata": {},
   "source": [
    "### Basic DataFrame Operations\n",
    "Selecting Rows and Columns\n",
    "\n",
    "Adding and Deleting Columns"
   ]
  },
  {
   "cell_type": "code",
   "execution_count": 19,
   "id": "787541fe-45c6-4cb3-bc58-6b708f90c946",
   "metadata": {},
   "outputs": [
    {
     "name": "stdout",
     "output_type": "stream",
     "text": [
      "\n",
      "Selecting 'Name' column:\n",
      "0    Alice\n",
      "1      Bob\n",
      "Name: Name, dtype: object\n"
     ]
    }
   ],
   "source": [
    "print(\"\\nSelecting 'Name' column:\")\n",
    "print(df['Name'])\n"
   ]
  },
  {
   "cell_type": "code",
   "execution_count": 21,
   "id": "2827eb79-cc88-44be-8c09-d6007e31d0f8",
   "metadata": {},
   "outputs": [
    {
     "name": "stdout",
     "output_type": "stream",
     "text": [
      "\n",
      "Selecting 'Name' and 'Salary' columns:\n",
      "    Name  Salary\n",
      "0  Alice   50000\n",
      "1    Bob   60000\n"
     ]
    }
   ],
   "source": [
    "print(\"\\nSelecting 'Name' and 'Salary' columns:\")\n",
    "print(df[['Name', 'Salary']])"
   ]
  },
  {
   "cell_type": "markdown",
   "id": "641689b3-03ee-4e85-b084-9b5747345736",
   "metadata": {},
   "source": [
    "#### Selecting rows \n",
    "\n",
    "using .loc[] (label-based) and .iloc[] (integer-based):"
   ]
  },
  {
   "cell_type": "code",
   "execution_count": 24,
   "id": "d63abd55-482e-4e46-8b6f-20d66b3d357e",
   "metadata": {},
   "outputs": [
    {
     "name": "stdout",
     "output_type": "stream",
     "text": [
      "\n",
      "Selecting row with index 1 using loc:\n",
      "Name        Bob\n",
      "Age          30\n",
      "Salary    60000\n",
      "Name: 1, dtype: object\n",
      "\n",
      "Selecting row at position 2 using iloc:\n",
      "Name        Bob\n",
      "Age          30\n",
      "Salary    60000\n",
      "Name: 1, dtype: object\n"
     ]
    }
   ],
   "source": [
    "# Using loc (label-based)\n",
    "print(\"\\nSelecting row with index 1 using loc:\")\n",
    "print(df.loc[1])\n",
    "\n",
    "# Using iloc (integer-location-based)\n",
    "print(\"\\nSelecting row at position 2 using iloc:\")\n",
    "print(df.iloc[1])\n"
   ]
  },
  {
   "cell_type": "markdown",
   "id": "d716d669-7bfb-491e-893f-a4dfb39a5fec",
   "metadata": {},
   "source": [
    "### Adding and Deleting Columns\n",
    "Adding a new column:\n",
    "\n"
   ]
  },
  {
   "cell_type": "code",
   "execution_count": 86,
   "id": "366c7cf4-0608-4e17-9fb0-e44c462b6df4",
   "metadata": {},
   "outputs": [
    {
     "name": "stdout",
     "output_type": "stream",
     "text": [
      "\n",
      "DataFrame with Bonus column:\n",
      "    Name  Age  Salary   Bonus\n",
      "0  Alice   25   50000  5000.0\n",
      "1    Bob   30   60000  6000.0\n"
     ]
    }
   ],
   "source": [
    "df['Bonus'] = df['Salary'] * 0.10\n",
    "print(\"\\nDataFrame with Bonus column:\")\n",
    "print(df)\n"
   ]
  },
  {
   "cell_type": "markdown",
   "id": "3ce01d50-7b7a-44c0-8aa2-1f4d1dcd1149",
   "metadata": {},
   "source": [
    "Deleting a column:"
   ]
  },
  {
   "cell_type": "code",
   "execution_count": 89,
   "id": "790d6756-57cb-4308-b42b-0bf4f95eba08",
   "metadata": {},
   "outputs": [
    {
     "name": "stdout",
     "output_type": "stream",
     "text": [
      "\n",
      "DataFrame after dropping Bonus column:\n",
      "    Name  Age  Salary\n",
      "0  Alice   25   50000\n",
      "1    Bob   30   60000\n"
     ]
    }
   ],
   "source": [
    "df.drop(columns=['Bonus'], inplace=True)\n",
    "print(\"\\nDataFrame after dropping Bonus column:\")\n",
    "print(df)\n"
   ]
  },
  {
   "cell_type": "markdown",
   "id": "f8586db9-106d-4f6f-b432-6d90e0ef44d1",
   "metadata": {},
   "source": [
    "## 3. Importing and Exporting Data\n",
    "Reading Data from CSV"
   ]
  },
  {
   "cell_type": "code",
   "execution_count": 97,
   "id": "4191229e-cc56-4e96-9efd-3740f50810a1",
   "metadata": {},
   "outputs": [
    {
     "name": "stdout",
     "output_type": "stream",
     "text": [
      "First 5 rows of the Iris dataset:\n",
      "   sepal_length  sepal_width  petal_length  petal_width      species\n",
      "0           5.1          3.5           1.4          0.2  Iris-setosa\n",
      "1           4.9          3.0           1.4          0.2  Iris-setosa\n",
      "2           4.7          3.2           1.3          0.2  Iris-setosa\n",
      "3           4.6          3.1           1.5          0.2  Iris-setosa\n",
      "4           5.0          3.6           1.4          0.2  Iris-setosa\n"
     ]
    }
   ],
   "source": [
    "# Using the Iris dataset from UCI Machine Learning Repository\n",
    "url = \"https://archive.ics.uci.edu/ml/machine-learning-databases/iris/iris.data\"\n",
    "\n",
    "# Adding column names since the dataset doesn't have headers\n",
    "column_names = ['sepal_length', 'sepal_width', 'petal_length', 'petal_width', 'species']\n",
    "\n",
    "# Reading the CSV file into a DataFrame\n",
    "df = pd.read_csv(url, header=None, names=column_names)\n",
    "\n",
    "# Displaying the first 5 rows of the DataFrame\n",
    "print(\"First 5 rows of the Iris dataset:\")\n",
    "print(df.head())"
   ]
  },
  {
   "cell_type": "markdown",
   "id": "ff3499a9-23fb-4756-a7aa-9cfde1bfe375",
   "metadata": {},
   "source": [
    "## Exporting Data to CSV"
   ]
  },
  {
   "cell_type": "code",
   "execution_count": 104,
   "id": "cf724ced-be44-46eb-b98d-77d3ceafde21",
   "metadata": {},
   "outputs": [],
   "source": [
    "# Exporting DataFrame to CSV\n",
    "df.to_csv('C:/Users/MASV/Downloads/output.csv', index=False)\n"
   ]
  },
  {
   "cell_type": "markdown",
   "id": "8f74f5ef-62dd-4af5-a426-f27a3dd82987",
   "metadata": {},
   "source": [
    "Reading and Writing Excel Files"
   ]
  },
  {
   "cell_type": "code",
   "execution_count": null,
   "id": "4d3a55a6-ad5e-4f1c-9647-e3fb8007fdc1",
   "metadata": {},
   "outputs": [],
   "source": [
    "# Reading Excel file\n",
    "df = pd.read_excel('path/to/your/file.xlsx', sheet_name='Sheet1')\n",
    "print(df.head())\n",
    "\n",
    "# Writing Excel file\n",
    "df.to_excel('path/to/your/output.xlsx', index=False)\n"
   ]
  },
  {
   "cell_type": "markdown",
   "id": "3f062f60-2246-46c8-8e25-967aea078b49",
   "metadata": {},
   "source": [
    "## 4. Data Exploration and Cleaning\n",
    "Viewing Data Information\n",
    "\n",
    "df.head() and df.tail()\n",
    "\n",
    "df.info() and df.describe()\n",
    "\n",
    "## Handling Missing Values"
   ]
  },
  {
   "cell_type": "code",
   "execution_count": 30,
   "id": "03316506-49f6-4c56-956e-14b9001651fa",
   "metadata": {},
   "outputs": [
    {
     "name": "stdout",
     "output_type": "stream",
     "text": [
      "Name      0\n",
      "Age       0\n",
      "Salary    0\n",
      "dtype: int64\n"
     ]
    }
   ],
   "source": [
    "# Creating DataFrame from a dictionary\n",
    "data = {\n",
    "    'Name': ['Alice', 'Bob', 'Charlie', 'David'],\n",
    "    'Age': [25, 30, 35, 40],\n",
    "    'Salary': [50000, 60000, 70000, 80000]\n",
    "}\n",
    "df = pd.DataFrame(data)\n",
    "\n",
    "# Checking for missing values\n",
    "print(df.isnull().sum())\n",
    "\n",
    "# Dropping missing values\n",
    "df_cleaned = df.dropna()\n",
    "\n",
    "# Filling missing values\n",
    "df_filled = df.fillna(value={'Age': 30, 'Salary': 0})\n"
   ]
  },
  {
   "cell_type": "markdown",
   "id": "f7269430-9eea-45e2-a234-e14a4396e2a9",
   "metadata": {},
   "source": [
    "### Data Type Conversion"
   ]
  },
  {
   "cell_type": "code",
   "execution_count": 32,
   "id": "c9b12f3d-8a3b-4373-920a-8b5c8d4d68a3",
   "metadata": {},
   "outputs": [],
   "source": [
    "\n",
    "# Converting data types\n",
    "df['Age'] = df['Age'].astype(float)\n"
   ]
  },
  {
   "cell_type": "markdown",
   "id": "f3a46012-875c-416c-ac46-1c6aadc77790",
   "metadata": {},
   "source": [
    "5. Data Manipulation\n",
    "Filtering Data"
   ]
  },
  {
   "cell_type": "code",
   "execution_count": 35,
   "id": "89a51746-791a-4698-8e74-5e4929aaaa38",
   "metadata": {},
   "outputs": [
    {
     "name": "stdout",
     "output_type": "stream",
     "text": [
      "      Name   Age  Salary\n",
      "2  Charlie  35.0   70000\n",
      "3    David  40.0   80000\n"
     ]
    }
   ],
   "source": [
    "# Filtering rows where Age > 30\n",
    "filtered_df = df[df['Age'] > 30]\n",
    "print(filtered_df)\n"
   ]
  },
  {
   "cell_type": "markdown",
   "id": "9cca5164-26a0-473b-afdf-cdffbe55f16a",
   "metadata": {},
   "source": [
    "## Sorting Data"
   ]
  },
  {
   "cell_type": "code",
   "execution_count": 38,
   "id": "6ff0e3e8-478f-4135-9c51-9daa1579e49c",
   "metadata": {},
   "outputs": [
    {
     "name": "stdout",
     "output_type": "stream",
     "text": [
      "      Name   Age  Salary\n",
      "0    Alice  25.0   50000\n",
      "1      Bob  30.0   60000\n",
      "2  Charlie  35.0   70000\n",
      "3    David  40.0   80000\n"
     ]
    }
   ],
   "source": [
    "# Sorting by Age\n",
    "sorted_df = df.sort_values(by='Age', ascending=True)\n",
    "print(sorted_df)\n"
   ]
  },
  {
   "cell_type": "markdown",
   "id": "79e43a20-0396-403e-acd7-8e99da3ffb1b",
   "metadata": {},
   "source": [
    "## Grouping and Aggregation"
   ]
  },
  {
   "cell_type": "code",
   "execution_count": 41,
   "id": "d40810ea-0636-40bf-85f8-77a8036a49b4",
   "metadata": {},
   "outputs": [
    {
     "name": "stdout",
     "output_type": "stream",
     "text": [
      "Age\n",
      "25.0    50000.0\n",
      "30.0    60000.0\n",
      "35.0    70000.0\n",
      "40.0    80000.0\n",
      "Name: Salary, dtype: float64\n"
     ]
    }
   ],
   "source": [
    "# Grouping and calculating mean salary by Age\n",
    "grouped_df = df.groupby('Age')['Salary'].mean()\n",
    "print(grouped_df)\n"
   ]
  },
  {
   "cell_type": "code",
   "execution_count": 43,
   "id": "6fef3062-e76e-41a1-bdd6-24187e89e1f5",
   "metadata": {},
   "outputs": [
    {
     "name": "stdout",
     "output_type": "stream",
     "text": [
      "Age\n",
      "25.0    50000.0\n",
      "30.0    60000.0\n",
      "35.0    70000.0\n",
      "40.0    80000.0\n",
      "Name: Salary, dtype: float64\n"
     ]
    }
   ],
   "source": [
    "# Grouping and calculating mean salary by Age\n",
    "grouped_df = df.groupby('Age')['Salary'].mean()\n",
    "print(grouped_df)\n"
   ]
  },
  {
   "cell_type": "markdown",
   "id": "67e8f16a-4118-4b46-9ea3-a9a9616f69db",
   "metadata": {},
   "source": [
    "## Merging and Concatenating DataFrames\n",
    "python\n",
    "Copy\n",
    "Edit\n"
   ]
  },
  {
   "cell_type": "code",
   "execution_count": 46,
   "id": "e2a1fd84-1e2a-4800-925c-2b0297dc13bf",
   "metadata": {},
   "outputs": [
    {
     "name": "stdout",
     "output_type": "stream",
     "text": [
      "   ID     Name  Salary\n",
      "0   1    Alice   50000\n",
      "1   2      Bob   60000\n",
      "2   3  Charlie   70000\n"
     ]
    }
   ],
   "source": [
    "# Merging DataFrames\n",
    "df1 = pd.DataFrame({'ID': [1, 2, 3], 'Name': ['Alice', 'Bob', 'Charlie']})\n",
    "df2 = pd.DataFrame({'ID': [1, 2, 3], 'Salary': [50000, 60000, 70000]})\n",
    "merged_df = pd.merge(df1, df2, on='ID')\n",
    "print(merged_df)\n"
   ]
  },
  {
   "cell_type": "markdown",
   "id": "396fe627-8ff7-40f3-a4a9-b6abc07c50e2",
   "metadata": {},
   "source": [
    "## 6. Data Visualization with Pandas\n",
    "Quick Plotting"
   ]
  },
  {
   "cell_type": "code",
   "execution_count": 49,
   "id": "eec607de-e3bc-41a3-9023-d4b5ab4d5685",
   "metadata": {},
   "outputs": [
    {
     "data": {
      "image/png": "[encoded data removed]",
      "text/plain": [
       "<Figure size 640x480 with 1 Axes>"
      ]
     },
     "metadata": {},
     "output_type": "display_data"
    }
   ],
   "source": [
    "import matplotlib.pyplot as plt\n",
    "\n",
    "# Plotting Age vs Salary\n",
    "df.plot(x='Age', y='Salary', kind='line')\n",
    "plt.title('Age vs Salary')\n",
    "plt.show()\n"
   ]
  },
  {
   "cell_type": "markdown",
   "id": "3d9e17b6-78dd-475b-829c-1ccf363786bd",
   "metadata": {},
   "source": [
    "## 7. Advanced Topics\n",
    "Applying Functions using apply()"
   ]
  },
  {
   "cell_type": "code",
   "execution_count": 51,
   "id": "e39c8164-a6a6-4b61-8d24-21ac3e54393d",
   "metadata": {},
   "outputs": [
    {
     "name": "stdout",
     "output_type": "stream",
     "text": [
      "      Name   Age  Salary  Salary Increment\n",
      "0    Alice  25.0   50000           55000.0\n",
      "1      Bob  30.0   60000           66000.0\n",
      "2  Charlie  35.0   70000           77000.0\n",
      "3    David  40.0   80000           88000.0\n"
     ]
    }
   ],
   "source": [
    "# Applying a function to a column\n",
    "df['Salary Increment'] = df['Salary'].apply(lambda x: x * 1.10)\n",
    "print(df)\n"
   ]
  },
  {
   "cell_type": "markdown",
   "id": "d2c51dad-6bb3-486c-bbd9-f0886bdf13f9",
   "metadata": {},
   "source": [
    "Pivot Tables"
   ]
  },
  {
   "cell_type": "code",
   "execution_count": 55,
   "id": "ceb7140a-b216-4d88-aa0a-b8dd772df993",
   "metadata": {},
   "outputs": [
    {
     "name": "stdout",
     "output_type": "stream",
     "text": [
      "       Salary\n",
      "Age          \n",
      "25.0  50000.0\n",
      "30.0  60000.0\n",
      "35.0  70000.0\n",
      "40.0  80000.0\n"
     ]
    }
   ],
   "source": [
    "# Creating a Pivot Table\n",
    "pivot_table = df.pivot_table(values='Salary', index='Age', aggfunc='mean')\n",
    "print(pivot_table)\n"
   ]
  },
  {
   "cell_type": "markdown",
   "id": "7029d677-4b61-4ae2-a8be-5e97ff56dba2",
   "metadata": {},
   "source": [
    "## 8. Real-World Example\n",
    "Let's analyze a sample dataset:\n",
    "\n",
    "Load a public dataset using Pandas"
   ]
  },
  {
   "cell_type": "code",
   "execution_count": 58,
   "id": "ef13a830-e4e0-482f-a9ad-b063c4a5c40f",
   "metadata": {},
   "outputs": [],
   "source": [
    "url = \"https://raw.githubusercontent.com/mwaskom/seaborn-data/master/tips.csv\"\n",
    "df = pd.read_csv(url)\n"
   ]
  },
  {
   "cell_type": "markdown",
   "id": "21eb27f9-ce95-4d4f-a3bc-f05ecd34935c",
   "metadata": {},
   "source": [
    "Perform basic data exploration\n",
    "Clean the data (handle missing values)\n",
    "Perform data manipulation (filtering, grouping)\n",
    "Visualize the data"
   ]
  },
  {
   "cell_type": "code",
   "execution_count": null,
   "id": "32ba7914-5c2f-4aaa-aea0-3243c21817cc",
   "metadata": {},
   "outputs": [],
   "source": []
  },
  {
   "cell_type": "code",
   "execution_count": null,
   "id": "46a3b863-1238-432d-bdbf-55d2ba6bb06f",
   "metadata": {},
   "outputs": [],
   "source": []
  },
  {
   "cell_type": "code",
   "execution_count": null,
   "id": "fd6589c9-5b08-4c56-9458-11c60146bb7f",
   "metadata": {},
   "outputs": [],
   "source": []
  }
 ],
 "metadata": {
  "kernelspec": {
   "display_name": "Python 3 (ipykernel)",
   "language": "python",
   "name": "python3"
  },
  "language_info": {
   "codemirror_mode": {
    "name": "ipython",
    "version": 3
   },
   "file_extension": ".py",
   "mimetype": "text/x-python",
   "name": "python",
   "nbconvert_exporter": "python",
   "pygments_lexer": "ipython3",
   "version": "3.12.4"
  }
 },
 "nbformat": 4,
 "nbformat_minor": 5
}
