{
 "cells": [
  {
   "cell_type": "markdown",
   "id": "017cb644-a2a1-43e7-9e2d-7163403bd3c0",
   "metadata": {},
   "source": [
    "\n",
    "# Introduction\n",
    "\n",
    "This book covers essential topics in feature selection and extraction, focusing on classical methods and modern machine learning approaches. Each chapter explores techniques, use cases, and practical examples.\n",
    "First chapter is an introduction to Pandas Library."
   ]
  },
  {
   "cell_type": "code",
   "execution_count": null,
   "id": "120347b6-9f50-4e39-9ecb-66df7399d2e7",
   "metadata": {},
   "outputs": [],
   "source": []
  }
 ],
 "metadata": {
  "kernelspec": {
   "display_name": "Python 3 (ipykernel)",
   "language": "python",
   "name": "python3"
  },
  "language_info": {
   "codemirror_mode": {
    "name": "ipython",
    "version": 3
   },
   "file_extension": ".py",
   "mimetype": "text/x-python",
   "name": "python",
   "nbconvert_exporter": "python",
   "pygments_lexer": "ipython3",
   "version": "3.12.4"
  }
 },
 "nbformat": 4,
 "nbformat_minor": 5
}
